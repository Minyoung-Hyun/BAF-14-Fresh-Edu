{
 "cells": [
  {
   "cell_type": "markdown",
   "id": "54548ea7",
   "metadata": {},
   "source": [
    "# 과제5 : 데이터 모델링2 - 현민영"
   ]
  },
  {
   "cell_type": "markdown",
   "id": "596f5f78",
   "metadata": {},
   "source": [
    "라이브러리 불러오기"
   ]
  },
  {
   "cell_type": "code",
   "execution_count": 1,
   "id": "9975a228",
   "metadata": {},
   "outputs": [],
   "source": [
    "import os\n",
    "import pandas as pd\n",
    "import numpy as np\n",
    "import matplotlib.pyplot as plt\n",
    "import seaborn as sns\n",
    "\n",
    "%config InlineBackend.figure_format = 'retina'  #선명하게 만들기\n",
    "\n",
    "import warnings\n",
    "warnings.filterwarnings(\"ignore\")\n",
    "\n",
    "pd.set_option('display.max_columns', None) # 모든 열 출력\n",
    "\n",
    "from sklearn.metrics import (\n",
    "    accuracy_score,\n",
    "    confusion_matrix,\n",
    "    f1_score,\n",
    "    precision_score,\n",
    "    recall_score,classification_report\n",
    ")\n",
    "from sklearn.model_selection import train_test_split, GridSearchCV\n",
    "from sklearn.linear_model import LinearRegression\n",
    "from sklearn.tree import DecisionTreeClassifier\n",
    "from sklearn.metrics import mean_squared_error, r2_score, mean_absolute_error"
   ]
  },
  {
   "cell_type": "markdown",
   "id": "4198af04",
   "metadata": {},
   "source": [
    "데이터 불러오기"
   ]
  },
  {
   "cell_type": "code",
   "execution_count": 3,
   "id": "d34b89b4",
   "metadata": {},
   "outputs": [
    {
     "data": {
      "text/plain": [
       "'C:\\\\Users\\\\myhyu\\\\OneDrive\\\\Desktop\\\\BAF'"
      ]
     },
     "execution_count": 3,
     "metadata": {},
     "output_type": "execute_result"
    }
   ],
   "source": [
    "# 작업중인 디렉토리 설정\n",
    "os.chdir(\"C:\\\\Users\\\\myhyu\\\\OneDrive\\\\Desktop\\\\BAF\")\n",
    "os.getcwd()"
   ]
  },
  {
   "cell_type": "code",
   "execution_count": 147,
   "id": "990e2445",
   "metadata": {},
   "outputs": [],
   "source": [
    "train = pd.read_csv(\"train_clean.csv\")\n",
    "test = pd.read_csv(\"test_clean.csv\")"
   ]
  },
  {
   "cell_type": "markdown",
   "id": "e6afee85",
   "metadata": {},
   "source": [
    "# 변수 설명   \n",
    "모든 데이터는 운영일을 기준으로 함.  \n",
    "선형회귀(Linear Reggresion)을 목표로 진행한 전처리임.  \n",
    "1차,2차 데이터 전처리 과정은 과제3,4에서 자세히 확인할 수 있음.\n",
    "  \n",
    "Target\n",
    "- BikeCount : 해당 날짜,시각별 자전거 대여 횟수\n",
    "\n",
    "Feature  \n",
    "- Date : 날짜\n",
    "- Hour : 시각\n",
    "- Temperature : 기온 (℃)\n",
    "- Humidity : 습도(%)\n",
    "- Windspeed : 풍속 (m/s)\n",
    "- Visibility : 가시성 (10m)\n",
    "- DewpointTem : 이슬점 온도 (℃) (이슬점은 공기 중의 수증기 양을 나타냄)\n",
    "- SolarRadiation : 지표면에 도달한 태양복사에너지 (MJ/m2)\n",
    "- Rainfall : 강수량 (mm)\n",
    "- Snowfall : 강설량 (cm)\n",
    "- Seasons : 계절\n",
    "- Holiday : 공휴일 여부"
   ]
  },
  {
   "cell_type": "code",
   "execution_count": 5,
   "id": "ae77cd8e",
   "metadata": {},
   "outputs": [
    {
     "name": "stdout",
     "output_type": "stream",
     "text": [
      "<class 'pandas.core.frame.DataFrame'>\n",
      "RangeIndex: 7817 entries, 0 to 7816\n",
      "Data columns (total 27 columns):\n",
      " #   Column              Non-Null Count  Dtype  \n",
      "---  ------              --------------  -----  \n",
      " 0   Seasons_Autumn      7817 non-null   int64  \n",
      " 1   Seasons_Spring      7817 non-null   int64  \n",
      " 2   Seasons_Summer      7817 non-null   int64  \n",
      " 3   Seasons_Winter      7817 non-null   int64  \n",
      " 4   Holiday_Holiday     7817 non-null   int64  \n",
      " 5   Holiday_No Holiday  7817 non-null   int64  \n",
      " 6   Date                7817 non-null   object \n",
      " 7   BikeCount           7817 non-null   int64  \n",
      " 8   Hour                7817 non-null   int64  \n",
      " 9   Temperature         7817 non-null   float64\n",
      " 10  Humidity            7817 non-null   int64  \n",
      " 11  Windspeed           7817 non-null   float64\n",
      " 12  Visibility          7817 non-null   int64  \n",
      " 13  DewpointTem         7817 non-null   float64\n",
      " 14  SolarRadiation      7817 non-null   float64\n",
      " 15  Rainfall            7817 non-null   float64\n",
      " 16  Snowfall            7817 non-null   float64\n",
      " 17  sd_BikeCount        7817 non-null   float64\n",
      " 18  sd_Hour             7817 non-null   float64\n",
      " 19  sd_Temperature      7817 non-null   float64\n",
      " 20  sd_Humidity         7817 non-null   float64\n",
      " 21  sd_Windspeed        7817 non-null   float64\n",
      " 22  sd_Visibility       7817 non-null   float64\n",
      " 23  sd_DewpointTem      7817 non-null   float64\n",
      " 24  sd_SolarRadiation   7817 non-null   float64\n",
      " 25  sd_Rainfall         7817 non-null   float64\n",
      " 26  sd_Snowfall         7817 non-null   float64\n",
      "dtypes: float64(16), int64(10), object(1)\n",
      "memory usage: 1.6+ MB\n"
     ]
    }
   ],
   "source": [
    "train.info()"
   ]
  },
  {
   "cell_type": "code",
   "execution_count": 129,
   "id": "5906f0d4",
   "metadata": {},
   "outputs": [
    {
     "name": "stdout",
     "output_type": "stream",
     "text": [
      "<class 'pandas.core.frame.DataFrame'>\n",
      "RangeIndex: 648 entries, 0 to 647\n",
      "Data columns (total 25 columns):\n",
      " #   Column              Non-Null Count  Dtype  \n",
      "---  ------              --------------  -----  \n",
      " 0   Seasons_Autumn      648 non-null    int64  \n",
      " 1   Seasons_Spring      648 non-null    int64  \n",
      " 2   Seasons_Summer      648 non-null    int64  \n",
      " 3   Seasons_Winter      648 non-null    int64  \n",
      " 4   Holiday_Holiday     648 non-null    int64  \n",
      " 5   Holiday_No Holiday  648 non-null    int64  \n",
      " 6   Date                648 non-null    object \n",
      " 7   Hour                648 non-null    int64  \n",
      " 8   Temperature         648 non-null    float64\n",
      " 9   Humidity            648 non-null    int64  \n",
      " 10  Windspeed           648 non-null    float64\n",
      " 11  Visibility          648 non-null    int64  \n",
      " 12  DewpointTem         648 non-null    float64\n",
      " 13  SolarRadiation      648 non-null    float64\n",
      " 14  Rainfall            648 non-null    float64\n",
      " 15  Snowfall            648 non-null    float64\n",
      " 16  sd_Hour             648 non-null    float64\n",
      " 17  sd_Temperature      648 non-null    float64\n",
      " 18  sd_Humidity         648 non-null    float64\n",
      " 19  sd_Windspeed        648 non-null    float64\n",
      " 20  sd_Visibility       648 non-null    float64\n",
      " 21  sd_DewpointTem      648 non-null    float64\n",
      " 22  sd_SolarRadiation   648 non-null    float64\n",
      " 23  sd_Rainfall         648 non-null    float64\n",
      " 24  sd_Snowfall         648 non-null    float64\n",
      "dtypes: float64(15), int64(9), object(1)\n",
      "memory usage: 126.7+ KB\n"
     ]
    }
   ],
   "source": [
    "test.info()"
   ]
  },
  {
   "cell_type": "markdown",
   "id": "aa08ce02",
   "metadata": {},
   "source": [
    "test셋을 임의로 분류하였기 때문에 \n",
    "- 원래 데이터의 11월의 데이터만 추출한 것임.\n",
    "- 모든 자료는 Seasons_Autumn, Holiday_No Holiday임."
   ]
  },
  {
   "cell_type": "markdown",
   "id": "d8dda9db",
   "metadata": {},
   "source": [
    "## train, vaild 분리"
   ]
  },
  {
   "cell_type": "code",
   "execution_count": 196,
   "id": "7bd1c35d",
   "metadata": {},
   "outputs": [],
   "source": [
    "X_train = train.drop(['BikeCount','sd_BikeCount'], axis = 1).copy()\n",
    "y_train = train['BikeCount'].copy()\n",
    "\n",
    "x_train, x_valid, y_train, y_valid = train_test_split(X_train, y_train, test_size=0.2, #valid dataset의 비율 20프로\n",
    "                                                      shuffle=True, random_state = 0)\n",
    "x_test = test.copy()"
   ]
  },
  {
   "cell_type": "markdown",
   "id": "802198ae",
   "metadata": {},
   "source": [
    "# 1. 모델 학습\n",
    "## 회귀 문제 모델 평가 \n",
    "- <span style='background-color:#ffdce0'>결정 계수 (R-squared, R2): \n",
    "    - 예측된 값이 target변수의 분산을 설명하는 비율\n",
    "    - 0~1, 값이 1에 가까울수록 모델이 데이터를 잘 설명한다는 것을 의미\n",
    "- <span style='background-color:#ffdce0'>평균 제곱 오차 (Mean Squared Error, MSE): \n",
    "    - 실제값과 예측값 간의 차이를 제곱하여 평균한 값 \n",
    "    - 값이 작을수록 모델이 더 정확하게 예측\n",
    "    - 이상치에 민감\n",
    "- 평균 절대 오차 (Mean Absolute Error, MSE)\n",
    "    - 예측값과 실제값의 차이의 절대값의 평균\n",
    "    - 모델이 평균적으로 얼마나 잘 예측하는지를 나타냄\n",
    "- 평균 제곱근 오차 (Root Mean Squared Error, RMSE)\n",
    "    - 예측값과 실제값의 차이의 제곱의 평균의 제곱근, MSE의 제곱근.\n",
    "    - RMSE가 작을수록 모델의 예측이 실제 값과 가까움."
   ]
  },
  {
   "cell_type": "markdown",
   "id": "50c10101",
   "metadata": {},
   "source": [
    "## 1.1 Linear Reggression\n",
    "- feature(독립변수)를 통해서 target(종속변수)의 변화(상관관계)를 선형으로 모델링.\n",
    "- 선형 회귀를 통해 인과관계를 유추할 수 있음.\n",
    "- MSE : 실제값과 직선 간의 거리가 오차이므로 오차가 작을수록 예측을 잘했다고 볼 수 있음.\n",
    "- 모든 변수 선택 / 상관관계가 높은 상위 변수만 선택 / 회귀계수가 높은 상위변수만 선택 등 다양한 방식 존재"
   ]
  },
  {
   "cell_type": "code",
   "execution_count": 6,
   "id": "e41ed12d",
   "metadata": {},
   "outputs": [],
   "source": [
    "from sklearn.linear_model import LinearRegression"
   ]
  },
  {
   "cell_type": "markdown",
   "id": "b79c3278",
   "metadata": {},
   "source": [
    "### 1.1.1 numeric, scaled 데이터셋\n",
    "데이터셋에서 scaling된 numeric 변수만 선택하여 새로운 데이터셋 생성"
   ]
  },
  {
   "cell_type": "code",
   "execution_count": 7,
   "id": "0aa324f8",
   "metadata": {},
   "outputs": [],
   "source": [
    "# train\n",
    "x_train1 = x_train.drop(x_train.columns[6:16], axis=1)\n",
    "y_train1 = y_train.copy()\n",
    "\n",
    "# valid\n",
    "x_valid1 = x_valid.drop(x_train.columns[6:16], axis=1)\n",
    "y_valid1 = y_valid.copy()\n",
    "\n",
    "# test\n",
    "x_test1 =  x_test.drop(x_train.columns[6:16], axis=1)"
   ]
  },
  {
   "cell_type": "markdown",
   "id": "5cdc582f",
   "metadata": {},
   "source": [
    "### 1.1.2 모든 변수로 모델학습"
   ]
  },
  {
   "cell_type": "code",
   "execution_count": 8,
   "id": "97813d91",
   "metadata": {},
   "outputs": [],
   "source": [
    "model1 = LinearRegression()\n",
    "# 선형 회귀는 모델 자체가 무작위성을 사용하지 않기 때문에 random_state를 설정할 필요가 없음"
   ]
  },
  {
   "cell_type": "code",
   "execution_count": 9,
   "id": "0aa89320",
   "metadata": {},
   "outputs": [
    {
     "name": "stdout",
     "output_type": "stream",
     "text": [
      "{'copy_X': True, 'fit_intercept': True, 'n_jobs': None, 'positive': False}\n"
     ]
    }
   ],
   "source": [
    "# 하이퍼파라미터 확인\n",
    "print(model1.get_params())"
   ]
  },
  {
   "cell_type": "code",
   "execution_count": 10,
   "id": "2d3fafb4",
   "metadata": {},
   "outputs": [
    {
     "data": {
      "text/html": [
       "<style>#sk-container-id-1 {color: black;background-color: white;}#sk-container-id-1 pre{padding: 0;}#sk-container-id-1 div.sk-toggleable {background-color: white;}#sk-container-id-1 label.sk-toggleable__label {cursor: pointer;display: block;width: 100%;margin-bottom: 0;padding: 0.3em;box-sizing: border-box;text-align: center;}#sk-container-id-1 label.sk-toggleable__label-arrow:before {content: \"▸\";float: left;margin-right: 0.25em;color: #696969;}#sk-container-id-1 label.sk-toggleable__label-arrow:hover:before {color: black;}#sk-container-id-1 div.sk-estimator:hover label.sk-toggleable__label-arrow:before {color: black;}#sk-container-id-1 div.sk-toggleable__content {max-height: 0;max-width: 0;overflow: hidden;text-align: left;background-color: #f0f8ff;}#sk-container-id-1 div.sk-toggleable__content pre {margin: 0.2em;color: black;border-radius: 0.25em;background-color: #f0f8ff;}#sk-container-id-1 input.sk-toggleable__control:checked~div.sk-toggleable__content {max-height: 200px;max-width: 100%;overflow: auto;}#sk-container-id-1 input.sk-toggleable__control:checked~label.sk-toggleable__label-arrow:before {content: \"▾\";}#sk-container-id-1 div.sk-estimator input.sk-toggleable__control:checked~label.sk-toggleable__label {background-color: #d4ebff;}#sk-container-id-1 div.sk-label input.sk-toggleable__control:checked~label.sk-toggleable__label {background-color: #d4ebff;}#sk-container-id-1 input.sk-hidden--visually {border: 0;clip: rect(1px 1px 1px 1px);clip: rect(1px, 1px, 1px, 1px);height: 1px;margin: -1px;overflow: hidden;padding: 0;position: absolute;width: 1px;}#sk-container-id-1 div.sk-estimator {font-family: monospace;background-color: #f0f8ff;border: 1px dotted black;border-radius: 0.25em;box-sizing: border-box;margin-bottom: 0.5em;}#sk-container-id-1 div.sk-estimator:hover {background-color: #d4ebff;}#sk-container-id-1 div.sk-parallel-item::after {content: \"\";width: 100%;border-bottom: 1px solid gray;flex-grow: 1;}#sk-container-id-1 div.sk-label:hover label.sk-toggleable__label {background-color: #d4ebff;}#sk-container-id-1 div.sk-serial::before {content: \"\";position: absolute;border-left: 1px solid gray;box-sizing: border-box;top: 0;bottom: 0;left: 50%;z-index: 0;}#sk-container-id-1 div.sk-serial {display: flex;flex-direction: column;align-items: center;background-color: white;padding-right: 0.2em;padding-left: 0.2em;position: relative;}#sk-container-id-1 div.sk-item {position: relative;z-index: 1;}#sk-container-id-1 div.sk-parallel {display: flex;align-items: stretch;justify-content: center;background-color: white;position: relative;}#sk-container-id-1 div.sk-item::before, #sk-container-id-1 div.sk-parallel-item::before {content: \"\";position: absolute;border-left: 1px solid gray;box-sizing: border-box;top: 0;bottom: 0;left: 50%;z-index: -1;}#sk-container-id-1 div.sk-parallel-item {display: flex;flex-direction: column;z-index: 1;position: relative;background-color: white;}#sk-container-id-1 div.sk-parallel-item:first-child::after {align-self: flex-end;width: 50%;}#sk-container-id-1 div.sk-parallel-item:last-child::after {align-self: flex-start;width: 50%;}#sk-container-id-1 div.sk-parallel-item:only-child::after {width: 0;}#sk-container-id-1 div.sk-dashed-wrapped {border: 1px dashed gray;margin: 0 0.4em 0.5em 0.4em;box-sizing: border-box;padding-bottom: 0.4em;background-color: white;}#sk-container-id-1 div.sk-label label {font-family: monospace;font-weight: bold;display: inline-block;line-height: 1.2em;}#sk-container-id-1 div.sk-label-container {text-align: center;}#sk-container-id-1 div.sk-container {/* jupyter's `normalize.less` sets `[hidden] { display: none; }` but bootstrap.min.css set `[hidden] { display: none !important; }` so we also need the `!important` here to be able to override the default hidden behavior on the sphinx rendered scikit-learn.org. See: https://github.com/scikit-learn/scikit-learn/issues/21755 */display: inline-block !important;position: relative;}#sk-container-id-1 div.sk-text-repr-fallback {display: none;}</style><div id=\"sk-container-id-1\" class=\"sk-top-container\"><div class=\"sk-text-repr-fallback\"><pre>LinearRegression()</pre><b>In a Jupyter environment, please rerun this cell to show the HTML representation or trust the notebook. <br />On GitHub, the HTML representation is unable to render, please try loading this page with nbviewer.org.</b></div><div class=\"sk-container\" hidden><div class=\"sk-item\"><div class=\"sk-estimator sk-toggleable\"><input class=\"sk-toggleable__control sk-hidden--visually\" id=\"sk-estimator-id-1\" type=\"checkbox\" checked><label for=\"sk-estimator-id-1\" class=\"sk-toggleable__label sk-toggleable__label-arrow\">LinearRegression</label><div class=\"sk-toggleable__content\"><pre>LinearRegression()</pre></div></div></div></div></div>"
      ],
      "text/plain": [
       "LinearRegression()"
      ]
     },
     "execution_count": 10,
     "metadata": {},
     "output_type": "execute_result"
    }
   ],
   "source": [
    "model1.fit(x_train1, y_train1)"
   ]
  },
  {
   "cell_type": "code",
   "execution_count": 11,
   "id": "e3f74ae5",
   "metadata": {},
   "outputs": [],
   "source": [
    "# 모든 feature를 포함하여 선형 회귀 모델 학습\n",
    "pred1_full = model1.predict(x_valid1)\n",
    "mse_full = mean_squared_error(y_valid1, pred1_full)\n",
    "r2_full = r2_score(y_valid1, pred1_full)"
   ]
  },
  {
   "cell_type": "markdown",
   "id": "6ad48ecc",
   "metadata": {},
   "source": [
    "### 1.1.3 회귀계수로 변수 선택 후 모델 학습\n",
    " Coefficients (회귀계수) \n",
    "   - 각 feature의 영향력\n",
    "   - 양수면 target변수를 증가시키고, 음수면 감소시킴\n",
    "   - 값이 클수록 영향력이 큼  \n",
    "   \n",
    "intercept (y절편)\n",
    "   - 모든 feature가 0일 때의 target변수의 예측값\n",
    "   - 모델의 예측을 시작하는 점, 초기 예측값으로 target변수의 기본적이 예측값"
   ]
  },
  {
   "cell_type": "code",
   "execution_count": 12,
   "id": "08be5c54",
   "metadata": {},
   "outputs": [
    {
     "name": "stdout",
     "output_type": "stream",
     "text": [
      "               Feature  Coefficient\n",
      "0       Seasons_Autumn   201.409536\n",
      "1       Seasons_Spring    20.986002\n",
      "2       Seasons_Summer    25.655785\n",
      "3       Seasons_Winter  -248.051323\n",
      "4      Holiday_Holiday   -51.407055\n",
      "5   Holiday_No Holiday    51.407055\n",
      "6              sd_Hour   206.265778\n",
      "7       sd_Temperature   202.864494\n",
      "8          sd_Humidity  -233.094031\n",
      "9         sd_Windspeed    10.733970\n",
      "10       sd_Visibility    -0.422410\n",
      "11      sd_DewpointTem   127.369371\n",
      "12   sd_SolarRadiation   -70.979220\n",
      "13         sd_Rainfall   -69.964778\n",
      "14         sd_Snowfall    26.812586\n",
      "y절편: 706.32\n"
     ]
    }
   ],
   "source": [
    "coefficients = model1.coef_\n",
    "intercept = model1.intercept_\n",
    "coef_df = pd.DataFrame({'Feature': x_train1.columns, 'Coefficient': coefficients})\n",
    "print(coef_df)\n",
    "print(\"y절편:\", intercept.round(2))"
   ]
  },
  {
   "cell_type": "markdown",
   "id": "8930aab1",
   "metadata": {},
   "source": [
    "- coefficients : 각 feature가 증가할 때 자전거 대여횟수의 증가량\n",
    " \n",
    "- intercept (y절편) : \n",
    "     - 모든 feature가 0일 때 target인 자전거 대여횟수의 초기추정치는 706.32\n",
    "     - 즉, 다른 영향이 없는 경우에도 약 706대의 자전거가 대여될 것으로 예상가능"
   ]
  },
  {
   "cell_type": "code",
   "execution_count": 13,
   "id": "1750607e",
   "metadata": {},
   "outputs": [
    {
     "data": {
      "text/html": [
       "<style>#sk-container-id-2 {color: black;background-color: white;}#sk-container-id-2 pre{padding: 0;}#sk-container-id-2 div.sk-toggleable {background-color: white;}#sk-container-id-2 label.sk-toggleable__label {cursor: pointer;display: block;width: 100%;margin-bottom: 0;padding: 0.3em;box-sizing: border-box;text-align: center;}#sk-container-id-2 label.sk-toggleable__label-arrow:before {content: \"▸\";float: left;margin-right: 0.25em;color: #696969;}#sk-container-id-2 label.sk-toggleable__label-arrow:hover:before {color: black;}#sk-container-id-2 div.sk-estimator:hover label.sk-toggleable__label-arrow:before {color: black;}#sk-container-id-2 div.sk-toggleable__content {max-height: 0;max-width: 0;overflow: hidden;text-align: left;background-color: #f0f8ff;}#sk-container-id-2 div.sk-toggleable__content pre {margin: 0.2em;color: black;border-radius: 0.25em;background-color: #f0f8ff;}#sk-container-id-2 input.sk-toggleable__control:checked~div.sk-toggleable__content {max-height: 200px;max-width: 100%;overflow: auto;}#sk-container-id-2 input.sk-toggleable__control:checked~label.sk-toggleable__label-arrow:before {content: \"▾\";}#sk-container-id-2 div.sk-estimator input.sk-toggleable__control:checked~label.sk-toggleable__label {background-color: #d4ebff;}#sk-container-id-2 div.sk-label input.sk-toggleable__control:checked~label.sk-toggleable__label {background-color: #d4ebff;}#sk-container-id-2 input.sk-hidden--visually {border: 0;clip: rect(1px 1px 1px 1px);clip: rect(1px, 1px, 1px, 1px);height: 1px;margin: -1px;overflow: hidden;padding: 0;position: absolute;width: 1px;}#sk-container-id-2 div.sk-estimator {font-family: monospace;background-color: #f0f8ff;border: 1px dotted black;border-radius: 0.25em;box-sizing: border-box;margin-bottom: 0.5em;}#sk-container-id-2 div.sk-estimator:hover {background-color: #d4ebff;}#sk-container-id-2 div.sk-parallel-item::after {content: \"\";width: 100%;border-bottom: 1px solid gray;flex-grow: 1;}#sk-container-id-2 div.sk-label:hover label.sk-toggleable__label {background-color: #d4ebff;}#sk-container-id-2 div.sk-serial::before {content: \"\";position: absolute;border-left: 1px solid gray;box-sizing: border-box;top: 0;bottom: 0;left: 50%;z-index: 0;}#sk-container-id-2 div.sk-serial {display: flex;flex-direction: column;align-items: center;background-color: white;padding-right: 0.2em;padding-left: 0.2em;position: relative;}#sk-container-id-2 div.sk-item {position: relative;z-index: 1;}#sk-container-id-2 div.sk-parallel {display: flex;align-items: stretch;justify-content: center;background-color: white;position: relative;}#sk-container-id-2 div.sk-item::before, #sk-container-id-2 div.sk-parallel-item::before {content: \"\";position: absolute;border-left: 1px solid gray;box-sizing: border-box;top: 0;bottom: 0;left: 50%;z-index: -1;}#sk-container-id-2 div.sk-parallel-item {display: flex;flex-direction: column;z-index: 1;position: relative;background-color: white;}#sk-container-id-2 div.sk-parallel-item:first-child::after {align-self: flex-end;width: 50%;}#sk-container-id-2 div.sk-parallel-item:last-child::after {align-self: flex-start;width: 50%;}#sk-container-id-2 div.sk-parallel-item:only-child::after {width: 0;}#sk-container-id-2 div.sk-dashed-wrapped {border: 1px dashed gray;margin: 0 0.4em 0.5em 0.4em;box-sizing: border-box;padding-bottom: 0.4em;background-color: white;}#sk-container-id-2 div.sk-label label {font-family: monospace;font-weight: bold;display: inline-block;line-height: 1.2em;}#sk-container-id-2 div.sk-label-container {text-align: center;}#sk-container-id-2 div.sk-container {/* jupyter's `normalize.less` sets `[hidden] { display: none; }` but bootstrap.min.css set `[hidden] { display: none !important; }` so we also need the `!important` here to be able to override the default hidden behavior on the sphinx rendered scikit-learn.org. See: https://github.com/scikit-learn/scikit-learn/issues/21755 */display: inline-block !important;position: relative;}#sk-container-id-2 div.sk-text-repr-fallback {display: none;}</style><div id=\"sk-container-id-2\" class=\"sk-top-container\"><div class=\"sk-text-repr-fallback\"><pre>LinearRegression()</pre><b>In a Jupyter environment, please rerun this cell to show the HTML representation or trust the notebook. <br />On GitHub, the HTML representation is unable to render, please try loading this page with nbviewer.org.</b></div><div class=\"sk-container\" hidden><div class=\"sk-item\"><div class=\"sk-estimator sk-toggleable\"><input class=\"sk-toggleable__control sk-hidden--visually\" id=\"sk-estimator-id-2\" type=\"checkbox\" checked><label for=\"sk-estimator-id-2\" class=\"sk-toggleable__label sk-toggleable__label-arrow\">LinearRegression</label><div class=\"sk-toggleable__content\"><pre>LinearRegression()</pre></div></div></div></div></div>"
      ],
      "text/plain": [
       "LinearRegression()"
      ]
     },
     "execution_count": 13,
     "metadata": {},
     "output_type": "execute_result"
    }
   ],
   "source": [
    "# 계수와 feature 이름으로 이루어진 데이터프레임 생성\n",
    "coefficients_df = pd.DataFrame({'Feature': x_train1.columns, 'Coefficient': coefficients})\n",
    "\n",
    "# 상위 10개의 feature 선택\n",
    "top_features = coefficients_df.nlargest(10, 'Coefficient')['Feature'].tolist()\n",
    "\n",
    "# 선택된 feature들만 포함하여 데이터셋 구성\n",
    "x_train1_coff = x_train1[top_features]\n",
    "x_valid1_coff = x_valid1[top_features]\n",
    "\n",
    "# 선형 회귀 모델 학습\n",
    "model1.fit(x_train1_coff, y_train)"
   ]
  },
  {
   "cell_type": "code",
   "execution_count": 14,
   "id": "12368ad8",
   "metadata": {},
   "outputs": [],
   "source": [
    "# 회귀계수 상위10개 feature를 포함하여 선형 회귀 모델 학습\n",
    "pred1_coff = model1.predict(x_valid1_coff)\n",
    "mse_coff = mean_squared_error(y_valid1, pred1_coff)\n",
    "r2_coff = r2_score(y_valid1, pred1_coff)"
   ]
  },
  {
   "cell_type": "markdown",
   "id": "8736d703",
   "metadata": {},
   "source": [
    "### 1.1.4 상관계수로 변수 선택 후 모델 학습"
   ]
  },
  {
   "cell_type": "code",
   "execution_count": 15,
   "id": "220eaf4d",
   "metadata": {},
   "outputs": [],
   "source": [
    "# 타겟 변수와 feature들을 포함하여 상관관계 계산\n",
    "correlation_matrix = pd.concat([x_train1, y_train], axis=1).corr()\n",
    "\n",
    "# target과의 상관관계가 높은 상위 10개 feature 선택\n",
    "top_cor = correlation_matrix.abs().nlargest(11, 'BikeCount')['BikeCount'].index[1:]"
   ]
  },
  {
   "cell_type": "code",
   "execution_count": 16,
   "id": "96e84cd3",
   "metadata": {},
   "outputs": [
    {
     "data": {
      "text/plain": [
       "Index(['sd_Temperature', 'Seasons_Winter', 'sd_Hour', 'sd_DewpointTem',\n",
       "       'Seasons_Summer', 'sd_SolarRadiation', 'sd_Visibility',\n",
       "       'Seasons_Autumn', 'sd_Humidity', 'sd_Snowfall'],\n",
       "      dtype='object')"
      ]
     },
     "execution_count": 16,
     "metadata": {},
     "output_type": "execute_result"
    }
   ],
   "source": [
    "top_cor"
   ]
  },
  {
   "cell_type": "code",
   "execution_count": 17,
   "id": "a1ccf444",
   "metadata": {},
   "outputs": [],
   "source": [
    "# 선택된 feature들만 포함하여 데이터셋 구성\n",
    "x_train1_cor = x_train1[top_cor]\n",
    "x_valid1_cor = x_valid1[top_cor]\n",
    "\n",
    "# 선형 회귀 모델 학습\n",
    "model1.fit(x_train1_cor, y_train1)\n",
    "\n",
    "# 학습된 모델로 예측\n",
    "pred1_cor = model1.predict(x_valid1_cor)"
   ]
  },
  {
   "cell_type": "markdown",
   "id": "14a8e012",
   "metadata": {},
   "source": [
    "### 1.1.5 모델 평가\n",
    "- [전체 변수 선택 > 상관관계 상위10변수 선택 > 회귀계수 상위10변수 선택] 순서로 예측 성능이 좋음.  \n",
    "전체 변수를 이용하자!"
   ]
  },
  {
   "cell_type": "code",
   "execution_count": 24,
   "id": "5b4f5bdb",
   "metadata": {},
   "outputs": [],
   "source": [
    "def model_eval(y_test, y_pred):\n",
    "    mse = mean_squared_error(y_test, y_pred)\n",
    "    r2 = r2_score(y_test, y_pred)\n",
    "    mae = mean_absolute_error(y_test, y_pred)\n",
    "    rmse = np.sqrt(mean_squared_error(y_test, y_pred))\n",
    "    \n",
    "    print(\"R-squared: {:.4f}\".format(r2))\n",
    "    print(\"MSE: {:.4f}\".format(mse))\n",
    "    print(\"MAE: {:.4f}\".format(mae))\n",
    "    print(\"RMSE: {:.4f}\".format(rmse))"
   ]
  },
  {
   "cell_type": "code",
   "execution_count": 19,
   "id": "54a67ced",
   "metadata": {},
   "outputs": [
    {
     "name": "stdout",
     "output_type": "stream",
     "text": [
      "R-squared: 0.5460\n",
      "MSE: 201057.8515\n",
      "MAE: 336.8755\n",
      "RMSE: 448.3947\n"
     ]
    }
   ],
   "source": [
    "# 모든 변수 선택\n",
    "model_eval(y_valid1, pred1_full)"
   ]
  },
  {
   "cell_type": "code",
   "execution_count": 20,
   "id": "b0c72d01",
   "metadata": {},
   "outputs": [
    {
     "name": "stdout",
     "output_type": "stream",
     "text": [
      "R-squared: 0.5178\n",
      "MSE: 213557.9023\n",
      "MAE: 347.7326\n",
      "RMSE: 462.1233\n"
     ]
    }
   ],
   "source": [
    "# 회귀계수가 높은 변수 10개 선택\n",
    "model_eval(y_valid1, pred1_coff)"
   ]
  },
  {
   "cell_type": "code",
   "execution_count": 21,
   "id": "aa17221d",
   "metadata": {},
   "outputs": [
    {
     "name": "stdout",
     "output_type": "stream",
     "text": [
      "R-squared: 0.5291\n",
      "MSE: 208535.7478\n",
      "MAE: 342.8437\n",
      "RMSE: 456.6571\n"
     ]
    }
   ],
   "source": [
    "# 상관관계가 높은 변수 8개 선택\n",
    "model_eval(y_valid1, pred1_cor)"
   ]
  },
  {
   "cell_type": "markdown",
   "id": "c9241926",
   "metadata": {},
   "source": [
    "# 1.2 Decision Tree\n",
    "- 트리(Tree) 구조를 사용하여 데이터를 분류하거나 예측 \n",
    "- 일반적으로 데이터의 스케일링이나 정규화가 필요X\n",
    "- 직관적이며 해석하기 쉬운 모델 : 나무 구조로 데이터의 패턴을 이해하기 쉬움\n",
    "- 주어진 입력값들의 조합에 대한 의사결정규칙에 따라 출력값 예측\n",
    "- 범주형 변수와 수치형 변수를 모두 처리할 수 있음.\n",
    "- 비선형 관계도 모델링 할 수 있음.\n",
    "- 과적합 Overfitting되기 쉽다는 단점.(일반화 성능이 저하될 수 있음)"
   ]
  },
  {
   "cell_type": "code",
   "execution_count": 87,
   "id": "a35339ce",
   "metadata": {},
   "outputs": [],
   "source": [
    "from sklearn.tree import DecisionTreeClassifier"
   ]
  },
  {
   "cell_type": "code",
   "execution_count": 23,
   "id": "d490ad17",
   "metadata": {},
   "outputs": [],
   "source": [
    "model2 = DecisionTreeClassifier(# max_depth = 5,\n",
    "                        random_state = 42) #실행할 때마다 랜덤한 값을 갖지 않도록 함"
   ]
  },
  {
   "cell_type": "code",
   "execution_count": 24,
   "id": "730d0964",
   "metadata": {},
   "outputs": [
    {
     "name": "stdout",
     "output_type": "stream",
     "text": [
      "{'ccp_alpha': 0.0, 'class_weight': None, 'criterion': 'gini', 'max_depth': None, 'max_features': None, 'max_leaf_nodes': None, 'min_impurity_decrease': 0.0, 'min_samples_leaf': 1, 'min_samples_split': 2, 'min_weight_fraction_leaf': 0.0, 'random_state': 42, 'splitter': 'best'}\n"
     ]
    }
   ],
   "source": [
    "#하이퍼파라미터 확인\n",
    "print(model2.get_params())"
   ]
  },
  {
   "cell_type": "markdown",
   "id": "cd11b290",
   "metadata": {},
   "source": [
    "### 1.2.1 데이터셋 확인"
   ]
  },
  {
   "cell_type": "code",
   "execution_count": 197,
   "id": "dd541b8b",
   "metadata": {},
   "outputs": [
    {
     "name": "stdout",
     "output_type": "stream",
     "text": [
      "<class 'pandas.core.frame.DataFrame'>\n",
      "Int64Index: 6253 entries, 6661 to 2732\n",
      "Data columns (total 15 columns):\n",
      " #   Column              Non-Null Count  Dtype  \n",
      "---  ------              --------------  -----  \n",
      " 0   Seasons_Autumn      6253 non-null   int64  \n",
      " 1   Seasons_Spring      6253 non-null   int64  \n",
      " 2   Seasons_Summer      6253 non-null   int64  \n",
      " 3   Seasons_Winter      6253 non-null   int64  \n",
      " 4   Holiday_Holiday     6253 non-null   int64  \n",
      " 5   Holiday_No Holiday  6253 non-null   int64  \n",
      " 6   Hour                6253 non-null   int64  \n",
      " 7   Temperature         6253 non-null   float64\n",
      " 8   Humidity            6253 non-null   int64  \n",
      " 9   Windspeed           6253 non-null   float64\n",
      " 10  Visibility          6253 non-null   int64  \n",
      " 11  DewpointTem         6253 non-null   float64\n",
      " 12  SolarRadiation      6253 non-null   float64\n",
      " 13  Rainfall            6253 non-null   float64\n",
      " 14  Snowfall            6253 non-null   float64\n",
      "dtypes: float64(6), int64(9)\n",
      "memory usage: 781.6 KB\n",
      "None\n"
     ]
    }
   ],
   "source": [
    "# train\n",
    "x_train2 = x_train.drop(x_train.columns[16:25], axis=1)\n",
    "x_train2 = x_train2.drop(x_train.columns[6], axis=1)\n",
    "y_train2 = y_train.copy()\n",
    "\n",
    "# valid\n",
    "x_valid2 = x_valid.drop(x_train.columns[16:25], axis=1)\n",
    "x_valid2 = x_valid2.drop(x_train.columns[6], axis=1)\n",
    "y_valid2 = y_valid.copy()\n",
    "\n",
    "# test\n",
    "x_test2 =  x_test.drop(x_train.columns[16:25], axis=1)\n",
    "x_test2 = x_test2.drop(x_train.columns[6], axis=1)\n",
    "\n",
    "# scaling을 하지 않은 데이터만 모음.\n",
    "print(x_train2.info())"
   ]
  },
  {
   "cell_type": "markdown",
   "id": "693203fa",
   "metadata": {},
   "source": [
    "### 1.2.2 모델 학습"
   ]
  },
  {
   "cell_type": "code",
   "execution_count": 26,
   "id": "6d8d569b",
   "metadata": {},
   "outputs": [
    {
     "data": {
      "text/html": [
       "<style>#sk-container-id-3 {color: black;background-color: white;}#sk-container-id-3 pre{padding: 0;}#sk-container-id-3 div.sk-toggleable {background-color: white;}#sk-container-id-3 label.sk-toggleable__label {cursor: pointer;display: block;width: 100%;margin-bottom: 0;padding: 0.3em;box-sizing: border-box;text-align: center;}#sk-container-id-3 label.sk-toggleable__label-arrow:before {content: \"▸\";float: left;margin-right: 0.25em;color: #696969;}#sk-container-id-3 label.sk-toggleable__label-arrow:hover:before {color: black;}#sk-container-id-3 div.sk-estimator:hover label.sk-toggleable__label-arrow:before {color: black;}#sk-container-id-3 div.sk-toggleable__content {max-height: 0;max-width: 0;overflow: hidden;text-align: left;background-color: #f0f8ff;}#sk-container-id-3 div.sk-toggleable__content pre {margin: 0.2em;color: black;border-radius: 0.25em;background-color: #f0f8ff;}#sk-container-id-3 input.sk-toggleable__control:checked~div.sk-toggleable__content {max-height: 200px;max-width: 100%;overflow: auto;}#sk-container-id-3 input.sk-toggleable__control:checked~label.sk-toggleable__label-arrow:before {content: \"▾\";}#sk-container-id-3 div.sk-estimator input.sk-toggleable__control:checked~label.sk-toggleable__label {background-color: #d4ebff;}#sk-container-id-3 div.sk-label input.sk-toggleable__control:checked~label.sk-toggleable__label {background-color: #d4ebff;}#sk-container-id-3 input.sk-hidden--visually {border: 0;clip: rect(1px 1px 1px 1px);clip: rect(1px, 1px, 1px, 1px);height: 1px;margin: -1px;overflow: hidden;padding: 0;position: absolute;width: 1px;}#sk-container-id-3 div.sk-estimator {font-family: monospace;background-color: #f0f8ff;border: 1px dotted black;border-radius: 0.25em;box-sizing: border-box;margin-bottom: 0.5em;}#sk-container-id-3 div.sk-estimator:hover {background-color: #d4ebff;}#sk-container-id-3 div.sk-parallel-item::after {content: \"\";width: 100%;border-bottom: 1px solid gray;flex-grow: 1;}#sk-container-id-3 div.sk-label:hover label.sk-toggleable__label {background-color: #d4ebff;}#sk-container-id-3 div.sk-serial::before {content: \"\";position: absolute;border-left: 1px solid gray;box-sizing: border-box;top: 0;bottom: 0;left: 50%;z-index: 0;}#sk-container-id-3 div.sk-serial {display: flex;flex-direction: column;align-items: center;background-color: white;padding-right: 0.2em;padding-left: 0.2em;position: relative;}#sk-container-id-3 div.sk-item {position: relative;z-index: 1;}#sk-container-id-3 div.sk-parallel {display: flex;align-items: stretch;justify-content: center;background-color: white;position: relative;}#sk-container-id-3 div.sk-item::before, #sk-container-id-3 div.sk-parallel-item::before {content: \"\";position: absolute;border-left: 1px solid gray;box-sizing: border-box;top: 0;bottom: 0;left: 50%;z-index: -1;}#sk-container-id-3 div.sk-parallel-item {display: flex;flex-direction: column;z-index: 1;position: relative;background-color: white;}#sk-container-id-3 div.sk-parallel-item:first-child::after {align-self: flex-end;width: 50%;}#sk-container-id-3 div.sk-parallel-item:last-child::after {align-self: flex-start;width: 50%;}#sk-container-id-3 div.sk-parallel-item:only-child::after {width: 0;}#sk-container-id-3 div.sk-dashed-wrapped {border: 1px dashed gray;margin: 0 0.4em 0.5em 0.4em;box-sizing: border-box;padding-bottom: 0.4em;background-color: white;}#sk-container-id-3 div.sk-label label {font-family: monospace;font-weight: bold;display: inline-block;line-height: 1.2em;}#sk-container-id-3 div.sk-label-container {text-align: center;}#sk-container-id-3 div.sk-container {/* jupyter's `normalize.less` sets `[hidden] { display: none; }` but bootstrap.min.css set `[hidden] { display: none !important; }` so we also need the `!important` here to be able to override the default hidden behavior on the sphinx rendered scikit-learn.org. See: https://github.com/scikit-learn/scikit-learn/issues/21755 */display: inline-block !important;position: relative;}#sk-container-id-3 div.sk-text-repr-fallback {display: none;}</style><div id=\"sk-container-id-3\" class=\"sk-top-container\"><div class=\"sk-text-repr-fallback\"><pre>DecisionTreeClassifier(random_state=42)</pre><b>In a Jupyter environment, please rerun this cell to show the HTML representation or trust the notebook. <br />On GitHub, the HTML representation is unable to render, please try loading this page with nbviewer.org.</b></div><div class=\"sk-container\" hidden><div class=\"sk-item\"><div class=\"sk-estimator sk-toggleable\"><input class=\"sk-toggleable__control sk-hidden--visually\" id=\"sk-estimator-id-3\" type=\"checkbox\" checked><label for=\"sk-estimator-id-3\" class=\"sk-toggleable__label sk-toggleable__label-arrow\">DecisionTreeClassifier</label><div class=\"sk-toggleable__content\"><pre>DecisionTreeClassifier(random_state=42)</pre></div></div></div></div></div>"
      ],
      "text/plain": [
       "DecisionTreeClassifier(random_state=42)"
      ]
     },
     "execution_count": 26,
     "metadata": {},
     "output_type": "execute_result"
    }
   ],
   "source": [
    "model2.fit(x_train2, y_train2)"
   ]
  },
  {
   "cell_type": "code",
   "execution_count": 27,
   "id": "ea7af138",
   "metadata": {},
   "outputs": [],
   "source": [
    "# 의사결정트리 모델 학습\n",
    "pred2 = model2.predict(x_valid2)\n",
    "mse2 = mean_squared_error(y_valid2, pred2)\n",
    "r22 = r2_score(y_valid2, pred2)"
   ]
  },
  {
   "cell_type": "markdown",
   "id": "f1f93513",
   "metadata": {},
   "source": [
    "### 1.2.3 모델 평가"
   ]
  },
  {
   "cell_type": "code",
   "execution_count": 32,
   "id": "efcc8e50",
   "metadata": {},
   "outputs": [
    {
     "name": "stdout",
     "output_type": "stream",
     "text": [
      "R-squared: 0.6586\n",
      "MSE: 151203.4636\n",
      "MAE: 240.1260\n",
      "RMSE: 388.8489\n"
     ]
    }
   ],
   "source": [
    "model_eval(y_valid2, pred2)"
   ]
  },
  {
   "cell_type": "markdown",
   "id": "d14e7c84",
   "metadata": {},
   "source": [
    "# 1.3 Random Forest\n",
    "- 의사결정트리(Decision Tree)를 기반으로 한 앙상블(Ensemble) 학습 방법\n",
    "- 여러 개의 의사결정트리를 생성하고 각 트리의 예측을 종합하여 최종 예측을 수행\n",
    "- 분류와 회귀 문제에 모두 사용할 수 있음\n",
    "- 일반화 및 성능이 우수, 과적합이 드물게 일어남\n",
    "- 하이퍼파라미터 튜닝이 비교적 간단\n",
    "- 훈련시 메모리 소모가 크다는 단점.\n",
    "- 개별트리 분석이 어렵고 트리 분리가 복잡해지는 경향 존재."
   ]
  },
  {
   "cell_type": "code",
   "execution_count": 155,
   "id": "eb6f3b8a",
   "metadata": {},
   "outputs": [],
   "source": [
    "from sklearn.ensemble import RandomForestClassifier"
   ]
  },
  {
   "cell_type": "code",
   "execution_count": 29,
   "id": "9c0c63e8",
   "metadata": {},
   "outputs": [],
   "source": [
    "model3 = RandomForestClassifier(random_state=42)"
   ]
  },
  {
   "cell_type": "code",
   "execution_count": 30,
   "id": "f751218f",
   "metadata": {},
   "outputs": [
    {
     "name": "stdout",
     "output_type": "stream",
     "text": [
      "{'bootstrap': True, 'ccp_alpha': 0.0, 'class_weight': None, 'criterion': 'gini', 'max_depth': None, 'max_features': 'sqrt', 'max_leaf_nodes': None, 'max_samples': None, 'min_impurity_decrease': 0.0, 'min_samples_leaf': 1, 'min_samples_split': 2, 'min_weight_fraction_leaf': 0.0, 'n_estimators': 100, 'n_jobs': None, 'oob_score': False, 'random_state': 42, 'verbose': 0, 'warm_start': False}\n"
     ]
    }
   ],
   "source": [
    "# 하이퍼파라미터 확인\n",
    "print(model3.get_params())"
   ]
  },
  {
   "cell_type": "markdown",
   "id": "97152e5e",
   "metadata": {},
   "source": [
    "### 1.3.1 데이터셋 확인"
   ]
  },
  {
   "cell_type": "code",
   "execution_count": 31,
   "id": "d23edeb1",
   "metadata": {},
   "outputs": [],
   "source": [
    "x_train3 = x_train2.copy()\n",
    "y_train3 = y_train2.copy()\n",
    "x_valid3 = x_valid2.copy()\n",
    "y_valid3 = y_valid2.copy()\n",
    "x_test3 = x_test2.copy()"
   ]
  },
  {
   "cell_type": "markdown",
   "id": "baef1364",
   "metadata": {},
   "source": [
    "### 1.3.2 모델 학습"
   ]
  },
  {
   "cell_type": "code",
   "execution_count": 33,
   "id": "295c0080",
   "metadata": {},
   "outputs": [
    {
     "data": {
      "text/html": [
       "<style>#sk-container-id-4 {color: black;background-color: white;}#sk-container-id-4 pre{padding: 0;}#sk-container-id-4 div.sk-toggleable {background-color: white;}#sk-container-id-4 label.sk-toggleable__label {cursor: pointer;display: block;width: 100%;margin-bottom: 0;padding: 0.3em;box-sizing: border-box;text-align: center;}#sk-container-id-4 label.sk-toggleable__label-arrow:before {content: \"▸\";float: left;margin-right: 0.25em;color: #696969;}#sk-container-id-4 label.sk-toggleable__label-arrow:hover:before {color: black;}#sk-container-id-4 div.sk-estimator:hover label.sk-toggleable__label-arrow:before {color: black;}#sk-container-id-4 div.sk-toggleable__content {max-height: 0;max-width: 0;overflow: hidden;text-align: left;background-color: #f0f8ff;}#sk-container-id-4 div.sk-toggleable__content pre {margin: 0.2em;color: black;border-radius: 0.25em;background-color: #f0f8ff;}#sk-container-id-4 input.sk-toggleable__control:checked~div.sk-toggleable__content {max-height: 200px;max-width: 100%;overflow: auto;}#sk-container-id-4 input.sk-toggleable__control:checked~label.sk-toggleable__label-arrow:before {content: \"▾\";}#sk-container-id-4 div.sk-estimator input.sk-toggleable__control:checked~label.sk-toggleable__label {background-color: #d4ebff;}#sk-container-id-4 div.sk-label input.sk-toggleable__control:checked~label.sk-toggleable__label {background-color: #d4ebff;}#sk-container-id-4 input.sk-hidden--visually {border: 0;clip: rect(1px 1px 1px 1px);clip: rect(1px, 1px, 1px, 1px);height: 1px;margin: -1px;overflow: hidden;padding: 0;position: absolute;width: 1px;}#sk-container-id-4 div.sk-estimator {font-family: monospace;background-color: #f0f8ff;border: 1px dotted black;border-radius: 0.25em;box-sizing: border-box;margin-bottom: 0.5em;}#sk-container-id-4 div.sk-estimator:hover {background-color: #d4ebff;}#sk-container-id-4 div.sk-parallel-item::after {content: \"\";width: 100%;border-bottom: 1px solid gray;flex-grow: 1;}#sk-container-id-4 div.sk-label:hover label.sk-toggleable__label {background-color: #d4ebff;}#sk-container-id-4 div.sk-serial::before {content: \"\";position: absolute;border-left: 1px solid gray;box-sizing: border-box;top: 0;bottom: 0;left: 50%;z-index: 0;}#sk-container-id-4 div.sk-serial {display: flex;flex-direction: column;align-items: center;background-color: white;padding-right: 0.2em;padding-left: 0.2em;position: relative;}#sk-container-id-4 div.sk-item {position: relative;z-index: 1;}#sk-container-id-4 div.sk-parallel {display: flex;align-items: stretch;justify-content: center;background-color: white;position: relative;}#sk-container-id-4 div.sk-item::before, #sk-container-id-4 div.sk-parallel-item::before {content: \"\";position: absolute;border-left: 1px solid gray;box-sizing: border-box;top: 0;bottom: 0;left: 50%;z-index: -1;}#sk-container-id-4 div.sk-parallel-item {display: flex;flex-direction: column;z-index: 1;position: relative;background-color: white;}#sk-container-id-4 div.sk-parallel-item:first-child::after {align-self: flex-end;width: 50%;}#sk-container-id-4 div.sk-parallel-item:last-child::after {align-self: flex-start;width: 50%;}#sk-container-id-4 div.sk-parallel-item:only-child::after {width: 0;}#sk-container-id-4 div.sk-dashed-wrapped {border: 1px dashed gray;margin: 0 0.4em 0.5em 0.4em;box-sizing: border-box;padding-bottom: 0.4em;background-color: white;}#sk-container-id-4 div.sk-label label {font-family: monospace;font-weight: bold;display: inline-block;line-height: 1.2em;}#sk-container-id-4 div.sk-label-container {text-align: center;}#sk-container-id-4 div.sk-container {/* jupyter's `normalize.less` sets `[hidden] { display: none; }` but bootstrap.min.css set `[hidden] { display: none !important; }` so we also need the `!important` here to be able to override the default hidden behavior on the sphinx rendered scikit-learn.org. See: https://github.com/scikit-learn/scikit-learn/issues/21755 */display: inline-block !important;position: relative;}#sk-container-id-4 div.sk-text-repr-fallback {display: none;}</style><div id=\"sk-container-id-4\" class=\"sk-top-container\"><div class=\"sk-text-repr-fallback\"><pre>RandomForestClassifier(random_state=42)</pre><b>In a Jupyter environment, please rerun this cell to show the HTML representation or trust the notebook. <br />On GitHub, the HTML representation is unable to render, please try loading this page with nbviewer.org.</b></div><div class=\"sk-container\" hidden><div class=\"sk-item\"><div class=\"sk-estimator sk-toggleable\"><input class=\"sk-toggleable__control sk-hidden--visually\" id=\"sk-estimator-id-4\" type=\"checkbox\" checked><label for=\"sk-estimator-id-4\" class=\"sk-toggleable__label sk-toggleable__label-arrow\">RandomForestClassifier</label><div class=\"sk-toggleable__content\"><pre>RandomForestClassifier(random_state=42)</pre></div></div></div></div></div>"
      ],
      "text/plain": [
       "RandomForestClassifier(random_state=42)"
      ]
     },
     "execution_count": 33,
     "metadata": {},
     "output_type": "execute_result"
    }
   ],
   "source": [
    "model3.fit(x_train3, y_train3)"
   ]
  },
  {
   "cell_type": "code",
   "execution_count": 34,
   "id": "e85aa0db",
   "metadata": {},
   "outputs": [],
   "source": [
    "# 랜덤포레스트 모델 학습\n",
    "pred3 = model3.predict(x_valid3)\n",
    "mse3 = mean_squared_error(y_valid3, pred3)\n",
    "r23 = r2_score(y_valid3, pred3)"
   ]
  },
  {
   "cell_type": "markdown",
   "id": "8912624a",
   "metadata": {},
   "source": [
    "### 1.3.3 모델 평가"
   ]
  },
  {
   "cell_type": "code",
   "execution_count": 35,
   "id": "538901f1",
   "metadata": {},
   "outputs": [
    {
     "name": "stdout",
     "output_type": "stream",
     "text": [
      "R-squared: 0.7415\n",
      "MSE: 114461.3075\n",
      "MAE: 196.4022\n",
      "RMSE: 338.3213\n"
     ]
    }
   ],
   "source": [
    "model_eval(y_valid3, pred3)"
   ]
  },
  {
   "cell_type": "markdown",
   "id": "da7a4be9",
   "metadata": {},
   "source": [
    "R-squared, MSE, MAE, RMSE를 비교한 결과, 모든 지표에서  \n",
    "<span style='background-color:#ffdce0'>RandomTree</span>, DecisionTree, LinearReggression 순서로 우수한 성능을 보였다!"
   ]
  },
  {
   "cell_type": "markdown",
   "id": "7eac810a",
   "metadata": {},
   "source": [
    "# 2. 하이퍼파라미터 튜닝\n",
    "RandomForestClassifier 하이퍼파라미터\n",
    "- <span style='background-color:#ffdce0'>n_estimator : 생성할 트리의 개수 </span>  \n",
    "    많을수록 성능이 향상되지만, 계산비용이 증가\n",
    "- max_features : 각 노드에서 분할에 사용될 최대 feature 수  \n",
    "    작은 값은 모델을 간단하게 만들고 다양성을 증가시킬 수 있지만,   \n",
    "    큰 값은 모델을 더 복잡하게 만들고 과적합의 위험을 증가\n",
    "- <span style='background-color:#ffdce0'>max_depth : 결정트리의 최대 깊이 </span>   \n",
    "    깊이가 깊어질수록 모델의 복잡도가 증가하며 과적합의 위험이 커짐.\n",
    "- <span style='background-color:#ffdce0'>min_samples_split : 노드를 분할하기 위해 필요한 최소한의 샘플 개수</span>  \n",
    "    증가시키면 분할이 중지되는 경우가 더 많아지므로 모델의 과적합을 방지\n",
    "- min_samples_leaf : 노드를 분할하기 위해 leaf 노드가 가져야할 최소한의 샘플  \n",
    "    증가시키면 더 간단한 모델이 생성되며 과적합의 위험이 감소\n",
    "- max_leaf_nodes : 생성될 수 있는 최대 리프 노드의 개수를 제한\n",
    "- random_state : 랜덤 시드 지정"
   ]
  },
  {
   "cell_type": "code",
   "execution_count": 40,
   "id": "1b623955",
   "metadata": {},
   "outputs": [
    {
     "name": "stdout",
     "output_type": "stream",
     "text": [
      "{'bootstrap': True, 'ccp_alpha': 0.0, 'class_weight': None, 'criterion': 'gini', 'max_depth': None, 'max_features': 'sqrt', 'max_leaf_nodes': None, 'max_samples': None, 'min_impurity_decrease': 0.0, 'min_samples_leaf': 1, 'min_samples_split': 2, 'min_weight_fraction_leaf': 0.0, 'n_estimators': 100, 'n_jobs': None, 'oob_score': False, 'random_state': 42, 'verbose': 0, 'warm_start': False}\n"
     ]
    }
   ],
   "source": [
    "# 하이퍼파라미터 확인\n",
    "print(model3.get_params())"
   ]
  },
  {
   "cell_type": "markdown",
   "id": "da0e5b0e",
   "metadata": {},
   "source": [
    "## 2.1 Grid Search\n",
    "가능한 모든 조합을 시도하여 최적의 조합을 찾는 방법"
   ]
  },
  {
   "cell_type": "code",
   "execution_count": 36,
   "id": "35833a48",
   "metadata": {},
   "outputs": [],
   "source": [
    "from sklearn.model_selection import GridSearchCV\n",
    "\n",
    "# 하이퍼파라미터를 딕셔너리로 설정\n",
    "model= RandomForestClassifier(random_state = 42)\n",
    "\n",
    "params_grid = {\n",
    "    'n_estimators' : [100, 200],\n",
    "    'max_features' : ['sqrt','log2'],\n",
    "    'max_depth' : [3, 5],\n",
    "    'min_samples_split' : [5,10]\n",
    "}"
   ]
  },
  {
   "cell_type": "markdown",
   "id": "e56ccd51",
   "metadata": {},
   "source": [
    "**cross-validation(교차 검증)**\n",
    "- GridSearchCV()의 CV\n",
    "- 모델의 성능을 평가하는 방법 중 하나\n",
    "- 데이터를 여러번 반복해서 나누고 여러 모델을 학습하는 과정을 포함.\n",
    "- 이를 통해 모델의 일반화 성능을 더 정확하게 평가할 수 있음.\n",
    "- 특히 데이터가 적을 때 모델의 성능을 신뢰할 수 있는지 확인하는 데 유용"
   ]
  },
  {
   "cell_type": "code",
   "execution_count": 37,
   "id": "4a4cbd93",
   "metadata": {},
   "outputs": [
    {
     "data": {
      "text/html": [
       "<style>#sk-container-id-5 {color: black;background-color: white;}#sk-container-id-5 pre{padding: 0;}#sk-container-id-5 div.sk-toggleable {background-color: white;}#sk-container-id-5 label.sk-toggleable__label {cursor: pointer;display: block;width: 100%;margin-bottom: 0;padding: 0.3em;box-sizing: border-box;text-align: center;}#sk-container-id-5 label.sk-toggleable__label-arrow:before {content: \"▸\";float: left;margin-right: 0.25em;color: #696969;}#sk-container-id-5 label.sk-toggleable__label-arrow:hover:before {color: black;}#sk-container-id-5 div.sk-estimator:hover label.sk-toggleable__label-arrow:before {color: black;}#sk-container-id-5 div.sk-toggleable__content {max-height: 0;max-width: 0;overflow: hidden;text-align: left;background-color: #f0f8ff;}#sk-container-id-5 div.sk-toggleable__content pre {margin: 0.2em;color: black;border-radius: 0.25em;background-color: #f0f8ff;}#sk-container-id-5 input.sk-toggleable__control:checked~div.sk-toggleable__content {max-height: 200px;max-width: 100%;overflow: auto;}#sk-container-id-5 input.sk-toggleable__control:checked~label.sk-toggleable__label-arrow:before {content: \"▾\";}#sk-container-id-5 div.sk-estimator input.sk-toggleable__control:checked~label.sk-toggleable__label {background-color: #d4ebff;}#sk-container-id-5 div.sk-label input.sk-toggleable__control:checked~label.sk-toggleable__label {background-color: #d4ebff;}#sk-container-id-5 input.sk-hidden--visually {border: 0;clip: rect(1px 1px 1px 1px);clip: rect(1px, 1px, 1px, 1px);height: 1px;margin: -1px;overflow: hidden;padding: 0;position: absolute;width: 1px;}#sk-container-id-5 div.sk-estimator {font-family: monospace;background-color: #f0f8ff;border: 1px dotted black;border-radius: 0.25em;box-sizing: border-box;margin-bottom: 0.5em;}#sk-container-id-5 div.sk-estimator:hover {background-color: #d4ebff;}#sk-container-id-5 div.sk-parallel-item::after {content: \"\";width: 100%;border-bottom: 1px solid gray;flex-grow: 1;}#sk-container-id-5 div.sk-label:hover label.sk-toggleable__label {background-color: #d4ebff;}#sk-container-id-5 div.sk-serial::before {content: \"\";position: absolute;border-left: 1px solid gray;box-sizing: border-box;top: 0;bottom: 0;left: 50%;z-index: 0;}#sk-container-id-5 div.sk-serial {display: flex;flex-direction: column;align-items: center;background-color: white;padding-right: 0.2em;padding-left: 0.2em;position: relative;}#sk-container-id-5 div.sk-item {position: relative;z-index: 1;}#sk-container-id-5 div.sk-parallel {display: flex;align-items: stretch;justify-content: center;background-color: white;position: relative;}#sk-container-id-5 div.sk-item::before, #sk-container-id-5 div.sk-parallel-item::before {content: \"\";position: absolute;border-left: 1px solid gray;box-sizing: border-box;top: 0;bottom: 0;left: 50%;z-index: -1;}#sk-container-id-5 div.sk-parallel-item {display: flex;flex-direction: column;z-index: 1;position: relative;background-color: white;}#sk-container-id-5 div.sk-parallel-item:first-child::after {align-self: flex-end;width: 50%;}#sk-container-id-5 div.sk-parallel-item:last-child::after {align-self: flex-start;width: 50%;}#sk-container-id-5 div.sk-parallel-item:only-child::after {width: 0;}#sk-container-id-5 div.sk-dashed-wrapped {border: 1px dashed gray;margin: 0 0.4em 0.5em 0.4em;box-sizing: border-box;padding-bottom: 0.4em;background-color: white;}#sk-container-id-5 div.sk-label label {font-family: monospace;font-weight: bold;display: inline-block;line-height: 1.2em;}#sk-container-id-5 div.sk-label-container {text-align: center;}#sk-container-id-5 div.sk-container {/* jupyter's `normalize.less` sets `[hidden] { display: none; }` but bootstrap.min.css set `[hidden] { display: none !important; }` so we also need the `!important` here to be able to override the default hidden behavior on the sphinx rendered scikit-learn.org. See: https://github.com/scikit-learn/scikit-learn/issues/21755 */display: inline-block !important;position: relative;}#sk-container-id-5 div.sk-text-repr-fallback {display: none;}</style><div id=\"sk-container-id-5\" class=\"sk-top-container\"><div class=\"sk-text-repr-fallback\"><pre>GridSearchCV(cv=3, estimator=RandomForestClassifier(random_state=42),\n",
       "             param_grid={&#x27;max_depth&#x27;: [3, 5], &#x27;max_features&#x27;: [&#x27;sqrt&#x27;, &#x27;log2&#x27;],\n",
       "                         &#x27;min_samples_split&#x27;: [5, 10],\n",
       "                         &#x27;n_estimators&#x27;: [100, 200]})</pre><b>In a Jupyter environment, please rerun this cell to show the HTML representation or trust the notebook. <br />On GitHub, the HTML representation is unable to render, please try loading this page with nbviewer.org.</b></div><div class=\"sk-container\" hidden><div class=\"sk-item sk-dashed-wrapped\"><div class=\"sk-label-container\"><div class=\"sk-label sk-toggleable\"><input class=\"sk-toggleable__control sk-hidden--visually\" id=\"sk-estimator-id-5\" type=\"checkbox\" ><label for=\"sk-estimator-id-5\" class=\"sk-toggleable__label sk-toggleable__label-arrow\">GridSearchCV</label><div class=\"sk-toggleable__content\"><pre>GridSearchCV(cv=3, estimator=RandomForestClassifier(random_state=42),\n",
       "             param_grid={&#x27;max_depth&#x27;: [3, 5], &#x27;max_features&#x27;: [&#x27;sqrt&#x27;, &#x27;log2&#x27;],\n",
       "                         &#x27;min_samples_split&#x27;: [5, 10],\n",
       "                         &#x27;n_estimators&#x27;: [100, 200]})</pre></div></div></div><div class=\"sk-parallel\"><div class=\"sk-parallel-item\"><div class=\"sk-item\"><div class=\"sk-label-container\"><div class=\"sk-label sk-toggleable\"><input class=\"sk-toggleable__control sk-hidden--visually\" id=\"sk-estimator-id-6\" type=\"checkbox\" ><label for=\"sk-estimator-id-6\" class=\"sk-toggleable__label sk-toggleable__label-arrow\">estimator: RandomForestClassifier</label><div class=\"sk-toggleable__content\"><pre>RandomForestClassifier(random_state=42)</pre></div></div></div><div class=\"sk-serial\"><div class=\"sk-item\"><div class=\"sk-estimator sk-toggleable\"><input class=\"sk-toggleable__control sk-hidden--visually\" id=\"sk-estimator-id-7\" type=\"checkbox\" ><label for=\"sk-estimator-id-7\" class=\"sk-toggleable__label sk-toggleable__label-arrow\">RandomForestClassifier</label><div class=\"sk-toggleable__content\"><pre>RandomForestClassifier(random_state=42)</pre></div></div></div></div></div></div></div></div></div></div>"
      ],
      "text/plain": [
       "GridSearchCV(cv=3, estimator=RandomForestClassifier(random_state=42),\n",
       "             param_grid={'max_depth': [3, 5], 'max_features': ['sqrt', 'log2'],\n",
       "                         'min_samples_split': [5, 10],\n",
       "                         'n_estimators': [100, 200]})"
      ]
     },
     "execution_count": 37,
     "metadata": {},
     "output_type": "execute_result"
    }
   ],
   "source": [
    "# param_grid 하이퍼파라미터를 3개의 train, valid set fold 로 나누어 테스트 수행\n",
    "gs = GridSearchCV(estimator=model,param_grid=params_grid , cv = 3) #cv는 cross validation 수\n",
    "\n",
    "# params_grid 의 하이퍼 파라미터를 순차적으로 학습/평가\n",
    "gs.fit(x_train3, y_train3)"
   ]
  },
  {
   "cell_type": "code",
   "execution_count": 38,
   "id": "f1e291ac",
   "metadata": {},
   "outputs": [
    {
     "data": {
      "text/plain": [
       "{'max_depth': 5,\n",
       " 'max_features': 'sqrt',\n",
       " 'min_samples_split': 5,\n",
       " 'n_estimators': 100}"
      ]
     },
     "execution_count": 38,
     "metadata": {},
     "output_type": "execute_result"
    }
   ],
   "source": [
    "gs.best_params_"
   ]
  },
  {
   "cell_type": "code",
   "execution_count": 39,
   "id": "b0048e80",
   "metadata": {},
   "outputs": [
    {
     "data": {
      "text/plain": [
       "0.003998183411044676"
      ]
     },
     "execution_count": 39,
     "metadata": {},
     "output_type": "execute_result"
    }
   ],
   "source": [
    "gs.best_score_"
   ]
  },
  {
   "cell_type": "markdown",
   "id": "7d0eae13",
   "metadata": {},
   "source": [
    "### 2.1.2 Grid Search 결과를 df로 저장"
   ]
  },
  {
   "cell_type": "code",
   "execution_count": 40,
   "id": "a0ecc581",
   "metadata": {},
   "outputs": [
    {
     "data": {
      "text/html": [
       "<div>\n",
       "<style scoped>\n",
       "    .dataframe tbody tr th:only-of-type {\n",
       "        vertical-align: middle;\n",
       "    }\n",
       "\n",
       "    .dataframe tbody tr th {\n",
       "        vertical-align: top;\n",
       "    }\n",
       "\n",
       "    .dataframe thead th {\n",
       "        text-align: right;\n",
       "    }\n",
       "</style>\n",
       "<table border=\"1\" class=\"dataframe\">\n",
       "  <thead>\n",
       "    <tr style=\"text-align: right;\">\n",
       "      <th></th>\n",
       "      <th>mean_fit_time</th>\n",
       "      <th>std_fit_time</th>\n",
       "      <th>mean_score_time</th>\n",
       "      <th>std_score_time</th>\n",
       "      <th>param_max_depth</th>\n",
       "      <th>param_max_features</th>\n",
       "      <th>param_min_samples_split</th>\n",
       "      <th>param_n_estimators</th>\n",
       "      <th>params</th>\n",
       "      <th>split0_test_score</th>\n",
       "      <th>split1_test_score</th>\n",
       "      <th>split2_test_score</th>\n",
       "      <th>mean_test_score</th>\n",
       "      <th>std_test_score</th>\n",
       "      <th>rank_test_score</th>\n",
       "    </tr>\n",
       "  </thead>\n",
       "  <tbody>\n",
       "    <tr>\n",
       "      <th>8</th>\n",
       "      <td>6.254603</td>\n",
       "      <td>0.104493</td>\n",
       "      <td>4.930050</td>\n",
       "      <td>0.081642</td>\n",
       "      <td>5</td>\n",
       "      <td>sqrt</td>\n",
       "      <td>5</td>\n",
       "      <td>100</td>\n",
       "      <td>{'max_depth': 5, 'max_features': 'sqrt', 'min_...</td>\n",
       "      <td>0.003357</td>\n",
       "      <td>0.005278</td>\n",
       "      <td>0.003359</td>\n",
       "      <td>0.003998</td>\n",
       "      <td>0.000905</td>\n",
       "      <td>1</td>\n",
       "    </tr>\n",
       "    <tr>\n",
       "      <th>12</th>\n",
       "      <td>6.250967</td>\n",
       "      <td>0.105887</td>\n",
       "      <td>4.812158</td>\n",
       "      <td>0.036901</td>\n",
       "      <td>5</td>\n",
       "      <td>log2</td>\n",
       "      <td>5</td>\n",
       "      <td>100</td>\n",
       "      <td>{'max_depth': 5, 'max_features': 'log2', 'min_...</td>\n",
       "      <td>0.003357</td>\n",
       "      <td>0.005278</td>\n",
       "      <td>0.003359</td>\n",
       "      <td>0.003998</td>\n",
       "      <td>0.000905</td>\n",
       "      <td>1</td>\n",
       "    </tr>\n",
       "    <tr>\n",
       "      <th>9</th>\n",
       "      <td>11.327822</td>\n",
       "      <td>1.576470</td>\n",
       "      <td>11.414692</td>\n",
       "      <td>5.628298</td>\n",
       "      <td>5</td>\n",
       "      <td>sqrt</td>\n",
       "      <td>5</td>\n",
       "      <td>200</td>\n",
       "      <td>{'max_depth': 5, 'max_features': 'sqrt', 'min_...</td>\n",
       "      <td>0.004317</td>\n",
       "      <td>0.003839</td>\n",
       "      <td>0.003839</td>\n",
       "      <td>0.003998</td>\n",
       "      <td>0.000225</td>\n",
       "      <td>3</td>\n",
       "    </tr>\n",
       "    <tr>\n",
       "      <th>13</th>\n",
       "      <td>9.305670</td>\n",
       "      <td>4.363809</td>\n",
       "      <td>8.609648</td>\n",
       "      <td>0.704327</td>\n",
       "      <td>5</td>\n",
       "      <td>log2</td>\n",
       "      <td>5</td>\n",
       "      <td>200</td>\n",
       "      <td>{'max_depth': 5, 'max_features': 'log2', 'min_...</td>\n",
       "      <td>0.004317</td>\n",
       "      <td>0.003839</td>\n",
       "      <td>0.003839</td>\n",
       "      <td>0.003998</td>\n",
       "      <td>0.000225</td>\n",
       "      <td>3</td>\n",
       "    </tr>\n",
       "    <tr>\n",
       "      <th>10</th>\n",
       "      <td>6.205423</td>\n",
       "      <td>0.050994</td>\n",
       "      <td>4.851300</td>\n",
       "      <td>0.036934</td>\n",
       "      <td>5</td>\n",
       "      <td>sqrt</td>\n",
       "      <td>10</td>\n",
       "      <td>100</td>\n",
       "      <td>{'max_depth': 5, 'max_features': 'sqrt', 'min_...</td>\n",
       "      <td>0.002878</td>\n",
       "      <td>0.003839</td>\n",
       "      <td>0.004798</td>\n",
       "      <td>0.003838</td>\n",
       "      <td>0.000784</td>\n",
       "      <td>5</td>\n",
       "    </tr>\n",
       "    <tr>\n",
       "      <th>14</th>\n",
       "      <td>6.140730</td>\n",
       "      <td>0.117388</td>\n",
       "      <td>4.783463</td>\n",
       "      <td>0.002267</td>\n",
       "      <td>5</td>\n",
       "      <td>log2</td>\n",
       "      <td>10</td>\n",
       "      <td>100</td>\n",
       "      <td>{'max_depth': 5, 'max_features': 'log2', 'min_...</td>\n",
       "      <td>0.002878</td>\n",
       "      <td>0.003839</td>\n",
       "      <td>0.004798</td>\n",
       "      <td>0.003838</td>\n",
       "      <td>0.000784</td>\n",
       "      <td>5</td>\n",
       "    </tr>\n",
       "    <tr>\n",
       "      <th>3</th>\n",
       "      <td>7.155390</td>\n",
       "      <td>0.186326</td>\n",
       "      <td>9.626838</td>\n",
       "      <td>0.083755</td>\n",
       "      <td>3</td>\n",
       "      <td>sqrt</td>\n",
       "      <td>10</td>\n",
       "      <td>200</td>\n",
       "      <td>{'max_depth': 3, 'max_features': 'sqrt', 'min_...</td>\n",
       "      <td>0.003837</td>\n",
       "      <td>0.003359</td>\n",
       "      <td>0.004319</td>\n",
       "      <td>0.003838</td>\n",
       "      <td>0.000392</td>\n",
       "      <td>7</td>\n",
       "    </tr>\n",
       "    <tr>\n",
       "      <th>7</th>\n",
       "      <td>7.110737</td>\n",
       "      <td>0.025944</td>\n",
       "      <td>9.725784</td>\n",
       "      <td>0.094737</td>\n",
       "      <td>3</td>\n",
       "      <td>log2</td>\n",
       "      <td>10</td>\n",
       "      <td>200</td>\n",
       "      <td>{'max_depth': 3, 'max_features': 'log2', 'min_...</td>\n",
       "      <td>0.003837</td>\n",
       "      <td>0.003359</td>\n",
       "      <td>0.004319</td>\n",
       "      <td>0.003838</td>\n",
       "      <td>0.000392</td>\n",
       "      <td>7</td>\n",
       "    </tr>\n",
       "    <tr>\n",
       "      <th>1</th>\n",
       "      <td>7.277384</td>\n",
       "      <td>0.149550</td>\n",
       "      <td>9.624414</td>\n",
       "      <td>0.032708</td>\n",
       "      <td>3</td>\n",
       "      <td>sqrt</td>\n",
       "      <td>5</td>\n",
       "      <td>200</td>\n",
       "      <td>{'max_depth': 3, 'max_features': 'sqrt', 'min_...</td>\n",
       "      <td>0.003357</td>\n",
       "      <td>0.003359</td>\n",
       "      <td>0.003839</td>\n",
       "      <td>0.003518</td>\n",
       "      <td>0.000227</td>\n",
       "      <td>9</td>\n",
       "    </tr>\n",
       "    <tr>\n",
       "      <th>5</th>\n",
       "      <td>7.272338</td>\n",
       "      <td>0.115725</td>\n",
       "      <td>9.749865</td>\n",
       "      <td>0.086824</td>\n",
       "      <td>3</td>\n",
       "      <td>log2</td>\n",
       "      <td>5</td>\n",
       "      <td>200</td>\n",
       "      <td>{'max_depth': 3, 'max_features': 'log2', 'min_...</td>\n",
       "      <td>0.003357</td>\n",
       "      <td>0.003359</td>\n",
       "      <td>0.003839</td>\n",
       "      <td>0.003518</td>\n",
       "      <td>0.000227</td>\n",
       "      <td>9</td>\n",
       "    </tr>\n",
       "    <tr>\n",
       "      <th>11</th>\n",
       "      <td>12.489286</td>\n",
       "      <td>0.242651</td>\n",
       "      <td>9.494887</td>\n",
       "      <td>0.203135</td>\n",
       "      <td>5</td>\n",
       "      <td>sqrt</td>\n",
       "      <td>10</td>\n",
       "      <td>200</td>\n",
       "      <td>{'max_depth': 5, 'max_features': 'sqrt', 'min_...</td>\n",
       "      <td>0.002398</td>\n",
       "      <td>0.003839</td>\n",
       "      <td>0.003359</td>\n",
       "      <td>0.003199</td>\n",
       "      <td>0.000599</td>\n",
       "      <td>11</td>\n",
       "    </tr>\n",
       "    <tr>\n",
       "      <th>15</th>\n",
       "      <td>12.478481</td>\n",
       "      <td>0.219723</td>\n",
       "      <td>9.580687</td>\n",
       "      <td>0.086610</td>\n",
       "      <td>5</td>\n",
       "      <td>log2</td>\n",
       "      <td>10</td>\n",
       "      <td>200</td>\n",
       "      <td>{'max_depth': 5, 'max_features': 'log2', 'min_...</td>\n",
       "      <td>0.002398</td>\n",
       "      <td>0.003839</td>\n",
       "      <td>0.003359</td>\n",
       "      <td>0.003199</td>\n",
       "      <td>0.000599</td>\n",
       "      <td>11</td>\n",
       "    </tr>\n",
       "    <tr>\n",
       "      <th>2</th>\n",
       "      <td>3.588004</td>\n",
       "      <td>0.066052</td>\n",
       "      <td>4.867784</td>\n",
       "      <td>0.018564</td>\n",
       "      <td>3</td>\n",
       "      <td>sqrt</td>\n",
       "      <td>10</td>\n",
       "      <td>100</td>\n",
       "      <td>{'max_depth': 3, 'max_features': 'sqrt', 'min_...</td>\n",
       "      <td>0.004317</td>\n",
       "      <td>0.002399</td>\n",
       "      <td>0.002399</td>\n",
       "      <td>0.003038</td>\n",
       "      <td>0.000904</td>\n",
       "      <td>13</td>\n",
       "    </tr>\n",
       "    <tr>\n",
       "      <th>6</th>\n",
       "      <td>3.604423</td>\n",
       "      <td>0.076831</td>\n",
       "      <td>4.777694</td>\n",
       "      <td>0.093265</td>\n",
       "      <td>3</td>\n",
       "      <td>log2</td>\n",
       "      <td>10</td>\n",
       "      <td>100</td>\n",
       "      <td>{'max_depth': 3, 'max_features': 'log2', 'min_...</td>\n",
       "      <td>0.004317</td>\n",
       "      <td>0.002399</td>\n",
       "      <td>0.002399</td>\n",
       "      <td>0.003038</td>\n",
       "      <td>0.000904</td>\n",
       "      <td>13</td>\n",
       "    </tr>\n",
       "    <tr>\n",
       "      <th>0</th>\n",
       "      <td>3.493798</td>\n",
       "      <td>0.083157</td>\n",
       "      <td>5.494320</td>\n",
       "      <td>0.940434</td>\n",
       "      <td>3</td>\n",
       "      <td>sqrt</td>\n",
       "      <td>5</td>\n",
       "      <td>100</td>\n",
       "      <td>{'max_depth': 3, 'max_features': 'sqrt', 'min_...</td>\n",
       "      <td>0.003357</td>\n",
       "      <td>0.001919</td>\n",
       "      <td>0.002399</td>\n",
       "      <td>0.002559</td>\n",
       "      <td>0.000598</td>\n",
       "      <td>15</td>\n",
       "    </tr>\n",
       "    <tr>\n",
       "      <th>4</th>\n",
       "      <td>3.506547</td>\n",
       "      <td>0.070198</td>\n",
       "      <td>4.800370</td>\n",
       "      <td>0.046003</td>\n",
       "      <td>3</td>\n",
       "      <td>log2</td>\n",
       "      <td>5</td>\n",
       "      <td>100</td>\n",
       "      <td>{'max_depth': 3, 'max_features': 'log2', 'min_...</td>\n",
       "      <td>0.003357</td>\n",
       "      <td>0.001919</td>\n",
       "      <td>0.002399</td>\n",
       "      <td>0.002559</td>\n",
       "      <td>0.000598</td>\n",
       "      <td>15</td>\n",
       "    </tr>\n",
       "  </tbody>\n",
       "</table>\n",
       "</div>"
      ],
      "text/plain": [
       "    mean_fit_time  std_fit_time  mean_score_time  std_score_time  \\\n",
       "8        6.254603      0.104493         4.930050        0.081642   \n",
       "12       6.250967      0.105887         4.812158        0.036901   \n",
       "9       11.327822      1.576470        11.414692        5.628298   \n",
       "13       9.305670      4.363809         8.609648        0.704327   \n",
       "10       6.205423      0.050994         4.851300        0.036934   \n",
       "14       6.140730      0.117388         4.783463        0.002267   \n",
       "3        7.155390      0.186326         9.626838        0.083755   \n",
       "7        7.110737      0.025944         9.725784        0.094737   \n",
       "1        7.277384      0.149550         9.624414        0.032708   \n",
       "5        7.272338      0.115725         9.749865        0.086824   \n",
       "11      12.489286      0.242651         9.494887        0.203135   \n",
       "15      12.478481      0.219723         9.580687        0.086610   \n",
       "2        3.588004      0.066052         4.867784        0.018564   \n",
       "6        3.604423      0.076831         4.777694        0.093265   \n",
       "0        3.493798      0.083157         5.494320        0.940434   \n",
       "4        3.506547      0.070198         4.800370        0.046003   \n",
       "\n",
       "   param_max_depth param_max_features param_min_samples_split  \\\n",
       "8                5               sqrt                       5   \n",
       "12               5               log2                       5   \n",
       "9                5               sqrt                       5   \n",
       "13               5               log2                       5   \n",
       "10               5               sqrt                      10   \n",
       "14               5               log2                      10   \n",
       "3                3               sqrt                      10   \n",
       "7                3               log2                      10   \n",
       "1                3               sqrt                       5   \n",
       "5                3               log2                       5   \n",
       "11               5               sqrt                      10   \n",
       "15               5               log2                      10   \n",
       "2                3               sqrt                      10   \n",
       "6                3               log2                      10   \n",
       "0                3               sqrt                       5   \n",
       "4                3               log2                       5   \n",
       "\n",
       "   param_n_estimators                                             params  \\\n",
       "8                 100  {'max_depth': 5, 'max_features': 'sqrt', 'min_...   \n",
       "12                100  {'max_depth': 5, 'max_features': 'log2', 'min_...   \n",
       "9                 200  {'max_depth': 5, 'max_features': 'sqrt', 'min_...   \n",
       "13                200  {'max_depth': 5, 'max_features': 'log2', 'min_...   \n",
       "10                100  {'max_depth': 5, 'max_features': 'sqrt', 'min_...   \n",
       "14                100  {'max_depth': 5, 'max_features': 'log2', 'min_...   \n",
       "3                 200  {'max_depth': 3, 'max_features': 'sqrt', 'min_...   \n",
       "7                 200  {'max_depth': 3, 'max_features': 'log2', 'min_...   \n",
       "1                 200  {'max_depth': 3, 'max_features': 'sqrt', 'min_...   \n",
       "5                 200  {'max_depth': 3, 'max_features': 'log2', 'min_...   \n",
       "11                200  {'max_depth': 5, 'max_features': 'sqrt', 'min_...   \n",
       "15                200  {'max_depth': 5, 'max_features': 'log2', 'min_...   \n",
       "2                 100  {'max_depth': 3, 'max_features': 'sqrt', 'min_...   \n",
       "6                 100  {'max_depth': 3, 'max_features': 'log2', 'min_...   \n",
       "0                 100  {'max_depth': 3, 'max_features': 'sqrt', 'min_...   \n",
       "4                 100  {'max_depth': 3, 'max_features': 'log2', 'min_...   \n",
       "\n",
       "    split0_test_score  split1_test_score  split2_test_score  mean_test_score  \\\n",
       "8            0.003357           0.005278           0.003359         0.003998   \n",
       "12           0.003357           0.005278           0.003359         0.003998   \n",
       "9            0.004317           0.003839           0.003839         0.003998   \n",
       "13           0.004317           0.003839           0.003839         0.003998   \n",
       "10           0.002878           0.003839           0.004798         0.003838   \n",
       "14           0.002878           0.003839           0.004798         0.003838   \n",
       "3            0.003837           0.003359           0.004319         0.003838   \n",
       "7            0.003837           0.003359           0.004319         0.003838   \n",
       "1            0.003357           0.003359           0.003839         0.003518   \n",
       "5            0.003357           0.003359           0.003839         0.003518   \n",
       "11           0.002398           0.003839           0.003359         0.003199   \n",
       "15           0.002398           0.003839           0.003359         0.003199   \n",
       "2            0.004317           0.002399           0.002399         0.003038   \n",
       "6            0.004317           0.002399           0.002399         0.003038   \n",
       "0            0.003357           0.001919           0.002399         0.002559   \n",
       "4            0.003357           0.001919           0.002399         0.002559   \n",
       "\n",
       "    std_test_score  rank_test_score  \n",
       "8         0.000905                1  \n",
       "12        0.000905                1  \n",
       "9         0.000225                3  \n",
       "13        0.000225                3  \n",
       "10        0.000784                5  \n",
       "14        0.000784                5  \n",
       "3         0.000392                7  \n",
       "7         0.000392                7  \n",
       "1         0.000227                9  \n",
       "5         0.000227                9  \n",
       "11        0.000599               11  \n",
       "15        0.000599               11  \n",
       "2         0.000904               13  \n",
       "6         0.000904               13  \n",
       "0         0.000598               15  \n",
       "4         0.000598               15  "
      ]
     },
     "execution_count": 40,
     "metadata": {},
     "output_type": "execute_result"
    }
   ],
   "source": [
    "gs_result = pd.DataFrame(gs.cv_results_)\n",
    "gs_result.sort_values('rank_test_score') "
   ]
  },
  {
   "cell_type": "markdown",
   "id": "61b1a24a",
   "metadata": {},
   "source": [
    "### 2.1.3 Grid Search 최적의 하이퍼파라미터"
   ]
  },
  {
   "cell_type": "code",
   "execution_count": 42,
   "id": "d7628099",
   "metadata": {},
   "outputs": [],
   "source": [
    "gs_model = RandomForestClassifier(random_state=42, max_depth= 5,\n",
    "                                 min_samples_split= 5,n_estimators= 100)"
   ]
  },
  {
   "cell_type": "code",
   "execution_count": 43,
   "id": "3a3bd4a6",
   "metadata": {},
   "outputs": [
    {
     "name": "stdout",
     "output_type": "stream",
     "text": [
      "R-squared: 0.2036\n",
      "MSE: 352711.1387\n",
      "MAE: 371.3638\n",
      "RMSE: 593.8949\n"
     ]
    }
   ],
   "source": [
    "gs_model.fit(x_train3, y_train3)\n",
    "pred4 = gs_model.predict(x_valid3)\n",
    "model_eval(y_valid3, pred4)"
   ]
  },
  {
   "cell_type": "markdown",
   "id": "2f149cde",
   "metadata": {},
   "source": [
    "# 2.2 Manual Seacrh"
   ]
  },
  {
   "cell_type": "markdown",
   "id": "b5be6b07",
   "metadata": {},
   "source": [
    "- n_estimator : 생성할 트리의 개수  \n",
    "많을수록 성능이 향상되지만, 계산비용이 증가  \n",
    "- max_features : 각 노드에서 분할에 사용될 최대 feature 수   \n",
    "작은 값은 모델을 간단하게 만들고 다양성을 증가시킬 수 있지만,  \n",
    "큰 값은 모델을 더 복잡하게 만들고 과적합의 위험을 증가\n",
    "- max_depth : 결정트리의 최대 깊이  \n",
    "깊이가 깊어질수록 모델의 복잡도가 증가하며 과적합의 위험이 커짐.\n",
    "- min_samples_split : 노드를 분할하기 위해 필요한 최소한의 샘플 개수  \n",
    "증가시키면 분할이 중지되는 경우가 더 많아지므로 모델의 과적합을 방지\n",
    "- min_samples_leaf : 노드를 분할하기 위해 leaf 노드가 가져야할 최소한의 샘플  \n",
    "증가시키면 더 간단한 모델이 생성되며 과적합의 위험이 감소\n",
    "- max_leaf_nodes : 생성될 수 있는 최대 리프 노드의 개수를 제한  \n",
    "- random_state : 랜덤 시드 지정"
   ]
  },
  {
   "cell_type": "code",
   "execution_count": 62,
   "id": "73f86127",
   "metadata": {},
   "outputs": [
    {
     "name": "stdout",
     "output_type": "stream",
     "text": [
      "{'bootstrap': True, 'ccp_alpha': 0.0, 'class_weight': None, 'criterion': 'gini', 'max_depth': None, 'max_features': 'sqrt', 'max_leaf_nodes': None, 'max_samples': None, 'min_impurity_decrease': 0.0, 'min_samples_leaf': 1, 'min_samples_split': 2, 'min_weight_fraction_leaf': 0.0, 'n_estimators': 100, 'n_jobs': None, 'oob_score': False, 'random_state': 42, 'verbose': 0, 'warm_start': False}\n"
     ]
    }
   ],
   "source": [
    "print(model3.get_params())"
   ]
  },
  {
   "cell_type": "code",
   "execution_count": 57,
   "id": "40d749a3",
   "metadata": {},
   "outputs": [
    {
     "name": "stdout",
     "output_type": "stream",
     "text": [
      "R-squared: 0.5250\n",
      "MSE: 210379.3357\n",
      "MAE: 274.0914\n",
      "RMSE: 458.6713\n"
     ]
    }
   ],
   "source": [
    "# n-estimators 증가 O\n",
    "\n",
    "## 모델 선언\n",
    "ms_model = RandomForestClassifier(random_state=42, max_depth= 8,\n",
    "                                 min_samples_split= 5,n_estimators= 200)\n",
    "\n",
    "## 모델 학습\n",
    "ms_model.fit(x_train3, y_train3)\n",
    "\n",
    "## 모델 평가\n",
    "pred51 = ms_model.predict(x_valid3)\n",
    "model_eval(y_valid3, pred51)"
   ]
  },
  {
   "cell_type": "code",
   "execution_count": 65,
   "id": "e6660a6a",
   "metadata": {},
   "outputs": [
    {
     "name": "stdout",
     "output_type": "stream",
     "text": [
      "R-squared: 0.6346\n",
      "MSE: 161844.3651\n",
      "MAE: 241.2040\n",
      "RMSE: 402.2989\n"
     ]
    }
   ],
   "source": [
    "# max_depth 증가 O\n",
    "\n",
    "## 모델 선언\n",
    "ms_model = RandomForestClassifier(random_state=42, max_depth= 10,\n",
    "                                 min_samples_split= 5,n_estimators= 200)\n",
    "\n",
    "## 모델 학습\n",
    "ms_model.fit(x_train3, y_train3)\n",
    "\n",
    "## 모델 평가\n",
    "pred52 = ms_model.predict(x_valid3)\n",
    "model_eval(y_valid3, pred52)"
   ]
  },
  {
   "cell_type": "code",
   "execution_count": 66,
   "id": "7c88ce58",
   "metadata": {},
   "outputs": [
    {
     "name": "stdout",
     "output_type": "stream",
     "text": [
      "R-squared: 0.6103\n",
      "MSE: 172596.3203\n",
      "MAE: 245.2001\n",
      "RMSE: 415.4471\n"
     ]
    }
   ],
   "source": [
    "# min_samples_split 증가 X\n",
    "\n",
    "## 모델 선언\n",
    "ms_model = RandomForestClassifier(random_state=42, max_depth= 10,\n",
    "                                 min_samples_split= 7,n_estimators= 200)\n",
    "\n",
    "## 모델 학습\n",
    "ms_model.fit(x_train3, y_train3)\n",
    "\n",
    "## 모델 평가\n",
    "pred53 = ms_model.predict(x_valid3)\n",
    "model_eval(y_valid3, pred53)"
   ]
  },
  {
   "cell_type": "code",
   "execution_count": 76,
   "id": "5bcef1ac",
   "metadata": {},
   "outputs": [
    {
     "name": "stdout",
     "output_type": "stream",
     "text": [
      "R-squared: 0.7065\n",
      "MSE: 129964.3184\n",
      "MAE: 216.8670\n",
      "RMSE: 360.5056\n"
     ]
    }
   ],
   "source": [
    "# min_samples_leaf 증가 O\n",
    "\n",
    "## 모델 선언\n",
    "ms_model = RandomForestClassifier(random_state=42, max_depth= 10,\n",
    "                                 min_samples_split= 5, min_samples_leaf=5 ,n_estimators= 200)\n",
    "\n",
    "## 모델 학습\n",
    "ms_model.fit(x_train3, y_train3)\n",
    "\n",
    "## 모델 평가\n",
    "pred54 = ms_model.predict(x_valid3)\n",
    "model_eval(y_valid3, pred54)"
   ]
  },
  {
   "cell_type": "code",
   "execution_count": 81,
   "id": "da966ce4",
   "metadata": {
    "scrolled": true
   },
   "outputs": [
    {
     "name": "stdout",
     "output_type": "stream",
     "text": [
      "R-squared: 0.7645\n",
      "MSE: 104287.5665\n",
      "MAE: 189.9821\n",
      "RMSE: 322.9359\n"
     ]
    }
   ],
   "source": [
    "# max_depth 증가 O\n",
    "\n",
    "## 모델 선언\n",
    "ms_model = RandomForestClassifier(random_state=42, max_depth= 20,\n",
    "                                 min_samples_split= 5, min_samples_leaf=5 ,n_estimators= 300)\n",
    "\n",
    "## 모델 학습\n",
    "ms_model.fit(x_train3, y_train3)\n",
    "\n",
    "## 모델 평가\n",
    "pred55 = ms_model.predict(x_valid3)\n",
    "model_eval(y_valid3, pred55)"
   ]
  },
  {
   "cell_type": "markdown",
   "id": "e8af1589",
   "metadata": {},
   "source": [
    "기본 모델 : R-squared: 0.7415 / MSE: 114461.3075  \n",
    "<span style='background-color:#ffdce0'>Manual Search : R-squared: 0.7645 / MSE: 104287.5665"
   ]
  },
  {
   "cell_type": "markdown",
   "id": "766e692f",
   "metadata": {},
   "source": [
    "# 3. 변수중요도 확인"
   ]
  },
  {
   "cell_type": "code",
   "execution_count": 86,
   "id": "37f07efc",
   "metadata": {},
   "outputs": [
    {
     "data": {
      "image/png": "[encoded data removed]",
      "text/plain": [
       "<Figure size 800x600 with 1 Axes>"
      ]
     },
     "metadata": {
      "image/png": {
       "height": 527,
       "width": 784
      }
     },
     "output_type": "display_data"
    }
   ],
   "source": [
    "# 변수 중요도 계산\n",
    "importances_values = pd.Series(ms_model.feature_importances_, index=x_valid3.columns).sort_values(ascending=False)\n",
    "\n",
    "# 변수 중요도 시각화\n",
    "plt.figure(figsize=(8,6))\n",
    "plt.title('Feature Importances')\n",
    "sns.barplot(x=importances_values, y=importances_values.index)\n",
    "plt.show()"
   ]
  },
  {
   "cell_type": "markdown",
   "id": "4d017d4f",
   "metadata": {},
   "source": [
    "Temperature, DewpiontTem, Humidity, Visiblity, Hour 순서로 변수 중요도가 높음.\n",
    "- 기온, 이슬점 온도, 습도 : 이슬점 온도는 기온과 습도에 의해 정해진다는 도메인 지식이 맞다고 할 수 있음.\n",
    "- 기온, 이슬점온도, 습도, 가시성과 같은 날씨 변수와 자전거 대여량의 관계가 깊은 것을 보아, 상식에 맞는 결과임.\n",
    "- 시간과 자전거 대여량은 큰 연관이 있음을 알 수 있음."
   ]
  },
  {
   "cell_type": "code",
   "execution_count": 35,
   "id": "2b587490",
   "metadata": {},
   "outputs": [
    {
     "name": "stdout",
     "output_type": "stream",
     "text": [
      "<class 'pandas.core.frame.DataFrame'>\n",
      "RangeIndex: 648 entries, 0 to 647\n",
      "Data columns (total 15 columns):\n",
      " #   Column              Non-Null Count  Dtype  \n",
      "---  ------              --------------  -----  \n",
      " 0   Seasons_Autumn      648 non-null    int64  \n",
      " 1   Seasons_Spring      648 non-null    int64  \n",
      " 2   Seasons_Summer      648 non-null    int64  \n",
      " 3   Seasons_Winter      648 non-null    int64  \n",
      " 4   Holiday_Holiday     648 non-null    int64  \n",
      " 5   Holiday_No Holiday  648 non-null    int64  \n",
      " 6   Hour                648 non-null    int64  \n",
      " 7   Temperature         648 non-null    float64\n",
      " 8   Humidity            648 non-null    int64  \n",
      " 9   Windspeed           648 non-null    float64\n",
      " 10  Visibility          648 non-null    int64  \n",
      " 11  DewpointTem         648 non-null    float64\n",
      " 12  SolarRadiation      648 non-null    float64\n",
      " 13  Rainfall            648 non-null    float64\n",
      " 14  Snowfall            648 non-null    float64\n",
      "dtypes: float64(6), int64(9)\n",
      "memory usage: 76.1 KB\n"
     ]
    }
   ],
   "source": [
    "x_test3.info() "
   ]
  },
  {
   "cell_type": "markdown",
   "id": "90f78f33",
   "metadata": {},
   "source": [
    "# 4. 변수 선택\n",
    "- 변수 중요도를 토대로 7가지 feature선택 후 모델링을 다시 하고자 함.\n",
    "- Temperature, DewpiontTem, Humidity, Visiblity, Hour, SolorRaidaion, Windspeed\n",
    "- 6~14행만 선택."
   ]
  },
  {
   "cell_type": "code",
   "execution_count": 215,
   "id": "85959990",
   "metadata": {},
   "outputs": [
    {
     "name": "stdout",
     "output_type": "stream",
     "text": [
      "<class 'pandas.core.frame.DataFrame'>\n",
      "RangeIndex: 7817 entries, 0 to 7816\n",
      "Data columns (total 27 columns):\n",
      " #   Column              Non-Null Count  Dtype  \n",
      "---  ------              --------------  -----  \n",
      " 0   Seasons_Autumn      7817 non-null   int64  \n",
      " 1   Seasons_Spring      7817 non-null   int64  \n",
      " 2   Seasons_Summer      7817 non-null   int64  \n",
      " 3   Seasons_Winter      7817 non-null   int64  \n",
      " 4   Holiday_Holiday     7817 non-null   int64  \n",
      " 5   Holiday_No Holiday  7817 non-null   int64  \n",
      " 6   Date                7817 non-null   object \n",
      " 7   BikeCount           7817 non-null   int64  \n",
      " 8   Hour                7817 non-null   int64  \n",
      " 9   Temperature         7817 non-null   float64\n",
      " 10  Humidity            7817 non-null   int64  \n",
      " 11  Windspeed           7817 non-null   float64\n",
      " 12  Visibility          7817 non-null   int64  \n",
      " 13  DewpointTem         7817 non-null   float64\n",
      " 14  SolarRadiation      7817 non-null   float64\n",
      " 15  Rainfall            7817 non-null   float64\n",
      " 16  Snowfall            7817 non-null   float64\n",
      " 17  sd_BikeCount        7817 non-null   float64\n",
      " 18  sd_Hour             7817 non-null   float64\n",
      " 19  sd_Temperature      7817 non-null   float64\n",
      " 20  sd_Humidity         7817 non-null   float64\n",
      " 21  sd_Windspeed        7817 non-null   float64\n",
      " 22  sd_Visibility       7817 non-null   float64\n",
      " 23  sd_DewpointTem      7817 non-null   float64\n",
      " 24  sd_SolarRadiation   7817 non-null   float64\n",
      " 25  sd_Rainfall         7817 non-null   float64\n",
      " 26  sd_Snowfall         7817 non-null   float64\n",
      "dtypes: float64(16), int64(10), object(1)\n",
      "memory usage: 1.6+ MB\n"
     ]
    }
   ],
   "source": [
    "train.info()"
   ]
  },
  {
   "cell_type": "code",
   "execution_count": 211,
   "id": "cdad6abc",
   "metadata": {},
   "outputs": [
    {
     "name": "stdout",
     "output_type": "stream",
     "text": [
      "<class 'pandas.core.frame.DataFrame'>\n",
      "RangeIndex: 648 entries, 0 to 647\n",
      "Data columns (total 25 columns):\n",
      " #   Column              Non-Null Count  Dtype  \n",
      "---  ------              --------------  -----  \n",
      " 0   Seasons_Autumn      648 non-null    int64  \n",
      " 1   Seasons_Spring      648 non-null    int64  \n",
      " 2   Seasons_Summer      648 non-null    int64  \n",
      " 3   Seasons_Winter      648 non-null    int64  \n",
      " 4   Holiday_Holiday     648 non-null    int64  \n",
      " 5   Holiday_No Holiday  648 non-null    int64  \n",
      " 6   Date                648 non-null    object \n",
      " 7   Hour                648 non-null    int64  \n",
      " 8   Temperature         648 non-null    float64\n",
      " 9   Humidity            648 non-null    int64  \n",
      " 10  Windspeed           648 non-null    float64\n",
      " 11  Visibility          648 non-null    int64  \n",
      " 12  DewpointTem         648 non-null    float64\n",
      " 13  SolarRadiation      648 non-null    float64\n",
      " 14  Rainfall            648 non-null    float64\n",
      " 15  Snowfall            648 non-null    float64\n",
      " 16  sd_Hour             648 non-null    float64\n",
      " 17  sd_Temperature      648 non-null    float64\n",
      " 18  sd_Humidity         648 non-null    float64\n",
      " 19  sd_Windspeed        648 non-null    float64\n",
      " 20  sd_Visibility       648 non-null    float64\n",
      " 21  sd_DewpointTem      648 non-null    float64\n",
      " 22  sd_SolarRadiation   648 non-null    float64\n",
      " 23  sd_Rainfall         648 non-null    float64\n",
      " 24  sd_Snowfall         648 non-null    float64\n",
      "dtypes: float64(15), int64(9), object(1)\n",
      "memory usage: 126.7+ KB\n"
     ]
    }
   ],
   "source": [
    "test.info()"
   ]
  },
  {
   "cell_type": "code",
   "execution_count": 246,
   "id": "9f3a7b33",
   "metadata": {},
   "outputs": [],
   "source": [
    "train_final = train.iloc[:, 7:15]\n",
    "test_final = test.iloc[:, 7:14]"
   ]
  },
  {
   "cell_type": "code",
   "execution_count": 247,
   "id": "5c961b4e",
   "metadata": {},
   "outputs": [],
   "source": [
    "X_train = train_final.drop(['BikeCount'], axis = 1).copy()\n",
    "y_train = train_final['BikeCount'].copy()\n",
    "\n",
    "x_train, x_valid, y_train, y_valid = train_test_split(X_train, y_train, test_size=0.2, #valid dataset의 비율 20프로\n",
    "                                                      shuffle=True, random_state = 0)\n",
    "x_test = test_final.copy()"
   ]
  },
  {
   "cell_type": "markdown",
   "id": "7e987bd2",
   "metadata": {},
   "source": [
    "# 5. 변수 선택 이후 모델링"
   ]
  },
  {
   "cell_type": "markdown",
   "id": "48369edc",
   "metadata": {},
   "source": [
    "## 5.1 모델 선택 \n",
    "선형 회귀 모델은 가장 성능이 좋지 않았으므로, DecisionTree와 RandomForest만 진행."
   ]
  },
  {
   "cell_type": "markdown",
   "id": "e02204a4",
   "metadata": {},
   "source": [
    "### 5.1.1 Decision Tree"
   ]
  },
  {
   "cell_type": "code",
   "execution_count": 17,
   "id": "f7350cf5",
   "metadata": {},
   "outputs": [
    {
     "data": {
      "text/html": [
       "<style>#sk-container-id-2 {color: black;background-color: white;}#sk-container-id-2 pre{padding: 0;}#sk-container-id-2 div.sk-toggleable {background-color: white;}#sk-container-id-2 label.sk-toggleable__label {cursor: pointer;display: block;width: 100%;margin-bottom: 0;padding: 0.3em;box-sizing: border-box;text-align: center;}#sk-container-id-2 label.sk-toggleable__label-arrow:before {content: \"▸\";float: left;margin-right: 0.25em;color: #696969;}#sk-container-id-2 label.sk-toggleable__label-arrow:hover:before {color: black;}#sk-container-id-2 div.sk-estimator:hover label.sk-toggleable__label-arrow:before {color: black;}#sk-container-id-2 div.sk-toggleable__content {max-height: 0;max-width: 0;overflow: hidden;text-align: left;background-color: #f0f8ff;}#sk-container-id-2 div.sk-toggleable__content pre {margin: 0.2em;color: black;border-radius: 0.25em;background-color: #f0f8ff;}#sk-container-id-2 input.sk-toggleable__control:checked~div.sk-toggleable__content {max-height: 200px;max-width: 100%;overflow: auto;}#sk-container-id-2 input.sk-toggleable__control:checked~label.sk-toggleable__label-arrow:before {content: \"▾\";}#sk-container-id-2 div.sk-estimator input.sk-toggleable__control:checked~label.sk-toggleable__label {background-color: #d4ebff;}#sk-container-id-2 div.sk-label input.sk-toggleable__control:checked~label.sk-toggleable__label {background-color: #d4ebff;}#sk-container-id-2 input.sk-hidden--visually {border: 0;clip: rect(1px 1px 1px 1px);clip: rect(1px, 1px, 1px, 1px);height: 1px;margin: -1px;overflow: hidden;padding: 0;position: absolute;width: 1px;}#sk-container-id-2 div.sk-estimator {font-family: monospace;background-color: #f0f8ff;border: 1px dotted black;border-radius: 0.25em;box-sizing: border-box;margin-bottom: 0.5em;}#sk-container-id-2 div.sk-estimator:hover {background-color: #d4ebff;}#sk-container-id-2 div.sk-parallel-item::after {content: \"\";width: 100%;border-bottom: 1px solid gray;flex-grow: 1;}#sk-container-id-2 div.sk-label:hover label.sk-toggleable__label {background-color: #d4ebff;}#sk-container-id-2 div.sk-serial::before {content: \"\";position: absolute;border-left: 1px solid gray;box-sizing: border-box;top: 0;bottom: 0;left: 50%;z-index: 0;}#sk-container-id-2 div.sk-serial {display: flex;flex-direction: column;align-items: center;background-color: white;padding-right: 0.2em;padding-left: 0.2em;position: relative;}#sk-container-id-2 div.sk-item {position: relative;z-index: 1;}#sk-container-id-2 div.sk-parallel {display: flex;align-items: stretch;justify-content: center;background-color: white;position: relative;}#sk-container-id-2 div.sk-item::before, #sk-container-id-2 div.sk-parallel-item::before {content: \"\";position: absolute;border-left: 1px solid gray;box-sizing: border-box;top: 0;bottom: 0;left: 50%;z-index: -1;}#sk-container-id-2 div.sk-parallel-item {display: flex;flex-direction: column;z-index: 1;position: relative;background-color: white;}#sk-container-id-2 div.sk-parallel-item:first-child::after {align-self: flex-end;width: 50%;}#sk-container-id-2 div.sk-parallel-item:last-child::after {align-self: flex-start;width: 50%;}#sk-container-id-2 div.sk-parallel-item:only-child::after {width: 0;}#sk-container-id-2 div.sk-dashed-wrapped {border: 1px dashed gray;margin: 0 0.4em 0.5em 0.4em;box-sizing: border-box;padding-bottom: 0.4em;background-color: white;}#sk-container-id-2 div.sk-label label {font-family: monospace;font-weight: bold;display: inline-block;line-height: 1.2em;}#sk-container-id-2 div.sk-label-container {text-align: center;}#sk-container-id-2 div.sk-container {/* jupyter's `normalize.less` sets `[hidden] { display: none; }` but bootstrap.min.css set `[hidden] { display: none !important; }` so we also need the `!important` here to be able to override the default hidden behavior on the sphinx rendered scikit-learn.org. See: https://github.com/scikit-learn/scikit-learn/issues/21755 */display: inline-block !important;position: relative;}#sk-container-id-2 div.sk-text-repr-fallback {display: none;}</style><div id=\"sk-container-id-2\" class=\"sk-top-container\"><div class=\"sk-text-repr-fallback\"><pre>DecisionTreeClassifier(random_state=42)</pre><b>In a Jupyter environment, please rerun this cell to show the HTML representation or trust the notebook. <br />On GitHub, the HTML representation is unable to render, please try loading this page with nbviewer.org.</b></div><div class=\"sk-container\" hidden><div class=\"sk-item\"><div class=\"sk-estimator sk-toggleable\"><input class=\"sk-toggleable__control sk-hidden--visually\" id=\"sk-estimator-id-2\" type=\"checkbox\" checked><label for=\"sk-estimator-id-2\" class=\"sk-toggleable__label sk-toggleable__label-arrow\">DecisionTreeClassifier</label><div class=\"sk-toggleable__content\"><pre>DecisionTreeClassifier(random_state=42)</pre></div></div></div></div></div>"
      ],
      "text/plain": [
       "DecisionTreeClassifier(random_state=42)"
      ]
     },
     "execution_count": 17,
     "metadata": {},
     "output_type": "execute_result"
    }
   ],
   "source": [
    "model6 = DecisionTreeClassifier(random_state = 42)\n",
    "\n",
    "# 의사결정트리 모델 학습\n",
    "model6.fit(x_train, y_train)"
   ]
  },
  {
   "cell_type": "code",
   "execution_count": 49,
   "id": "1d3558c2",
   "metadata": {},
   "outputs": [],
   "source": [
    "pred6 = model6.predict(x_valid)\n",
    "mse6 = mean_squared_error(y_valid, pred6)\n",
    "r26 = r2_score(y_valid, pred6)"
   ]
  },
  {
   "cell_type": "code",
   "execution_count": 50,
   "id": "e4f38128",
   "metadata": {},
   "outputs": [
    {
     "name": "stdout",
     "output_type": "stream",
     "text": [
      "R-squared: 0.9966\n",
      "MSE: 1485.5345\n",
      "MAE: 3.8683\n",
      "RMSE: 38.5426\n"
     ]
    }
   ],
   "source": [
    "# 모델 평가\n",
    "model_eval(y_valid, pred6)"
   ]
  },
  {
   "cell_type": "markdown",
   "id": "47d88d3d",
   "metadata": {},
   "source": [
    "### 5.1.2 Random Forest\n",
    "이 부분을 실행하면 계속 오류가 나고 크롬 창 자체 렉을 먹고 꺼져서... 실행해보지 못했습니다..."
   ]
  },
  {
   "cell_type": "code",
   "execution_count": 51,
   "id": "4119a380",
   "metadata": {},
   "outputs": [
    {
     "ename": "MemoryError",
     "evalue": "could not allocate 129761280 bytes",
     "output_type": "error",
     "traceback": [
      "\u001b[1;31m---------------------------------------------------------------------------\u001b[0m",
      "\u001b[1;31mMemoryError\u001b[0m                               Traceback (most recent call last)",
      "Cell \u001b[1;32mIn[51], line 4\u001b[0m\n\u001b[0;32m      1\u001b[0m model7 \u001b[38;5;241m=\u001b[39m RandomForestClassifier(random_state \u001b[38;5;241m=\u001b[39m \u001b[38;5;241m42\u001b[39m)\n\u001b[0;32m      3\u001b[0m \u001b[38;5;66;03m# 랜덤포레스트 모델 학습\u001b[39;00m\n\u001b[1;32m----> 4\u001b[0m \u001b[43mmodel7\u001b[49m\u001b[38;5;241;43m.\u001b[39;49m\u001b[43mfit\u001b[49m\u001b[43m(\u001b[49m\u001b[43mx_train\u001b[49m\u001b[43m,\u001b[49m\u001b[43m \u001b[49m\u001b[43my_train\u001b[49m\u001b[43m)\u001b[49m\n",
      "File \u001b[1;32m~\\anaconda3\\lib\\site-packages\\sklearn\\ensemble\\_forest.py:473\u001b[0m, in \u001b[0;36mBaseForest.fit\u001b[1;34m(self, X, y, sample_weight)\u001b[0m\n\u001b[0;32m    462\u001b[0m trees \u001b[38;5;241m=\u001b[39m [\n\u001b[0;32m    463\u001b[0m     \u001b[38;5;28mself\u001b[39m\u001b[38;5;241m.\u001b[39m_make_estimator(append\u001b[38;5;241m=\u001b[39m\u001b[38;5;28;01mFalse\u001b[39;00m, random_state\u001b[38;5;241m=\u001b[39mrandom_state)\n\u001b[0;32m    464\u001b[0m     \u001b[38;5;28;01mfor\u001b[39;00m i \u001b[38;5;129;01min\u001b[39;00m \u001b[38;5;28mrange\u001b[39m(n_more_estimators)\n\u001b[0;32m    465\u001b[0m ]\n\u001b[0;32m    467\u001b[0m \u001b[38;5;66;03m# Parallel loop: we prefer the threading backend as the Cython code\u001b[39;00m\n\u001b[0;32m    468\u001b[0m \u001b[38;5;66;03m# for fitting the trees is internally releasing the Python GIL\u001b[39;00m\n\u001b[0;32m    469\u001b[0m \u001b[38;5;66;03m# making threading more efficient than multiprocessing in\u001b[39;00m\n\u001b[0;32m    470\u001b[0m \u001b[38;5;66;03m# that case. However, for joblib 0.12+ we respect any\u001b[39;00m\n\u001b[0;32m    471\u001b[0m \u001b[38;5;66;03m# parallel_backend contexts set at a higher level,\u001b[39;00m\n\u001b[0;32m    472\u001b[0m \u001b[38;5;66;03m# since correctness does not rely on using threads.\u001b[39;00m\n\u001b[1;32m--> 473\u001b[0m trees \u001b[38;5;241m=\u001b[39m \u001b[43mParallel\u001b[49m\u001b[43m(\u001b[49m\n\u001b[0;32m    474\u001b[0m \u001b[43m    \u001b[49m\u001b[43mn_jobs\u001b[49m\u001b[38;5;241;43m=\u001b[39;49m\u001b[38;5;28;43mself\u001b[39;49m\u001b[38;5;241;43m.\u001b[39;49m\u001b[43mn_jobs\u001b[49m\u001b[43m,\u001b[49m\n\u001b[0;32m    475\u001b[0m \u001b[43m    \u001b[49m\u001b[43mverbose\u001b[49m\u001b[38;5;241;43m=\u001b[39;49m\u001b[38;5;28;43mself\u001b[39;49m\u001b[38;5;241;43m.\u001b[39;49m\u001b[43mverbose\u001b[49m\u001b[43m,\u001b[49m\n\u001b[0;32m    476\u001b[0m \u001b[43m    \u001b[49m\u001b[43mprefer\u001b[49m\u001b[38;5;241;43m=\u001b[39;49m\u001b[38;5;124;43m\"\u001b[39;49m\u001b[38;5;124;43mthreads\u001b[39;49m\u001b[38;5;124;43m\"\u001b[39;49m\u001b[43m,\u001b[49m\n\u001b[0;32m    477\u001b[0m \u001b[43m\u001b[49m\u001b[43m)\u001b[49m\u001b[43m(\u001b[49m\n\u001b[0;32m    478\u001b[0m \u001b[43m    \u001b[49m\u001b[43mdelayed\u001b[49m\u001b[43m(\u001b[49m\u001b[43m_parallel_build_trees\u001b[49m\u001b[43m)\u001b[49m\u001b[43m(\u001b[49m\n\u001b[0;32m    479\u001b[0m \u001b[43m        \u001b[49m\u001b[43mt\u001b[49m\u001b[43m,\u001b[49m\n\u001b[0;32m    480\u001b[0m \u001b[43m        \u001b[49m\u001b[38;5;28;43mself\u001b[39;49m\u001b[38;5;241;43m.\u001b[39;49m\u001b[43mbootstrap\u001b[49m\u001b[43m,\u001b[49m\n\u001b[0;32m    481\u001b[0m \u001b[43m        \u001b[49m\u001b[43mX\u001b[49m\u001b[43m,\u001b[49m\n\u001b[0;32m    482\u001b[0m \u001b[43m        \u001b[49m\u001b[43my\u001b[49m\u001b[43m,\u001b[49m\n\u001b[0;32m    483\u001b[0m \u001b[43m        \u001b[49m\u001b[43msample_weight\u001b[49m\u001b[43m,\u001b[49m\n\u001b[0;32m    484\u001b[0m \u001b[43m        \u001b[49m\u001b[43mi\u001b[49m\u001b[43m,\u001b[49m\n\u001b[0;32m    485\u001b[0m \u001b[43m        \u001b[49m\u001b[38;5;28;43mlen\u001b[39;49m\u001b[43m(\u001b[49m\u001b[43mtrees\u001b[49m\u001b[43m)\u001b[49m\u001b[43m,\u001b[49m\n\u001b[0;32m    486\u001b[0m \u001b[43m        \u001b[49m\u001b[43mverbose\u001b[49m\u001b[38;5;241;43m=\u001b[39;49m\u001b[38;5;28;43mself\u001b[39;49m\u001b[38;5;241;43m.\u001b[39;49m\u001b[43mverbose\u001b[49m\u001b[43m,\u001b[49m\n\u001b[0;32m    487\u001b[0m \u001b[43m        \u001b[49m\u001b[43mclass_weight\u001b[49m\u001b[38;5;241;43m=\u001b[39;49m\u001b[38;5;28;43mself\u001b[39;49m\u001b[38;5;241;43m.\u001b[39;49m\u001b[43mclass_weight\u001b[49m\u001b[43m,\u001b[49m\n\u001b[0;32m    488\u001b[0m \u001b[43m        \u001b[49m\u001b[43mn_samples_bootstrap\u001b[49m\u001b[38;5;241;43m=\u001b[39;49m\u001b[43mn_samples_bootstrap\u001b[49m\u001b[43m,\u001b[49m\n\u001b[0;32m    489\u001b[0m \u001b[43m    \u001b[49m\u001b[43m)\u001b[49m\n\u001b[0;32m    490\u001b[0m \u001b[43m    \u001b[49m\u001b[38;5;28;43;01mfor\u001b[39;49;00m\u001b[43m \u001b[49m\u001b[43mi\u001b[49m\u001b[43m,\u001b[49m\u001b[43m \u001b[49m\u001b[43mt\u001b[49m\u001b[43m \u001b[49m\u001b[38;5;129;43;01min\u001b[39;49;00m\u001b[43m \u001b[49m\u001b[38;5;28;43menumerate\u001b[39;49m\u001b[43m(\u001b[49m\u001b[43mtrees\u001b[49m\u001b[43m)\u001b[49m\n\u001b[0;32m    491\u001b[0m \u001b[43m\u001b[49m\u001b[43m)\u001b[49m\n\u001b[0;32m    493\u001b[0m \u001b[38;5;66;03m# Collect newly grown trees\u001b[39;00m\n\u001b[0;32m    494\u001b[0m \u001b[38;5;28mself\u001b[39m\u001b[38;5;241m.\u001b[39mestimators_\u001b[38;5;241m.\u001b[39mextend(trees)\n",
      "File \u001b[1;32m~\\anaconda3\\lib\\site-packages\\sklearn\\utils\\parallel.py:63\u001b[0m, in \u001b[0;36mParallel.__call__\u001b[1;34m(self, iterable)\u001b[0m\n\u001b[0;32m     58\u001b[0m config \u001b[38;5;241m=\u001b[39m get_config()\n\u001b[0;32m     59\u001b[0m iterable_with_config \u001b[38;5;241m=\u001b[39m (\n\u001b[0;32m     60\u001b[0m     (_with_config(delayed_func, config), args, kwargs)\n\u001b[0;32m     61\u001b[0m     \u001b[38;5;28;01mfor\u001b[39;00m delayed_func, args, kwargs \u001b[38;5;129;01min\u001b[39;00m iterable\n\u001b[0;32m     62\u001b[0m )\n\u001b[1;32m---> 63\u001b[0m \u001b[38;5;28;01mreturn\u001b[39;00m \u001b[38;5;28;43msuper\u001b[39;49m\u001b[43m(\u001b[49m\u001b[43m)\u001b[49m\u001b[38;5;241;43m.\u001b[39;49m\u001b[38;5;21;43m__call__\u001b[39;49m\u001b[43m(\u001b[49m\u001b[43miterable_with_config\u001b[49m\u001b[43m)\u001b[49m\n",
      "File \u001b[1;32m~\\anaconda3\\lib\\site-packages\\joblib\\parallel.py:1051\u001b[0m, in \u001b[0;36mParallel.__call__\u001b[1;34m(self, iterable)\u001b[0m\n\u001b[0;32m   1048\u001b[0m \u001b[38;5;28;01mif\u001b[39;00m \u001b[38;5;28mself\u001b[39m\u001b[38;5;241m.\u001b[39mdispatch_one_batch(iterator):\n\u001b[0;32m   1049\u001b[0m     \u001b[38;5;28mself\u001b[39m\u001b[38;5;241m.\u001b[39m_iterating \u001b[38;5;241m=\u001b[39m \u001b[38;5;28mself\u001b[39m\u001b[38;5;241m.\u001b[39m_original_iterator \u001b[38;5;129;01mis\u001b[39;00m \u001b[38;5;129;01mnot\u001b[39;00m \u001b[38;5;28;01mNone\u001b[39;00m\n\u001b[1;32m-> 1051\u001b[0m \u001b[38;5;28;01mwhile\u001b[39;00m \u001b[38;5;28;43mself\u001b[39;49m\u001b[38;5;241;43m.\u001b[39;49m\u001b[43mdispatch_one_batch\u001b[49m\u001b[43m(\u001b[49m\u001b[43miterator\u001b[49m\u001b[43m)\u001b[49m:\n\u001b[0;32m   1052\u001b[0m     \u001b[38;5;28;01mpass\u001b[39;00m\n\u001b[0;32m   1054\u001b[0m \u001b[38;5;28;01mif\u001b[39;00m pre_dispatch \u001b[38;5;241m==\u001b[39m \u001b[38;5;124m\"\u001b[39m\u001b[38;5;124mall\u001b[39m\u001b[38;5;124m\"\u001b[39m \u001b[38;5;129;01mor\u001b[39;00m n_jobs \u001b[38;5;241m==\u001b[39m \u001b[38;5;241m1\u001b[39m:\n\u001b[0;32m   1055\u001b[0m     \u001b[38;5;66;03m# The iterable was consumed all at once by the above for loop.\u001b[39;00m\n\u001b[0;32m   1056\u001b[0m     \u001b[38;5;66;03m# No need to wait for async callbacks to trigger to\u001b[39;00m\n\u001b[0;32m   1057\u001b[0m     \u001b[38;5;66;03m# consumption.\u001b[39;00m\n",
      "File \u001b[1;32m~\\anaconda3\\lib\\site-packages\\joblib\\parallel.py:864\u001b[0m, in \u001b[0;36mParallel.dispatch_one_batch\u001b[1;34m(self, iterator)\u001b[0m\n\u001b[0;32m    862\u001b[0m     \u001b[38;5;28;01mreturn\u001b[39;00m \u001b[38;5;28;01mFalse\u001b[39;00m\n\u001b[0;32m    863\u001b[0m \u001b[38;5;28;01melse\u001b[39;00m:\n\u001b[1;32m--> 864\u001b[0m     \u001b[38;5;28;43mself\u001b[39;49m\u001b[38;5;241;43m.\u001b[39;49m\u001b[43m_dispatch\u001b[49m\u001b[43m(\u001b[49m\u001b[43mtasks\u001b[49m\u001b[43m)\u001b[49m\n\u001b[0;32m    865\u001b[0m     \u001b[38;5;28;01mreturn\u001b[39;00m \u001b[38;5;28;01mTrue\u001b[39;00m\n",
      "File \u001b[1;32m~\\anaconda3\\lib\\site-packages\\joblib\\parallel.py:782\u001b[0m, in \u001b[0;36mParallel._dispatch\u001b[1;34m(self, batch)\u001b[0m\n\u001b[0;32m    780\u001b[0m \u001b[38;5;28;01mwith\u001b[39;00m \u001b[38;5;28mself\u001b[39m\u001b[38;5;241m.\u001b[39m_lock:\n\u001b[0;32m    781\u001b[0m     job_idx \u001b[38;5;241m=\u001b[39m \u001b[38;5;28mlen\u001b[39m(\u001b[38;5;28mself\u001b[39m\u001b[38;5;241m.\u001b[39m_jobs)\n\u001b[1;32m--> 782\u001b[0m     job \u001b[38;5;241m=\u001b[39m \u001b[38;5;28;43mself\u001b[39;49m\u001b[38;5;241;43m.\u001b[39;49m\u001b[43m_backend\u001b[49m\u001b[38;5;241;43m.\u001b[39;49m\u001b[43mapply_async\u001b[49m\u001b[43m(\u001b[49m\u001b[43mbatch\u001b[49m\u001b[43m,\u001b[49m\u001b[43m \u001b[49m\u001b[43mcallback\u001b[49m\u001b[38;5;241;43m=\u001b[39;49m\u001b[43mcb\u001b[49m\u001b[43m)\u001b[49m\n\u001b[0;32m    783\u001b[0m     \u001b[38;5;66;03m# A job can complete so quickly than its callback is\u001b[39;00m\n\u001b[0;32m    784\u001b[0m     \u001b[38;5;66;03m# called before we get here, causing self._jobs to\u001b[39;00m\n\u001b[0;32m    785\u001b[0m     \u001b[38;5;66;03m# grow. To ensure correct results ordering, .insert is\u001b[39;00m\n\u001b[0;32m    786\u001b[0m     \u001b[38;5;66;03m# used (rather than .append) in the following line\u001b[39;00m\n\u001b[0;32m    787\u001b[0m     \u001b[38;5;28mself\u001b[39m\u001b[38;5;241m.\u001b[39m_jobs\u001b[38;5;241m.\u001b[39minsert(job_idx, job)\n",
      "File \u001b[1;32m~\\anaconda3\\lib\\site-packages\\joblib\\_parallel_backends.py:208\u001b[0m, in \u001b[0;36mSequentialBackend.apply_async\u001b[1;34m(self, func, callback)\u001b[0m\n\u001b[0;32m    206\u001b[0m \u001b[38;5;28;01mdef\u001b[39;00m \u001b[38;5;21mapply_async\u001b[39m(\u001b[38;5;28mself\u001b[39m, func, callback\u001b[38;5;241m=\u001b[39m\u001b[38;5;28;01mNone\u001b[39;00m):\n\u001b[0;32m    207\u001b[0m     \u001b[38;5;124;03m\"\"\"Schedule a func to be run\"\"\"\u001b[39;00m\n\u001b[1;32m--> 208\u001b[0m     result \u001b[38;5;241m=\u001b[39m \u001b[43mImmediateResult\u001b[49m\u001b[43m(\u001b[49m\u001b[43mfunc\u001b[49m\u001b[43m)\u001b[49m\n\u001b[0;32m    209\u001b[0m     \u001b[38;5;28;01mif\u001b[39;00m callback:\n\u001b[0;32m    210\u001b[0m         callback(result)\n",
      "File \u001b[1;32m~\\anaconda3\\lib\\site-packages\\joblib\\_parallel_backends.py:572\u001b[0m, in \u001b[0;36mImmediateResult.__init__\u001b[1;34m(self, batch)\u001b[0m\n\u001b[0;32m    569\u001b[0m \u001b[38;5;28;01mdef\u001b[39;00m \u001b[38;5;21m__init__\u001b[39m(\u001b[38;5;28mself\u001b[39m, batch):\n\u001b[0;32m    570\u001b[0m     \u001b[38;5;66;03m# Don't delay the application, to avoid keeping the input\u001b[39;00m\n\u001b[0;32m    571\u001b[0m     \u001b[38;5;66;03m# arguments in memory\u001b[39;00m\n\u001b[1;32m--> 572\u001b[0m     \u001b[38;5;28mself\u001b[39m\u001b[38;5;241m.\u001b[39mresults \u001b[38;5;241m=\u001b[39m \u001b[43mbatch\u001b[49m\u001b[43m(\u001b[49m\u001b[43m)\u001b[49m\n",
      "File \u001b[1;32m~\\anaconda3\\lib\\site-packages\\joblib\\parallel.py:263\u001b[0m, in \u001b[0;36mBatchedCalls.__call__\u001b[1;34m(self)\u001b[0m\n\u001b[0;32m    259\u001b[0m \u001b[38;5;28;01mdef\u001b[39;00m \u001b[38;5;21m__call__\u001b[39m(\u001b[38;5;28mself\u001b[39m):\n\u001b[0;32m    260\u001b[0m     \u001b[38;5;66;03m# Set the default nested backend to self._backend but do not set the\u001b[39;00m\n\u001b[0;32m    261\u001b[0m     \u001b[38;5;66;03m# change the default number of processes to -1\u001b[39;00m\n\u001b[0;32m    262\u001b[0m     \u001b[38;5;28;01mwith\u001b[39;00m parallel_backend(\u001b[38;5;28mself\u001b[39m\u001b[38;5;241m.\u001b[39m_backend, n_jobs\u001b[38;5;241m=\u001b[39m\u001b[38;5;28mself\u001b[39m\u001b[38;5;241m.\u001b[39m_n_jobs):\n\u001b[1;32m--> 263\u001b[0m         \u001b[38;5;28;01mreturn\u001b[39;00m [func(\u001b[38;5;241m*\u001b[39margs, \u001b[38;5;241m*\u001b[39m\u001b[38;5;241m*\u001b[39mkwargs)\n\u001b[0;32m    264\u001b[0m                 \u001b[38;5;28;01mfor\u001b[39;00m func, args, kwargs \u001b[38;5;129;01min\u001b[39;00m \u001b[38;5;28mself\u001b[39m\u001b[38;5;241m.\u001b[39mitems]\n",
      "File \u001b[1;32m~\\anaconda3\\lib\\site-packages\\joblib\\parallel.py:263\u001b[0m, in \u001b[0;36m<listcomp>\u001b[1;34m(.0)\u001b[0m\n\u001b[0;32m    259\u001b[0m \u001b[38;5;28;01mdef\u001b[39;00m \u001b[38;5;21m__call__\u001b[39m(\u001b[38;5;28mself\u001b[39m):\n\u001b[0;32m    260\u001b[0m     \u001b[38;5;66;03m# Set the default nested backend to self._backend but do not set the\u001b[39;00m\n\u001b[0;32m    261\u001b[0m     \u001b[38;5;66;03m# change the default number of processes to -1\u001b[39;00m\n\u001b[0;32m    262\u001b[0m     \u001b[38;5;28;01mwith\u001b[39;00m parallel_backend(\u001b[38;5;28mself\u001b[39m\u001b[38;5;241m.\u001b[39m_backend, n_jobs\u001b[38;5;241m=\u001b[39m\u001b[38;5;28mself\u001b[39m\u001b[38;5;241m.\u001b[39m_n_jobs):\n\u001b[1;32m--> 263\u001b[0m         \u001b[38;5;28;01mreturn\u001b[39;00m [func(\u001b[38;5;241m*\u001b[39margs, \u001b[38;5;241m*\u001b[39m\u001b[38;5;241m*\u001b[39mkwargs)\n\u001b[0;32m    264\u001b[0m                 \u001b[38;5;28;01mfor\u001b[39;00m func, args, kwargs \u001b[38;5;129;01min\u001b[39;00m \u001b[38;5;28mself\u001b[39m\u001b[38;5;241m.\u001b[39mitems]\n",
      "File \u001b[1;32m~\\anaconda3\\lib\\site-packages\\sklearn\\utils\\parallel.py:123\u001b[0m, in \u001b[0;36m_FuncWrapper.__call__\u001b[1;34m(self, *args, **kwargs)\u001b[0m\n\u001b[0;32m    121\u001b[0m     config \u001b[38;5;241m=\u001b[39m {}\n\u001b[0;32m    122\u001b[0m \u001b[38;5;28;01mwith\u001b[39;00m config_context(\u001b[38;5;241m*\u001b[39m\u001b[38;5;241m*\u001b[39mconfig):\n\u001b[1;32m--> 123\u001b[0m     \u001b[38;5;28;01mreturn\u001b[39;00m \u001b[38;5;28mself\u001b[39m\u001b[38;5;241m.\u001b[39mfunction(\u001b[38;5;241m*\u001b[39margs, \u001b[38;5;241m*\u001b[39m\u001b[38;5;241m*\u001b[39mkwargs)\n",
      "File \u001b[1;32m~\\anaconda3\\lib\\site-packages\\sklearn\\ensemble\\_forest.py:184\u001b[0m, in \u001b[0;36m_parallel_build_trees\u001b[1;34m(tree, bootstrap, X, y, sample_weight, tree_idx, n_trees, verbose, class_weight, n_samples_bootstrap)\u001b[0m\n\u001b[0;32m    181\u001b[0m     \u001b[38;5;28;01melif\u001b[39;00m class_weight \u001b[38;5;241m==\u001b[39m \u001b[38;5;124m\"\u001b[39m\u001b[38;5;124mbalanced_subsample\u001b[39m\u001b[38;5;124m\"\u001b[39m:\n\u001b[0;32m    182\u001b[0m         curr_sample_weight \u001b[38;5;241m*\u001b[39m\u001b[38;5;241m=\u001b[39m compute_sample_weight(\u001b[38;5;124m\"\u001b[39m\u001b[38;5;124mbalanced\u001b[39m\u001b[38;5;124m\"\u001b[39m, y, indices\u001b[38;5;241m=\u001b[39mindices)\n\u001b[1;32m--> 184\u001b[0m     \u001b[43mtree\u001b[49m\u001b[38;5;241;43m.\u001b[39;49m\u001b[43mfit\u001b[49m\u001b[43m(\u001b[49m\u001b[43mX\u001b[49m\u001b[43m,\u001b[49m\u001b[43m \u001b[49m\u001b[43my\u001b[49m\u001b[43m,\u001b[49m\u001b[43m \u001b[49m\u001b[43msample_weight\u001b[49m\u001b[38;5;241;43m=\u001b[39;49m\u001b[43mcurr_sample_weight\u001b[49m\u001b[43m,\u001b[49m\u001b[43m \u001b[49m\u001b[43mcheck_input\u001b[49m\u001b[38;5;241;43m=\u001b[39;49m\u001b[38;5;28;43;01mFalse\u001b[39;49;00m\u001b[43m)\u001b[49m\n\u001b[0;32m    185\u001b[0m \u001b[38;5;28;01melse\u001b[39;00m:\n\u001b[0;32m    186\u001b[0m     tree\u001b[38;5;241m.\u001b[39mfit(X, y, sample_weight\u001b[38;5;241m=\u001b[39msample_weight, check_input\u001b[38;5;241m=\u001b[39m\u001b[38;5;28;01mFalse\u001b[39;00m)\n",
      "File \u001b[1;32m~\\anaconda3\\lib\\site-packages\\sklearn\\tree\\_classes.py:889\u001b[0m, in \u001b[0;36mDecisionTreeClassifier.fit\u001b[1;34m(self, X, y, sample_weight, check_input)\u001b[0m\n\u001b[0;32m    859\u001b[0m \u001b[38;5;28;01mdef\u001b[39;00m \u001b[38;5;21mfit\u001b[39m(\u001b[38;5;28mself\u001b[39m, X, y, sample_weight\u001b[38;5;241m=\u001b[39m\u001b[38;5;28;01mNone\u001b[39;00m, check_input\u001b[38;5;241m=\u001b[39m\u001b[38;5;28;01mTrue\u001b[39;00m):\n\u001b[0;32m    860\u001b[0m     \u001b[38;5;124;03m\"\"\"Build a decision tree classifier from the training set (X, y).\u001b[39;00m\n\u001b[0;32m    861\u001b[0m \n\u001b[0;32m    862\u001b[0m \u001b[38;5;124;03m    Parameters\u001b[39;00m\n\u001b[1;32m   (...)\u001b[0m\n\u001b[0;32m    886\u001b[0m \u001b[38;5;124;03m        Fitted estimator.\u001b[39;00m\n\u001b[0;32m    887\u001b[0m \u001b[38;5;124;03m    \"\"\"\u001b[39;00m\n\u001b[1;32m--> 889\u001b[0m     \u001b[38;5;28;43msuper\u001b[39;49m\u001b[43m(\u001b[49m\u001b[43m)\u001b[49m\u001b[38;5;241;43m.\u001b[39;49m\u001b[43mfit\u001b[49m\u001b[43m(\u001b[49m\n\u001b[0;32m    890\u001b[0m \u001b[43m        \u001b[49m\u001b[43mX\u001b[49m\u001b[43m,\u001b[49m\n\u001b[0;32m    891\u001b[0m \u001b[43m        \u001b[49m\u001b[43my\u001b[49m\u001b[43m,\u001b[49m\n\u001b[0;32m    892\u001b[0m \u001b[43m        \u001b[49m\u001b[43msample_weight\u001b[49m\u001b[38;5;241;43m=\u001b[39;49m\u001b[43msample_weight\u001b[49m\u001b[43m,\u001b[49m\n\u001b[0;32m    893\u001b[0m \u001b[43m        \u001b[49m\u001b[43mcheck_input\u001b[49m\u001b[38;5;241;43m=\u001b[39;49m\u001b[43mcheck_input\u001b[49m\u001b[43m,\u001b[49m\n\u001b[0;32m    894\u001b[0m \u001b[43m    \u001b[49m\u001b[43m)\u001b[49m\n\u001b[0;32m    895\u001b[0m     \u001b[38;5;28;01mreturn\u001b[39;00m \u001b[38;5;28mself\u001b[39m\n",
      "File \u001b[1;32m~\\anaconda3\\lib\\site-packages\\sklearn\\tree\\_classes.py:379\u001b[0m, in \u001b[0;36mBaseDecisionTree.fit\u001b[1;34m(self, X, y, sample_weight, check_input)\u001b[0m\n\u001b[0;32m    368\u001b[0m \u001b[38;5;28;01melse\u001b[39;00m:\n\u001b[0;32m    369\u001b[0m     builder \u001b[38;5;241m=\u001b[39m BestFirstTreeBuilder(\n\u001b[0;32m    370\u001b[0m         splitter,\n\u001b[0;32m    371\u001b[0m         min_samples_split,\n\u001b[1;32m   (...)\u001b[0m\n\u001b[0;32m    376\u001b[0m         \u001b[38;5;28mself\u001b[39m\u001b[38;5;241m.\u001b[39mmin_impurity_decrease,\n\u001b[0;32m    377\u001b[0m     )\n\u001b[1;32m--> 379\u001b[0m \u001b[43mbuilder\u001b[49m\u001b[38;5;241;43m.\u001b[39;49m\u001b[43mbuild\u001b[49m\u001b[43m(\u001b[49m\u001b[38;5;28;43mself\u001b[39;49m\u001b[38;5;241;43m.\u001b[39;49m\u001b[43mtree_\u001b[49m\u001b[43m,\u001b[49m\u001b[43m \u001b[49m\u001b[43mX\u001b[49m\u001b[43m,\u001b[49m\u001b[43m \u001b[49m\u001b[43my\u001b[49m\u001b[43m,\u001b[49m\u001b[43m \u001b[49m\u001b[43msample_weight\u001b[49m\u001b[43m)\u001b[49m\n\u001b[0;32m    381\u001b[0m \u001b[38;5;28;01mif\u001b[39;00m \u001b[38;5;28mself\u001b[39m\u001b[38;5;241m.\u001b[39mn_outputs_ \u001b[38;5;241m==\u001b[39m \u001b[38;5;241m1\u001b[39m \u001b[38;5;129;01mand\u001b[39;00m is_classifier(\u001b[38;5;28mself\u001b[39m):\n\u001b[0;32m    382\u001b[0m     \u001b[38;5;28mself\u001b[39m\u001b[38;5;241m.\u001b[39mn_classes_ \u001b[38;5;241m=\u001b[39m \u001b[38;5;28mself\u001b[39m\u001b[38;5;241m.\u001b[39mn_classes_[\u001b[38;5;241m0\u001b[39m]\n",
      "File \u001b[1;32msklearn\\tree\\_tree.pyx:147\u001b[0m, in \u001b[0;36msklearn.tree._tree.DepthFirstTreeBuilder.build\u001b[1;34m()\u001b[0m\n",
      "File \u001b[1;32msklearn\\tree\\_tree.pyx:242\u001b[0m, in \u001b[0;36msklearn.tree._tree.DepthFirstTreeBuilder.build\u001b[1;34m()\u001b[0m\n",
      "File \u001b[1;32msklearn\\tree\\_tree.pyx:747\u001b[0m, in \u001b[0;36msklearn.tree._tree.Tree._add_node\u001b[1;34m()\u001b[0m\n",
      "File \u001b[1;32msklearn\\tree\\_tree.pyx:719\u001b[0m, in \u001b[0;36msklearn.tree._tree.Tree._resize_c\u001b[1;34m()\u001b[0m\n",
      "File \u001b[1;32msklearn\\tree\\_utils.pyx:35\u001b[0m, in \u001b[0;36msklearn.tree._utils.safe_realloc\u001b[1;34m()\u001b[0m\n",
      "\u001b[1;31mMemoryError\u001b[0m: could not allocate 129761280 bytes"
     ]
    }
   ],
   "source": [
    "model7 = RandomForestClassifier(random_state = 42)\n",
    "\n",
    "# 랜덤포레스트 모델 학습\n",
    "model7.fit(x_train, y_train)"
   ]
  },
  {
   "cell_type": "markdown",
   "id": "fbc57abd",
   "metadata": {},
   "source": [
    "의사결정트리도 r-squred: 0.9966으로 굉장히 높고, MSE : 1485.5345로 굉장히 낮은 수치임. => 좋은 수치  \n",
    "랜덤포레스트가 실행되지 않는 관계로 <span style='background-color:#ffdce0'>Decision Tree로 모델을 선정."
   ]
  },
  {
   "cell_type": "markdown",
   "id": "378c4150",
   "metadata": {},
   "source": [
    "## 5.2 하이퍼파라미터 튜닝"
   ]
  },
  {
   "cell_type": "code",
   "execution_count": 15,
   "id": "ad2de92b",
   "metadata": {},
   "outputs": [
    {
     "name": "stdout",
     "output_type": "stream",
     "text": [
      "{'ccp_alpha': 0.0, 'class_weight': None, 'criterion': 'gini', 'max_depth': None, 'max_features': None, 'max_leaf_nodes': None, 'min_impurity_decrease': 0.0, 'min_samples_leaf': 1, 'min_samples_split': 2, 'min_weight_fraction_leaf': 0.0, 'random_state': 42, 'splitter': 'best'}\n"
     ]
    }
   ],
   "source": [
    "# 하이퍼파라미터 확인\n",
    "print(model6.get_params())"
   ]
  },
  {
   "cell_type": "markdown",
   "id": "15a0a358",
   "metadata": {},
   "source": [
    "### 5.2.1 Grid Search"
   ]
  },
  {
   "cell_type": "code",
   "execution_count": 244,
   "id": "b7f8d2b4",
   "metadata": {},
   "outputs": [],
   "source": [
    "from sklearn.model_selection import GridSearchCV\n",
    "\n",
    "# 하이퍼파라미터를 딕셔너리로 설정\n",
    "model= DecisionTreeClassifier(random_state = 42)\n",
    "\n",
    "params_grid = {\n",
    "    'max_features' : ['sqrt','log2'],\n",
    "    'max_depth' : [None, 3],\n",
    "    'min_samples_split' : [2, 5],\n",
    "    'min_samples_leaf': [1,2]\n",
    "}"
   ]
  },
  {
   "cell_type": "code",
   "execution_count": 248,
   "id": "4372e991",
   "metadata": {},
   "outputs": [
    {
     "data": {
      "text/html": [
       "<style>#sk-container-id-12 {color: black;background-color: white;}#sk-container-id-12 pre{padding: 0;}#sk-container-id-12 div.sk-toggleable {background-color: white;}#sk-container-id-12 label.sk-toggleable__label {cursor: pointer;display: block;width: 100%;margin-bottom: 0;padding: 0.3em;box-sizing: border-box;text-align: center;}#sk-container-id-12 label.sk-toggleable__label-arrow:before {content: \"▸\";float: left;margin-right: 0.25em;color: #696969;}#sk-container-id-12 label.sk-toggleable__label-arrow:hover:before {color: black;}#sk-container-id-12 div.sk-estimator:hover label.sk-toggleable__label-arrow:before {color: black;}#sk-container-id-12 div.sk-toggleable__content {max-height: 0;max-width: 0;overflow: hidden;text-align: left;background-color: #f0f8ff;}#sk-container-id-12 div.sk-toggleable__content pre {margin: 0.2em;color: black;border-radius: 0.25em;background-color: #f0f8ff;}#sk-container-id-12 input.sk-toggleable__control:checked~div.sk-toggleable__content {max-height: 200px;max-width: 100%;overflow: auto;}#sk-container-id-12 input.sk-toggleable__control:checked~label.sk-toggleable__label-arrow:before {content: \"▾\";}#sk-container-id-12 div.sk-estimator input.sk-toggleable__control:checked~label.sk-toggleable__label {background-color: #d4ebff;}#sk-container-id-12 div.sk-label input.sk-toggleable__control:checked~label.sk-toggleable__label {background-color: #d4ebff;}#sk-container-id-12 input.sk-hidden--visually {border: 0;clip: rect(1px 1px 1px 1px);clip: rect(1px, 1px, 1px, 1px);height: 1px;margin: -1px;overflow: hidden;padding: 0;position: absolute;width: 1px;}#sk-container-id-12 div.sk-estimator {font-family: monospace;background-color: #f0f8ff;border: 1px dotted black;border-radius: 0.25em;box-sizing: border-box;margin-bottom: 0.5em;}#sk-container-id-12 div.sk-estimator:hover {background-color: #d4ebff;}#sk-container-id-12 div.sk-parallel-item::after {content: \"\";width: 100%;border-bottom: 1px solid gray;flex-grow: 1;}#sk-container-id-12 div.sk-label:hover label.sk-toggleable__label {background-color: #d4ebff;}#sk-container-id-12 div.sk-serial::before {content: \"\";position: absolute;border-left: 1px solid gray;box-sizing: border-box;top: 0;bottom: 0;left: 50%;z-index: 0;}#sk-container-id-12 div.sk-serial {display: flex;flex-direction: column;align-items: center;background-color: white;padding-right: 0.2em;padding-left: 0.2em;position: relative;}#sk-container-id-12 div.sk-item {position: relative;z-index: 1;}#sk-container-id-12 div.sk-parallel {display: flex;align-items: stretch;justify-content: center;background-color: white;position: relative;}#sk-container-id-12 div.sk-item::before, #sk-container-id-12 div.sk-parallel-item::before {content: \"\";position: absolute;border-left: 1px solid gray;box-sizing: border-box;top: 0;bottom: 0;left: 50%;z-index: -1;}#sk-container-id-12 div.sk-parallel-item {display: flex;flex-direction: column;z-index: 1;position: relative;background-color: white;}#sk-container-id-12 div.sk-parallel-item:first-child::after {align-self: flex-end;width: 50%;}#sk-container-id-12 div.sk-parallel-item:last-child::after {align-self: flex-start;width: 50%;}#sk-container-id-12 div.sk-parallel-item:only-child::after {width: 0;}#sk-container-id-12 div.sk-dashed-wrapped {border: 1px dashed gray;margin: 0 0.4em 0.5em 0.4em;box-sizing: border-box;padding-bottom: 0.4em;background-color: white;}#sk-container-id-12 div.sk-label label {font-family: monospace;font-weight: bold;display: inline-block;line-height: 1.2em;}#sk-container-id-12 div.sk-label-container {text-align: center;}#sk-container-id-12 div.sk-container {/* jupyter's `normalize.less` sets `[hidden] { display: none; }` but bootstrap.min.css set `[hidden] { display: none !important; }` so we also need the `!important` here to be able to override the default hidden behavior on the sphinx rendered scikit-learn.org. See: https://github.com/scikit-learn/scikit-learn/issues/21755 */display: inline-block !important;position: relative;}#sk-container-id-12 div.sk-text-repr-fallback {display: none;}</style><div id=\"sk-container-id-12\" class=\"sk-top-container\"><div class=\"sk-text-repr-fallback\"><pre>GridSearchCV(cv=3, estimator=DecisionTreeClassifier(random_state=42),\n",
       "             param_grid={&#x27;max_depth&#x27;: [None, 3],\n",
       "                         &#x27;max_features&#x27;: [&#x27;sqrt&#x27;, &#x27;log2&#x27;],\n",
       "                         &#x27;min_samples_leaf&#x27;: [1, 2],\n",
       "                         &#x27;min_samples_split&#x27;: [2, 5]})</pre><b>In a Jupyter environment, please rerun this cell to show the HTML representation or trust the notebook. <br />On GitHub, the HTML representation is unable to render, please try loading this page with nbviewer.org.</b></div><div class=\"sk-container\" hidden><div class=\"sk-item sk-dashed-wrapped\"><div class=\"sk-label-container\"><div class=\"sk-label sk-toggleable\"><input class=\"sk-toggleable__control sk-hidden--visually\" id=\"sk-estimator-id-12\" type=\"checkbox\" ><label for=\"sk-estimator-id-12\" class=\"sk-toggleable__label sk-toggleable__label-arrow\">GridSearchCV</label><div class=\"sk-toggleable__content\"><pre>GridSearchCV(cv=3, estimator=DecisionTreeClassifier(random_state=42),\n",
       "             param_grid={&#x27;max_depth&#x27;: [None, 3],\n",
       "                         &#x27;max_features&#x27;: [&#x27;sqrt&#x27;, &#x27;log2&#x27;],\n",
       "                         &#x27;min_samples_leaf&#x27;: [1, 2],\n",
       "                         &#x27;min_samples_split&#x27;: [2, 5]})</pre></div></div></div><div class=\"sk-parallel\"><div class=\"sk-parallel-item\"><div class=\"sk-item\"><div class=\"sk-label-container\"><div class=\"sk-label sk-toggleable\"><input class=\"sk-toggleable__control sk-hidden--visually\" id=\"sk-estimator-id-13\" type=\"checkbox\" ><label for=\"sk-estimator-id-13\" class=\"sk-toggleable__label sk-toggleable__label-arrow\">estimator: DecisionTreeClassifier</label><div class=\"sk-toggleable__content\"><pre>DecisionTreeClassifier(random_state=42)</pre></div></div></div><div class=\"sk-serial\"><div class=\"sk-item\"><div class=\"sk-estimator sk-toggleable\"><input class=\"sk-toggleable__control sk-hidden--visually\" id=\"sk-estimator-id-14\" type=\"checkbox\" ><label for=\"sk-estimator-id-14\" class=\"sk-toggleable__label sk-toggleable__label-arrow\">DecisionTreeClassifier</label><div class=\"sk-toggleable__content\"><pre>DecisionTreeClassifier(random_state=42)</pre></div></div></div></div></div></div></div></div></div></div>"
      ],
      "text/plain": [
       "GridSearchCV(cv=3, estimator=DecisionTreeClassifier(random_state=42),\n",
       "             param_grid={'max_depth': [None, 3],\n",
       "                         'max_features': ['sqrt', 'log2'],\n",
       "                         'min_samples_leaf': [1, 2],\n",
       "                         'min_samples_split': [2, 5]})"
      ]
     },
     "execution_count": 248,
     "metadata": {},
     "output_type": "execute_result"
    }
   ],
   "source": [
    "# param_grid 하이퍼파라미터를 3개의 train, valid set fold 로 나누어 테스트 수행\n",
    "gs = GridSearchCV(estimator=model6,param_grid=params_grid , cv = 3) #cv는 cross validation 수\n",
    "\n",
    "# params_grid 의 하이퍼 파라미터를 순차적으로 학습/평가\n",
    "gs.fit(x_train, y_train)"
   ]
  },
  {
   "cell_type": "code",
   "execution_count": 249,
   "id": "5d1c3bec",
   "metadata": {},
   "outputs": [
    {
     "data": {
      "text/plain": [
       "{'max_depth': None,\n",
       " 'max_features': 'sqrt',\n",
       " 'min_samples_leaf': 2,\n",
       " 'min_samples_split': 2}"
      ]
     },
     "execution_count": 249,
     "metadata": {},
     "output_type": "execute_result"
    }
   ],
   "source": [
    "gs.best_params_"
   ]
  },
  {
   "cell_type": "code",
   "execution_count": 250,
   "id": "f979f733",
   "metadata": {},
   "outputs": [
    {
     "data": {
      "text/plain": [
       "0.005278004084256587"
      ]
     },
     "execution_count": 250,
     "metadata": {},
     "output_type": "execute_result"
    }
   ],
   "source": [
    "gs.best_score_"
   ]
  },
  {
   "cell_type": "code",
   "execution_count": 251,
   "id": "6cbfa9de",
   "metadata": {},
   "outputs": [
    {
     "data": {
      "text/html": [
       "<div>\n",
       "<style scoped>\n",
       "    .dataframe tbody tr th:only-of-type {\n",
       "        vertical-align: middle;\n",
       "    }\n",
       "\n",
       "    .dataframe tbody tr th {\n",
       "        vertical-align: top;\n",
       "    }\n",
       "\n",
       "    .dataframe thead th {\n",
       "        text-align: right;\n",
       "    }\n",
       "</style>\n",
       "<table border=\"1\" class=\"dataframe\">\n",
       "  <thead>\n",
       "    <tr style=\"text-align: right;\">\n",
       "      <th></th>\n",
       "      <th>mean_fit_time</th>\n",
       "      <th>std_fit_time</th>\n",
       "      <th>mean_score_time</th>\n",
       "      <th>std_score_time</th>\n",
       "      <th>param_max_depth</th>\n",
       "      <th>param_max_features</th>\n",
       "      <th>param_min_samples_leaf</th>\n",
       "      <th>param_min_samples_split</th>\n",
       "      <th>params</th>\n",
       "      <th>split0_test_score</th>\n",
       "      <th>split1_test_score</th>\n",
       "      <th>split2_test_score</th>\n",
       "      <th>mean_test_score</th>\n",
       "      <th>std_test_score</th>\n",
       "      <th>rank_test_score</th>\n",
       "    </tr>\n",
       "  </thead>\n",
       "  <tbody>\n",
       "    <tr>\n",
       "      <th>2</th>\n",
       "      <td>0.600669</td>\n",
       "      <td>0.095264</td>\n",
       "      <td>0.022206</td>\n",
       "      <td>0.007284</td>\n",
       "      <td>None</td>\n",
       "      <td>sqrt</td>\n",
       "      <td>2</td>\n",
       "      <td>2</td>\n",
       "      <td>{'max_depth': None, 'max_features': 'sqrt', 'm...</td>\n",
       "      <td>0.001918</td>\n",
       "      <td>0.007198</td>\n",
       "      <td>0.006718</td>\n",
       "      <td>0.005278</td>\n",
       "      <td>0.002384</td>\n",
       "      <td>1</td>\n",
       "    </tr>\n",
       "    <tr>\n",
       "      <th>6</th>\n",
       "      <td>0.645332</td>\n",
       "      <td>0.015495</td>\n",
       "      <td>0.034950</td>\n",
       "      <td>0.009528</td>\n",
       "      <td>None</td>\n",
       "      <td>log2</td>\n",
       "      <td>2</td>\n",
       "      <td>2</td>\n",
       "      <td>{'max_depth': None, 'max_features': 'log2', 'm...</td>\n",
       "      <td>0.001918</td>\n",
       "      <td>0.007198</td>\n",
       "      <td>0.006718</td>\n",
       "      <td>0.005278</td>\n",
       "      <td>0.002384</td>\n",
       "      <td>1</td>\n",
       "    </tr>\n",
       "    <tr>\n",
       "      <th>0</th>\n",
       "      <td>1.033098</td>\n",
       "      <td>0.093455</td>\n",
       "      <td>0.036608</td>\n",
       "      <td>0.008041</td>\n",
       "      <td>None</td>\n",
       "      <td>sqrt</td>\n",
       "      <td>1</td>\n",
       "      <td>2</td>\n",
       "      <td>{'max_depth': None, 'max_features': 'sqrt', 'm...</td>\n",
       "      <td>0.003357</td>\n",
       "      <td>0.003839</td>\n",
       "      <td>0.005278</td>\n",
       "      <td>0.004158</td>\n",
       "      <td>0.000816</td>\n",
       "      <td>3</td>\n",
       "    </tr>\n",
       "    <tr>\n",
       "      <th>4</th>\n",
       "      <td>0.660589</td>\n",
       "      <td>0.008569</td>\n",
       "      <td>0.027910</td>\n",
       "      <td>0.004138</td>\n",
       "      <td>None</td>\n",
       "      <td>log2</td>\n",
       "      <td>1</td>\n",
       "      <td>2</td>\n",
       "      <td>{'max_depth': None, 'max_features': 'log2', 'm...</td>\n",
       "      <td>0.003357</td>\n",
       "      <td>0.003839</td>\n",
       "      <td>0.005278</td>\n",
       "      <td>0.004158</td>\n",
       "      <td>0.000816</td>\n",
       "      <td>3</td>\n",
       "    </tr>\n",
       "    <tr>\n",
       "      <th>8</th>\n",
       "      <td>0.067942</td>\n",
       "      <td>0.007526</td>\n",
       "      <td>0.033917</td>\n",
       "      <td>0.002983</td>\n",
       "      <td>3</td>\n",
       "      <td>sqrt</td>\n",
       "      <td>1</td>\n",
       "      <td>2</td>\n",
       "      <td>{'max_depth': 3, 'max_features': 'sqrt', 'min_...</td>\n",
       "      <td>0.003357</td>\n",
       "      <td>0.003839</td>\n",
       "      <td>0.003839</td>\n",
       "      <td>0.003678</td>\n",
       "      <td>0.000227</td>\n",
       "      <td>5</td>\n",
       "    </tr>\n",
       "    <tr>\n",
       "      <th>9</th>\n",
       "      <td>0.045418</td>\n",
       "      <td>0.010431</td>\n",
       "      <td>0.017703</td>\n",
       "      <td>0.005057</td>\n",
       "      <td>3</td>\n",
       "      <td>sqrt</td>\n",
       "      <td>1</td>\n",
       "      <td>5</td>\n",
       "      <td>{'max_depth': 3, 'max_features': 'sqrt', 'min_...</td>\n",
       "      <td>0.003357</td>\n",
       "      <td>0.003839</td>\n",
       "      <td>0.003839</td>\n",
       "      <td>0.003678</td>\n",
       "      <td>0.000227</td>\n",
       "      <td>5</td>\n",
       "    </tr>\n",
       "    <tr>\n",
       "      <th>10</th>\n",
       "      <td>0.050671</td>\n",
       "      <td>0.004397</td>\n",
       "      <td>0.025209</td>\n",
       "      <td>0.006820</td>\n",
       "      <td>3</td>\n",
       "      <td>sqrt</td>\n",
       "      <td>2</td>\n",
       "      <td>2</td>\n",
       "      <td>{'max_depth': 3, 'max_features': 'sqrt', 'min_...</td>\n",
       "      <td>0.003357</td>\n",
       "      <td>0.003839</td>\n",
       "      <td>0.003839</td>\n",
       "      <td>0.003678</td>\n",
       "      <td>0.000227</td>\n",
       "      <td>5</td>\n",
       "    </tr>\n",
       "    <tr>\n",
       "      <th>11</th>\n",
       "      <td>0.044570</td>\n",
       "      <td>0.012802</td>\n",
       "      <td>0.018765</td>\n",
       "      <td>0.009371</td>\n",
       "      <td>3</td>\n",
       "      <td>sqrt</td>\n",
       "      <td>2</td>\n",
       "      <td>5</td>\n",
       "      <td>{'max_depth': 3, 'max_features': 'sqrt', 'min_...</td>\n",
       "      <td>0.003357</td>\n",
       "      <td>0.003839</td>\n",
       "      <td>0.003839</td>\n",
       "      <td>0.003678</td>\n",
       "      <td>0.000227</td>\n",
       "      <td>5</td>\n",
       "    </tr>\n",
       "    <tr>\n",
       "      <th>12</th>\n",
       "      <td>0.066969</td>\n",
       "      <td>0.003254</td>\n",
       "      <td>0.028483</td>\n",
       "      <td>0.004565</td>\n",
       "      <td>3</td>\n",
       "      <td>log2</td>\n",
       "      <td>1</td>\n",
       "      <td>2</td>\n",
       "      <td>{'max_depth': 3, 'max_features': 'log2', 'min_...</td>\n",
       "      <td>0.003357</td>\n",
       "      <td>0.003839</td>\n",
       "      <td>0.003839</td>\n",
       "      <td>0.003678</td>\n",
       "      <td>0.000227</td>\n",
       "      <td>5</td>\n",
       "    </tr>\n",
       "    <tr>\n",
       "      <th>13</th>\n",
       "      <td>0.073381</td>\n",
       "      <td>0.006872</td>\n",
       "      <td>0.026651</td>\n",
       "      <td>0.007503</td>\n",
       "      <td>3</td>\n",
       "      <td>log2</td>\n",
       "      <td>1</td>\n",
       "      <td>5</td>\n",
       "      <td>{'max_depth': 3, 'max_features': 'log2', 'min_...</td>\n",
       "      <td>0.003357</td>\n",
       "      <td>0.003839</td>\n",
       "      <td>0.003839</td>\n",
       "      <td>0.003678</td>\n",
       "      <td>0.000227</td>\n",
       "      <td>5</td>\n",
       "    </tr>\n",
       "    <tr>\n",
       "      <th>14</th>\n",
       "      <td>0.064820</td>\n",
       "      <td>0.010379</td>\n",
       "      <td>0.030034</td>\n",
       "      <td>0.007517</td>\n",
       "      <td>3</td>\n",
       "      <td>log2</td>\n",
       "      <td>2</td>\n",
       "      <td>2</td>\n",
       "      <td>{'max_depth': 3, 'max_features': 'log2', 'min_...</td>\n",
       "      <td>0.003357</td>\n",
       "      <td>0.003839</td>\n",
       "      <td>0.003839</td>\n",
       "      <td>0.003678</td>\n",
       "      <td>0.000227</td>\n",
       "      <td>5</td>\n",
       "    </tr>\n",
       "    <tr>\n",
       "      <th>15</th>\n",
       "      <td>0.046310</td>\n",
       "      <td>0.000567</td>\n",
       "      <td>0.030210</td>\n",
       "      <td>0.009085</td>\n",
       "      <td>3</td>\n",
       "      <td>log2</td>\n",
       "      <td>2</td>\n",
       "      <td>5</td>\n",
       "      <td>{'max_depth': 3, 'max_features': 'log2', 'min_...</td>\n",
       "      <td>0.003357</td>\n",
       "      <td>0.003839</td>\n",
       "      <td>0.003839</td>\n",
       "      <td>0.003678</td>\n",
       "      <td>0.000227</td>\n",
       "      <td>5</td>\n",
       "    </tr>\n",
       "    <tr>\n",
       "      <th>1</th>\n",
       "      <td>0.890112</td>\n",
       "      <td>0.061937</td>\n",
       "      <td>0.038411</td>\n",
       "      <td>0.007258</td>\n",
       "      <td>None</td>\n",
       "      <td>sqrt</td>\n",
       "      <td>1</td>\n",
       "      <td>5</td>\n",
       "      <td>{'max_depth': None, 'max_features': 'sqrt', 'm...</td>\n",
       "      <td>0.002878</td>\n",
       "      <td>0.003359</td>\n",
       "      <td>0.003839</td>\n",
       "      <td>0.003358</td>\n",
       "      <td>0.000392</td>\n",
       "      <td>13</td>\n",
       "    </tr>\n",
       "    <tr>\n",
       "      <th>5</th>\n",
       "      <td>0.662365</td>\n",
       "      <td>0.109319</td>\n",
       "      <td>0.026771</td>\n",
       "      <td>0.006512</td>\n",
       "      <td>None</td>\n",
       "      <td>log2</td>\n",
       "      <td>1</td>\n",
       "      <td>5</td>\n",
       "      <td>{'max_depth': None, 'max_features': 'log2', 'm...</td>\n",
       "      <td>0.002878</td>\n",
       "      <td>0.003359</td>\n",
       "      <td>0.003839</td>\n",
       "      <td>0.003358</td>\n",
       "      <td>0.000392</td>\n",
       "      <td>13</td>\n",
       "    </tr>\n",
       "    <tr>\n",
       "      <th>3</th>\n",
       "      <td>0.379058</td>\n",
       "      <td>0.042401</td>\n",
       "      <td>0.014365</td>\n",
       "      <td>0.001864</td>\n",
       "      <td>None</td>\n",
       "      <td>sqrt</td>\n",
       "      <td>2</td>\n",
       "      <td>5</td>\n",
       "      <td>{'max_depth': None, 'max_features': 'sqrt', 'm...</td>\n",
       "      <td>0.001439</td>\n",
       "      <td>0.004319</td>\n",
       "      <td>0.002879</td>\n",
       "      <td>0.002879</td>\n",
       "      <td>0.001176</td>\n",
       "      <td>15</td>\n",
       "    </tr>\n",
       "    <tr>\n",
       "      <th>7</th>\n",
       "      <td>0.687280</td>\n",
       "      <td>0.014287</td>\n",
       "      <td>0.029138</td>\n",
       "      <td>0.004832</td>\n",
       "      <td>None</td>\n",
       "      <td>log2</td>\n",
       "      <td>2</td>\n",
       "      <td>5</td>\n",
       "      <td>{'max_depth': None, 'max_features': 'log2', 'm...</td>\n",
       "      <td>0.001439</td>\n",
       "      <td>0.004319</td>\n",
       "      <td>0.002879</td>\n",
       "      <td>0.002879</td>\n",
       "      <td>0.001176</td>\n",
       "      <td>15</td>\n",
       "    </tr>\n",
       "  </tbody>\n",
       "</table>\n",
       "</div>"
      ],
      "text/plain": [
       "    mean_fit_time  std_fit_time  mean_score_time  std_score_time  \\\n",
       "2        0.600669      0.095264         0.022206        0.007284   \n",
       "6        0.645332      0.015495         0.034950        0.009528   \n",
       "0        1.033098      0.093455         0.036608        0.008041   \n",
       "4        0.660589      0.008569         0.027910        0.004138   \n",
       "8        0.067942      0.007526         0.033917        0.002983   \n",
       "9        0.045418      0.010431         0.017703        0.005057   \n",
       "10       0.050671      0.004397         0.025209        0.006820   \n",
       "11       0.044570      0.012802         0.018765        0.009371   \n",
       "12       0.066969      0.003254         0.028483        0.004565   \n",
       "13       0.073381      0.006872         0.026651        0.007503   \n",
       "14       0.064820      0.010379         0.030034        0.007517   \n",
       "15       0.046310      0.000567         0.030210        0.009085   \n",
       "1        0.890112      0.061937         0.038411        0.007258   \n",
       "5        0.662365      0.109319         0.026771        0.006512   \n",
       "3        0.379058      0.042401         0.014365        0.001864   \n",
       "7        0.687280      0.014287         0.029138        0.004832   \n",
       "\n",
       "   param_max_depth param_max_features param_min_samples_leaf  \\\n",
       "2             None               sqrt                      2   \n",
       "6             None               log2                      2   \n",
       "0             None               sqrt                      1   \n",
       "4             None               log2                      1   \n",
       "8                3               sqrt                      1   \n",
       "9                3               sqrt                      1   \n",
       "10               3               sqrt                      2   \n",
       "11               3               sqrt                      2   \n",
       "12               3               log2                      1   \n",
       "13               3               log2                      1   \n",
       "14               3               log2                      2   \n",
       "15               3               log2                      2   \n",
       "1             None               sqrt                      1   \n",
       "5             None               log2                      1   \n",
       "3             None               sqrt                      2   \n",
       "7             None               log2                      2   \n",
       "\n",
       "   param_min_samples_split                                             params  \\\n",
       "2                        2  {'max_depth': None, 'max_features': 'sqrt', 'm...   \n",
       "6                        2  {'max_depth': None, 'max_features': 'log2', 'm...   \n",
       "0                        2  {'max_depth': None, 'max_features': 'sqrt', 'm...   \n",
       "4                        2  {'max_depth': None, 'max_features': 'log2', 'm...   \n",
       "8                        2  {'max_depth': 3, 'max_features': 'sqrt', 'min_...   \n",
       "9                        5  {'max_depth': 3, 'max_features': 'sqrt', 'min_...   \n",
       "10                       2  {'max_depth': 3, 'max_features': 'sqrt', 'min_...   \n",
       "11                       5  {'max_depth': 3, 'max_features': 'sqrt', 'min_...   \n",
       "12                       2  {'max_depth': 3, 'max_features': 'log2', 'min_...   \n",
       "13                       5  {'max_depth': 3, 'max_features': 'log2', 'min_...   \n",
       "14                       2  {'max_depth': 3, 'max_features': 'log2', 'min_...   \n",
       "15                       5  {'max_depth': 3, 'max_features': 'log2', 'min_...   \n",
       "1                        5  {'max_depth': None, 'max_features': 'sqrt', 'm...   \n",
       "5                        5  {'max_depth': None, 'max_features': 'log2', 'm...   \n",
       "3                        5  {'max_depth': None, 'max_features': 'sqrt', 'm...   \n",
       "7                        5  {'max_depth': None, 'max_features': 'log2', 'm...   \n",
       "\n",
       "    split0_test_score  split1_test_score  split2_test_score  mean_test_score  \\\n",
       "2            0.001918           0.007198           0.006718         0.005278   \n",
       "6            0.001918           0.007198           0.006718         0.005278   \n",
       "0            0.003357           0.003839           0.005278         0.004158   \n",
       "4            0.003357           0.003839           0.005278         0.004158   \n",
       "8            0.003357           0.003839           0.003839         0.003678   \n",
       "9            0.003357           0.003839           0.003839         0.003678   \n",
       "10           0.003357           0.003839           0.003839         0.003678   \n",
       "11           0.003357           0.003839           0.003839         0.003678   \n",
       "12           0.003357           0.003839           0.003839         0.003678   \n",
       "13           0.003357           0.003839           0.003839         0.003678   \n",
       "14           0.003357           0.003839           0.003839         0.003678   \n",
       "15           0.003357           0.003839           0.003839         0.003678   \n",
       "1            0.002878           0.003359           0.003839         0.003358   \n",
       "5            0.002878           0.003359           0.003839         0.003358   \n",
       "3            0.001439           0.004319           0.002879         0.002879   \n",
       "7            0.001439           0.004319           0.002879         0.002879   \n",
       "\n",
       "    std_test_score  rank_test_score  \n",
       "2         0.002384                1  \n",
       "6         0.002384                1  \n",
       "0         0.000816                3  \n",
       "4         0.000816                3  \n",
       "8         0.000227                5  \n",
       "9         0.000227                5  \n",
       "10        0.000227                5  \n",
       "11        0.000227                5  \n",
       "12        0.000227                5  \n",
       "13        0.000227                5  \n",
       "14        0.000227                5  \n",
       "15        0.000227                5  \n",
       "1         0.000392               13  \n",
       "5         0.000392               13  \n",
       "3         0.001176               15  \n",
       "7         0.001176               15  "
      ]
     },
     "execution_count": 251,
     "metadata": {},
     "output_type": "execute_result"
    }
   ],
   "source": [
    "#결과를 df로 저장\n",
    "gs_result = pd.DataFrame(gs.cv_results_)\n",
    "gs_result.sort_values('rank_test_score') "
   ]
  },
  {
   "cell_type": "code",
   "execution_count": 255,
   "id": "547879ef",
   "metadata": {},
   "outputs": [
    {
     "name": "stdout",
     "output_type": "stream",
     "text": [
      "R-squared: 0.6120\n",
      "MSE: 171811.9041\n",
      "MAE: 259.1867\n",
      "RMSE: 414.5020\n"
     ]
    }
   ],
   "source": [
    "#최적의 하이퍼파라미터\n",
    "gs_model = DecisionTreeClassifier(random_state = 42, max_depth= None, max_features= 'sqrt',\n",
    "                                  min_samples_leaf= 2, min_samples_split= 2)\n",
    "gs_model.fit(x_train, y_train)\n",
    "pred = gs_model.predict(x_valid)\n",
    "model_eval(y_valid, pred)"
   ]
  },
  {
   "cell_type": "markdown",
   "id": "f7993ab1",
   "metadata": {},
   "source": [
    "### 5.2.2 Manual Searh"
   ]
  },
  {
   "cell_type": "code",
   "execution_count": 28,
   "id": "cc1ca270",
   "metadata": {},
   "outputs": [
    {
     "name": "stdout",
     "output_type": "stream",
     "text": [
      "{'ccp_alpha': 0.0, 'class_weight': None, 'criterion': 'gini', 'max_depth': None, 'max_features': None, 'max_leaf_nodes': None, 'min_impurity_decrease': 0.0, 'min_samples_leaf': 1, 'min_samples_split': 2, 'min_weight_fraction_leaf': 0.0, 'random_state': 42, 'splitter': 'best'}\n"
     ]
    }
   ],
   "source": [
    "# 하이퍼파라미터 확인\n",
    "print(model6.get_params())"
   ]
  },
  {
   "cell_type": "code",
   "execution_count": 34,
   "id": "9a395c99",
   "metadata": {},
   "outputs": [
    {
     "name": "stdout",
     "output_type": "stream",
     "text": [
      "R-squared: -0.5227\n",
      "MSE: 674352.8382\n",
      "MAE: 535.8075\n",
      "RMSE: 821.1899\n"
     ]
    }
   ],
   "source": [
    "# max_depth 증가 X\n",
    "\n",
    "## 모델 선언\n",
    "ms_model = DecisionTreeClassifier(random_state=42, max_depth= 3,\n",
    "                                 min_samples_split= 2, min_samples_leaf =1)\n",
    "\n",
    "## 모델 학습\n",
    "ms_model.fit(x_train, y_train)\n",
    "\n",
    "## 모델 평가\n",
    "pred = ms_model.predict(x_valid)\n",
    "model_eval(y_valid, pred)"
   ]
  },
  {
   "cell_type": "code",
   "execution_count": 35,
   "id": "c3e052b5",
   "metadata": {},
   "outputs": [
    {
     "name": "stdout",
     "output_type": "stream",
     "text": [
      "R-squared: 0.9967\n",
      "MSE: 1447.5269\n",
      "MAE: 3.8836\n",
      "RMSE: 38.0464\n"
     ]
    }
   ],
   "source": [
    "# min_samples_leaf 증가 O\n",
    "\n",
    "## 모델 선언\n",
    "ms_model = DecisionTreeClassifier(random_state=42, \n",
    "                                 min_samples_split= 2, min_samples_leaf =4)\n",
    "\n",
    "## 모델 학습\n",
    "ms_model.fit(x_train, y_train)\n",
    "\n",
    "## 모델 평가\n",
    "pred = ms_model.predict(x_valid)\n",
    "model_eval(y_valid, pred)"
   ]
  },
  {
   "cell_type": "code",
   "execution_count": 45,
   "id": "4aacd431",
   "metadata": {},
   "outputs": [
    {
     "name": "stdout",
     "output_type": "stream",
     "text": [
      "R-squared: 0.9967\n",
      "MSE: 1447.5269\n",
      "MAE: 3.8836\n",
      "RMSE: 38.0464\n"
     ]
    }
   ],
   "source": [
    "# min_samples_split 증가X\n",
    "\n",
    "## 모델 선언\n",
    "ms_model = DecisionTreeClassifier(random_state=42, \n",
    "                                 min_samples_split=7, min_samples_leaf = 4)\n",
    "\n",
    "## 모델 학습\n",
    "ms_model.fit(x_train, y_train)\n",
    "\n",
    "## 모델 평가\n",
    "pred = ms_model.predict(x_valid)\n",
    "model_eval(y_valid, pred)"
   ]
  },
  {
   "cell_type": "code",
   "execution_count": 109,
   "id": "ebef4f54",
   "metadata": {},
   "outputs": [
    {
     "name": "stdout",
     "output_type": "stream",
     "text": [
      "R-squared: 0.9975\n",
      "MSE: 1127.4239\n",
      "MAE: 3.9879\n",
      "RMSE: 33.5771\n"
     ]
    }
   ],
   "source": [
    "# min_samples_leaf 증가 O\n",
    "\n",
    "## 모델 선언\n",
    "ms_model = DecisionTreeClassifier(random_state=42, \n",
    "                                 min_samples_split= 2, min_samples_leaf = 6)\n",
    "\n",
    "## 모델 학습\n",
    "ms_model.fit(x_train, y_train)\n",
    "\n",
    "## 모델 평가\n",
    "pred = ms_model.predict(x_valid)\n",
    "model_eval(y_valid, pred)"
   ]
  },
  {
   "cell_type": "markdown",
   "id": "d4e8e1ad",
   "metadata": {},
   "source": [
    "<span style='background-color:#ffdce0'>Best : ms_model = DecisionTreeClassifier(random_state=42,min_samples_split= 2, min_samples_leaf = 6)"
   ]
  },
  {
   "cell_type": "markdown",
   "id": "09ffec13",
   "metadata": {},
   "source": [
    "# 6. 최종모델 - test 예측"
   ]
  },
  {
   "cell_type": "markdown",
   "id": "6174caa7",
   "metadata": {},
   "source": [
    "## 6.1 모든 변수 선택"
   ]
  },
  {
   "cell_type": "code",
   "execution_count": 203,
   "id": "f4848f65",
   "metadata": {},
   "outputs": [],
   "source": [
    "# 모델 : Random Forest\n",
    "# 하이퍼파라미터 : Manual Search\n",
    "## 모델 선언\n",
    "final_model = RandomForestClassifier(random_state=42, max_depth= 20,\n",
    "                                 min_samples_split= 5, min_samples_leaf=5 ,n_estimators= 300)"
   ]
  },
  {
   "cell_type": "code",
   "execution_count": 205,
   "id": "9de41599",
   "metadata": {},
   "outputs": [
    {
     "data": {
      "text/html": [
       "<style>#sk-container-id-10 {color: black;background-color: white;}#sk-container-id-10 pre{padding: 0;}#sk-container-id-10 div.sk-toggleable {background-color: white;}#sk-container-id-10 label.sk-toggleable__label {cursor: pointer;display: block;width: 100%;margin-bottom: 0;padding: 0.3em;box-sizing: border-box;text-align: center;}#sk-container-id-10 label.sk-toggleable__label-arrow:before {content: \"▸\";float: left;margin-right: 0.25em;color: #696969;}#sk-container-id-10 label.sk-toggleable__label-arrow:hover:before {color: black;}#sk-container-id-10 div.sk-estimator:hover label.sk-toggleable__label-arrow:before {color: black;}#sk-container-id-10 div.sk-toggleable__content {max-height: 0;max-width: 0;overflow: hidden;text-align: left;background-color: #f0f8ff;}#sk-container-id-10 div.sk-toggleable__content pre {margin: 0.2em;color: black;border-radius: 0.25em;background-color: #f0f8ff;}#sk-container-id-10 input.sk-toggleable__control:checked~div.sk-toggleable__content {max-height: 200px;max-width: 100%;overflow: auto;}#sk-container-id-10 input.sk-toggleable__control:checked~label.sk-toggleable__label-arrow:before {content: \"▾\";}#sk-container-id-10 div.sk-estimator input.sk-toggleable__control:checked~label.sk-toggleable__label {background-color: #d4ebff;}#sk-container-id-10 div.sk-label input.sk-toggleable__control:checked~label.sk-toggleable__label {background-color: #d4ebff;}#sk-container-id-10 input.sk-hidden--visually {border: 0;clip: rect(1px 1px 1px 1px);clip: rect(1px, 1px, 1px, 1px);height: 1px;margin: -1px;overflow: hidden;padding: 0;position: absolute;width: 1px;}#sk-container-id-10 div.sk-estimator {font-family: monospace;background-color: #f0f8ff;border: 1px dotted black;border-radius: 0.25em;box-sizing: border-box;margin-bottom: 0.5em;}#sk-container-id-10 div.sk-estimator:hover {background-color: #d4ebff;}#sk-container-id-10 div.sk-parallel-item::after {content: \"\";width: 100%;border-bottom: 1px solid gray;flex-grow: 1;}#sk-container-id-10 div.sk-label:hover label.sk-toggleable__label {background-color: #d4ebff;}#sk-container-id-10 div.sk-serial::before {content: \"\";position: absolute;border-left: 1px solid gray;box-sizing: border-box;top: 0;bottom: 0;left: 50%;z-index: 0;}#sk-container-id-10 div.sk-serial {display: flex;flex-direction: column;align-items: center;background-color: white;padding-right: 0.2em;padding-left: 0.2em;position: relative;}#sk-container-id-10 div.sk-item {position: relative;z-index: 1;}#sk-container-id-10 div.sk-parallel {display: flex;align-items: stretch;justify-content: center;background-color: white;position: relative;}#sk-container-id-10 div.sk-item::before, #sk-container-id-10 div.sk-parallel-item::before {content: \"\";position: absolute;border-left: 1px solid gray;box-sizing: border-box;top: 0;bottom: 0;left: 50%;z-index: -1;}#sk-container-id-10 div.sk-parallel-item {display: flex;flex-direction: column;z-index: 1;position: relative;background-color: white;}#sk-container-id-10 div.sk-parallel-item:first-child::after {align-self: flex-end;width: 50%;}#sk-container-id-10 div.sk-parallel-item:last-child::after {align-self: flex-start;width: 50%;}#sk-container-id-10 div.sk-parallel-item:only-child::after {width: 0;}#sk-container-id-10 div.sk-dashed-wrapped {border: 1px dashed gray;margin: 0 0.4em 0.5em 0.4em;box-sizing: border-box;padding-bottom: 0.4em;background-color: white;}#sk-container-id-10 div.sk-label label {font-family: monospace;font-weight: bold;display: inline-block;line-height: 1.2em;}#sk-container-id-10 div.sk-label-container {text-align: center;}#sk-container-id-10 div.sk-container {/* jupyter's `normalize.less` sets `[hidden] { display: none; }` but bootstrap.min.css set `[hidden] { display: none !important; }` so we also need the `!important` here to be able to override the default hidden behavior on the sphinx rendered scikit-learn.org. See: https://github.com/scikit-learn/scikit-learn/issues/21755 */display: inline-block !important;position: relative;}#sk-container-id-10 div.sk-text-repr-fallback {display: none;}</style><div id=\"sk-container-id-10\" class=\"sk-top-container\"><div class=\"sk-text-repr-fallback\"><pre>RandomForestClassifier(max_depth=20, min_samples_leaf=5, min_samples_split=5,\n",
       "                       n_estimators=300, random_state=42)</pre><b>In a Jupyter environment, please rerun this cell to show the HTML representation or trust the notebook. <br />On GitHub, the HTML representation is unable to render, please try loading this page with nbviewer.org.</b></div><div class=\"sk-container\" hidden><div class=\"sk-item\"><div class=\"sk-estimator sk-toggleable\"><input class=\"sk-toggleable__control sk-hidden--visually\" id=\"sk-estimator-id-10\" type=\"checkbox\" checked><label for=\"sk-estimator-id-10\" class=\"sk-toggleable__label sk-toggleable__label-arrow\">RandomForestClassifier</label><div class=\"sk-toggleable__content\"><pre>RandomForestClassifier(max_depth=20, min_samples_leaf=5, min_samples_split=5,\n",
       "                       n_estimators=300, random_state=42)</pre></div></div></div></div></div>"
      ],
      "text/plain": [
       "RandomForestClassifier(max_depth=20, min_samples_leaf=5, min_samples_split=5,\n",
       "                       n_estimators=300, random_state=42)"
      ]
     },
     "execution_count": 205,
     "metadata": {},
     "output_type": "execute_result"
    }
   ],
   "source": [
    "final_model.fit(x_train2, y_train2)"
   ]
  },
  {
   "cell_type": "code",
   "execution_count": 206,
   "id": "e8c436f4",
   "metadata": {},
   "outputs": [],
   "source": [
    "#### test 데이터로 예측\n",
    "# train\n",
    "train2 = train.drop(train.columns[16:25], axis=1)\n",
    "train2 = train2.drop(train.columns[6], axis=1)\n",
    "\n",
    "# test\n",
    "test2 =  test.drop(test.columns[16:25], axis=1)\n",
    "test2 = test2.drop(test.columns[6], axis=1)\n",
    "\n",
    "test2['BikeCount'] = 0\n",
    "test2['BikeCount'] = final_model.predict(x_test2)"
   ]
  },
  {
   "cell_type": "code",
   "execution_count": 241,
   "id": "bc1b7967",
   "metadata": {},
   "outputs": [
    {
     "data": {
      "text/html": [
       "<div>\n",
       "<style scoped>\n",
       "    .dataframe tbody tr th:only-of-type {\n",
       "        vertical-align: middle;\n",
       "    }\n",
       "\n",
       "    .dataframe tbody tr th {\n",
       "        vertical-align: top;\n",
       "    }\n",
       "\n",
       "    .dataframe thead th {\n",
       "        text-align: right;\n",
       "    }\n",
       "</style>\n",
       "<table border=\"1\" class=\"dataframe\">\n",
       "  <thead>\n",
       "    <tr style=\"text-align: right;\">\n",
       "      <th></th>\n",
       "      <th>Seasons_Autumn</th>\n",
       "      <th>Seasons_Spring</th>\n",
       "      <th>Seasons_Summer</th>\n",
       "      <th>Seasons_Winter</th>\n",
       "      <th>Holiday_Holiday</th>\n",
       "      <th>Holiday_No Holiday</th>\n",
       "      <th>Hour</th>\n",
       "      <th>Temperature</th>\n",
       "      <th>Humidity</th>\n",
       "      <th>Windspeed</th>\n",
       "      <th>Visibility</th>\n",
       "      <th>DewpointTem</th>\n",
       "      <th>SolarRadiation</th>\n",
       "      <th>Rainfall</th>\n",
       "      <th>Snowfall</th>\n",
       "      <th>BikeCount</th>\n",
       "    </tr>\n",
       "  </thead>\n",
       "  <tbody>\n",
       "    <tr>\n",
       "      <th>0</th>\n",
       "      <td>1</td>\n",
       "      <td>0</td>\n",
       "      <td>0</td>\n",
       "      <td>0</td>\n",
       "      <td>0</td>\n",
       "      <td>1</td>\n",
       "      <td>0</td>\n",
       "      <td>5.7</td>\n",
       "      <td>62</td>\n",
       "      <td>2.0</td>\n",
       "      <td>1909</td>\n",
       "      <td>-1.0</td>\n",
       "      <td>0.0</td>\n",
       "      <td>0.0</td>\n",
       "      <td>0.0</td>\n",
       "      <td>531</td>\n",
       "    </tr>\n",
       "    <tr>\n",
       "      <th>1</th>\n",
       "      <td>1</td>\n",
       "      <td>0</td>\n",
       "      <td>0</td>\n",
       "      <td>0</td>\n",
       "      <td>0</td>\n",
       "      <td>1</td>\n",
       "      <td>1</td>\n",
       "      <td>5.1</td>\n",
       "      <td>65</td>\n",
       "      <td>2.0</td>\n",
       "      <td>1932</td>\n",
       "      <td>-0.9</td>\n",
       "      <td>0.0</td>\n",
       "      <td>0.0</td>\n",
       "      <td>0.0</td>\n",
       "      <td>531</td>\n",
       "    </tr>\n",
       "    <tr>\n",
       "      <th>2</th>\n",
       "      <td>1</td>\n",
       "      <td>0</td>\n",
       "      <td>0</td>\n",
       "      <td>0</td>\n",
       "      <td>0</td>\n",
       "      <td>1</td>\n",
       "      <td>2</td>\n",
       "      <td>4.4</td>\n",
       "      <td>64</td>\n",
       "      <td>1.0</td>\n",
       "      <td>2000</td>\n",
       "      <td>-1.8</td>\n",
       "      <td>0.0</td>\n",
       "      <td>0.0</td>\n",
       "      <td>0.0</td>\n",
       "      <td>123</td>\n",
       "    </tr>\n",
       "    <tr>\n",
       "      <th>3</th>\n",
       "      <td>1</td>\n",
       "      <td>0</td>\n",
       "      <td>0</td>\n",
       "      <td>0</td>\n",
       "      <td>0</td>\n",
       "      <td>1</td>\n",
       "      <td>3</td>\n",
       "      <td>4.2</td>\n",
       "      <td>65</td>\n",
       "      <td>1.0</td>\n",
       "      <td>1962</td>\n",
       "      <td>-1.8</td>\n",
       "      <td>0.0</td>\n",
       "      <td>0.0</td>\n",
       "      <td>0.0</td>\n",
       "      <td>123</td>\n",
       "    </tr>\n",
       "    <tr>\n",
       "      <th>4</th>\n",
       "      <td>1</td>\n",
       "      <td>0</td>\n",
       "      <td>0</td>\n",
       "      <td>0</td>\n",
       "      <td>0</td>\n",
       "      <td>1</td>\n",
       "      <td>4</td>\n",
       "      <td>3.6</td>\n",
       "      <td>70</td>\n",
       "      <td>1.0</td>\n",
       "      <td>1934</td>\n",
       "      <td>-1.3</td>\n",
       "      <td>0.0</td>\n",
       "      <td>0.0</td>\n",
       "      <td>0.0</td>\n",
       "      <td>123</td>\n",
       "    </tr>\n",
       "    <tr>\n",
       "      <th>...</th>\n",
       "      <td>...</td>\n",
       "      <td>...</td>\n",
       "      <td>...</td>\n",
       "      <td>...</td>\n",
       "      <td>...</td>\n",
       "      <td>...</td>\n",
       "      <td>...</td>\n",
       "      <td>...</td>\n",
       "      <td>...</td>\n",
       "      <td>...</td>\n",
       "      <td>...</td>\n",
       "      <td>...</td>\n",
       "      <td>...</td>\n",
       "      <td>...</td>\n",
       "      <td>...</td>\n",
       "      <td>...</td>\n",
       "    </tr>\n",
       "    <tr>\n",
       "      <th>643</th>\n",
       "      <td>1</td>\n",
       "      <td>0</td>\n",
       "      <td>0</td>\n",
       "      <td>0</td>\n",
       "      <td>0</td>\n",
       "      <td>1</td>\n",
       "      <td>19</td>\n",
       "      <td>4.2</td>\n",
       "      <td>34</td>\n",
       "      <td>3.0</td>\n",
       "      <td>1894</td>\n",
       "      <td>-10.3</td>\n",
       "      <td>0.0</td>\n",
       "      <td>0.0</td>\n",
       "      <td>0.0</td>\n",
       "      <td>658</td>\n",
       "    </tr>\n",
       "    <tr>\n",
       "      <th>644</th>\n",
       "      <td>1</td>\n",
       "      <td>0</td>\n",
       "      <td>0</td>\n",
       "      <td>0</td>\n",
       "      <td>0</td>\n",
       "      <td>1</td>\n",
       "      <td>20</td>\n",
       "      <td>3.4</td>\n",
       "      <td>37</td>\n",
       "      <td>2.0</td>\n",
       "      <td>2000</td>\n",
       "      <td>-9.9</td>\n",
       "      <td>0.0</td>\n",
       "      <td>0.0</td>\n",
       "      <td>0.0</td>\n",
       "      <td>658</td>\n",
       "    </tr>\n",
       "    <tr>\n",
       "      <th>645</th>\n",
       "      <td>1</td>\n",
       "      <td>0</td>\n",
       "      <td>0</td>\n",
       "      <td>0</td>\n",
       "      <td>0</td>\n",
       "      <td>1</td>\n",
       "      <td>21</td>\n",
       "      <td>2.6</td>\n",
       "      <td>39</td>\n",
       "      <td>0.0</td>\n",
       "      <td>1968</td>\n",
       "      <td>-9.9</td>\n",
       "      <td>0.0</td>\n",
       "      <td>0.0</td>\n",
       "      <td>0.0</td>\n",
       "      <td>658</td>\n",
       "    </tr>\n",
       "    <tr>\n",
       "      <th>646</th>\n",
       "      <td>1</td>\n",
       "      <td>0</td>\n",
       "      <td>0</td>\n",
       "      <td>0</td>\n",
       "      <td>0</td>\n",
       "      <td>1</td>\n",
       "      <td>22</td>\n",
       "      <td>2.1</td>\n",
       "      <td>41</td>\n",
       "      <td>1.0</td>\n",
       "      <td>1859</td>\n",
       "      <td>-9.8</td>\n",
       "      <td>0.0</td>\n",
       "      <td>0.0</td>\n",
       "      <td>0.0</td>\n",
       "      <td>658</td>\n",
       "    </tr>\n",
       "    <tr>\n",
       "      <th>647</th>\n",
       "      <td>1</td>\n",
       "      <td>0</td>\n",
       "      <td>0</td>\n",
       "      <td>0</td>\n",
       "      <td>0</td>\n",
       "      <td>1</td>\n",
       "      <td>23</td>\n",
       "      <td>1.9</td>\n",
       "      <td>43</td>\n",
       "      <td>1.0</td>\n",
       "      <td>1909</td>\n",
       "      <td>-9.3</td>\n",
       "      <td>0.0</td>\n",
       "      <td>0.0</td>\n",
       "      <td>0.0</td>\n",
       "      <td>658</td>\n",
       "    </tr>\n",
       "  </tbody>\n",
       "</table>\n",
       "<p>648 rows × 16 columns</p>\n",
       "</div>"
      ],
      "text/plain": [
       "     Seasons_Autumn  Seasons_Spring  Seasons_Summer  Seasons_Winter  \\\n",
       "0                 1               0               0               0   \n",
       "1                 1               0               0               0   \n",
       "2                 1               0               0               0   \n",
       "3                 1               0               0               0   \n",
       "4                 1               0               0               0   \n",
       "..              ...             ...             ...             ...   \n",
       "643               1               0               0               0   \n",
       "644               1               0               0               0   \n",
       "645               1               0               0               0   \n",
       "646               1               0               0               0   \n",
       "647               1               0               0               0   \n",
       "\n",
       "     Holiday_Holiday  Holiday_No Holiday  Hour  Temperature  Humidity  \\\n",
       "0                  0                   1     0          5.7        62   \n",
       "1                  0                   1     1          5.1        65   \n",
       "2                  0                   1     2          4.4        64   \n",
       "3                  0                   1     3          4.2        65   \n",
       "4                  0                   1     4          3.6        70   \n",
       "..               ...                 ...   ...          ...       ...   \n",
       "643                0                   1    19          4.2        34   \n",
       "644                0                   1    20          3.4        37   \n",
       "645                0                   1    21          2.6        39   \n",
       "646                0                   1    22          2.1        41   \n",
       "647                0                   1    23          1.9        43   \n",
       "\n",
       "     Windspeed  Visibility  DewpointTem  SolarRadiation  Rainfall  Snowfall  \\\n",
       "0          2.0        1909         -1.0             0.0       0.0       0.0   \n",
       "1          2.0        1932         -0.9             0.0       0.0       0.0   \n",
       "2          1.0        2000         -1.8             0.0       0.0       0.0   \n",
       "3          1.0        1962         -1.8             0.0       0.0       0.0   \n",
       "4          1.0        1934         -1.3             0.0       0.0       0.0   \n",
       "..         ...         ...          ...             ...       ...       ...   \n",
       "643        3.0        1894        -10.3             0.0       0.0       0.0   \n",
       "644        2.0        2000         -9.9             0.0       0.0       0.0   \n",
       "645        0.0        1968         -9.9             0.0       0.0       0.0   \n",
       "646        1.0        1859         -9.8             0.0       0.0       0.0   \n",
       "647        1.0        1909         -9.3             0.0       0.0       0.0   \n",
       "\n",
       "     BikeCount  \n",
       "0          531  \n",
       "1          531  \n",
       "2          123  \n",
       "3          123  \n",
       "4          123  \n",
       "..         ...  \n",
       "643        658  \n",
       "644        658  \n",
       "645        658  \n",
       "646        658  \n",
       "647        658  \n",
       "\n",
       "[648 rows x 16 columns]"
      ]
     },
     "execution_count": 241,
     "metadata": {},
     "output_type": "execute_result"
    }
   ],
   "source": [
    "test2"
   ]
  },
  {
   "cell_type": "markdown",
   "id": "4ac2b89f",
   "metadata": {},
   "source": [
    "## 6.2 일부만 선택"
   ]
  },
  {
   "cell_type": "code",
   "execution_count": 208,
   "id": "399a7067",
   "metadata": {},
   "outputs": [],
   "source": [
    "# 모델 : Decision Tree\n",
    "# 하이퍼파라미터 : Manual Search\n",
    "## 모델 선언\n",
    "final_model = DecisionTreeClassifier(random_state=42, \n",
    "                                 min_samples_split= 2, min_samples_leaf = 6)"
   ]
  },
  {
   "cell_type": "code",
   "execution_count": 222,
   "id": "f0690667",
   "metadata": {},
   "outputs": [
    {
     "data": {
      "text/html": [
       "<style>#sk-container-id-11 {color: black;background-color: white;}#sk-container-id-11 pre{padding: 0;}#sk-container-id-11 div.sk-toggleable {background-color: white;}#sk-container-id-11 label.sk-toggleable__label {cursor: pointer;display: block;width: 100%;margin-bottom: 0;padding: 0.3em;box-sizing: border-box;text-align: center;}#sk-container-id-11 label.sk-toggleable__label-arrow:before {content: \"▸\";float: left;margin-right: 0.25em;color: #696969;}#sk-container-id-11 label.sk-toggleable__label-arrow:hover:before {color: black;}#sk-container-id-11 div.sk-estimator:hover label.sk-toggleable__label-arrow:before {color: black;}#sk-container-id-11 div.sk-toggleable__content {max-height: 0;max-width: 0;overflow: hidden;text-align: left;background-color: #f0f8ff;}#sk-container-id-11 div.sk-toggleable__content pre {margin: 0.2em;color: black;border-radius: 0.25em;background-color: #f0f8ff;}#sk-container-id-11 input.sk-toggleable__control:checked~div.sk-toggleable__content {max-height: 200px;max-width: 100%;overflow: auto;}#sk-container-id-11 input.sk-toggleable__control:checked~label.sk-toggleable__label-arrow:before {content: \"▾\";}#sk-container-id-11 div.sk-estimator input.sk-toggleable__control:checked~label.sk-toggleable__label {background-color: #d4ebff;}#sk-container-id-11 div.sk-label input.sk-toggleable__control:checked~label.sk-toggleable__label {background-color: #d4ebff;}#sk-container-id-11 input.sk-hidden--visually {border: 0;clip: rect(1px 1px 1px 1px);clip: rect(1px, 1px, 1px, 1px);height: 1px;margin: -1px;overflow: hidden;padding: 0;position: absolute;width: 1px;}#sk-container-id-11 div.sk-estimator {font-family: monospace;background-color: #f0f8ff;border: 1px dotted black;border-radius: 0.25em;box-sizing: border-box;margin-bottom: 0.5em;}#sk-container-id-11 div.sk-estimator:hover {background-color: #d4ebff;}#sk-container-id-11 div.sk-parallel-item::after {content: \"\";width: 100%;border-bottom: 1px solid gray;flex-grow: 1;}#sk-container-id-11 div.sk-label:hover label.sk-toggleable__label {background-color: #d4ebff;}#sk-container-id-11 div.sk-serial::before {content: \"\";position: absolute;border-left: 1px solid gray;box-sizing: border-box;top: 0;bottom: 0;left: 50%;z-index: 0;}#sk-container-id-11 div.sk-serial {display: flex;flex-direction: column;align-items: center;background-color: white;padding-right: 0.2em;padding-left: 0.2em;position: relative;}#sk-container-id-11 div.sk-item {position: relative;z-index: 1;}#sk-container-id-11 div.sk-parallel {display: flex;align-items: stretch;justify-content: center;background-color: white;position: relative;}#sk-container-id-11 div.sk-item::before, #sk-container-id-11 div.sk-parallel-item::before {content: \"\";position: absolute;border-left: 1px solid gray;box-sizing: border-box;top: 0;bottom: 0;left: 50%;z-index: -1;}#sk-container-id-11 div.sk-parallel-item {display: flex;flex-direction: column;z-index: 1;position: relative;background-color: white;}#sk-container-id-11 div.sk-parallel-item:first-child::after {align-self: flex-end;width: 50%;}#sk-container-id-11 div.sk-parallel-item:last-child::after {align-self: flex-start;width: 50%;}#sk-container-id-11 div.sk-parallel-item:only-child::after {width: 0;}#sk-container-id-11 div.sk-dashed-wrapped {border: 1px dashed gray;margin: 0 0.4em 0.5em 0.4em;box-sizing: border-box;padding-bottom: 0.4em;background-color: white;}#sk-container-id-11 div.sk-label label {font-family: monospace;font-weight: bold;display: inline-block;line-height: 1.2em;}#sk-container-id-11 div.sk-label-container {text-align: center;}#sk-container-id-11 div.sk-container {/* jupyter's `normalize.less` sets `[hidden] { display: none; }` but bootstrap.min.css set `[hidden] { display: none !important; }` so we also need the `!important` here to be able to override the default hidden behavior on the sphinx rendered scikit-learn.org. See: https://github.com/scikit-learn/scikit-learn/issues/21755 */display: inline-block !important;position: relative;}#sk-container-id-11 div.sk-text-repr-fallback {display: none;}</style><div id=\"sk-container-id-11\" class=\"sk-top-container\"><div class=\"sk-text-repr-fallback\"><pre>DecisionTreeClassifier(min_samples_leaf=6, random_state=42)</pre><b>In a Jupyter environment, please rerun this cell to show the HTML representation or trust the notebook. <br />On GitHub, the HTML representation is unable to render, please try loading this page with nbviewer.org.</b></div><div class=\"sk-container\" hidden><div class=\"sk-item\"><div class=\"sk-estimator sk-toggleable\"><input class=\"sk-toggleable__control sk-hidden--visually\" id=\"sk-estimator-id-11\" type=\"checkbox\" checked><label for=\"sk-estimator-id-11\" class=\"sk-toggleable__label sk-toggleable__label-arrow\">DecisionTreeClassifier</label><div class=\"sk-toggleable__content\"><pre>DecisionTreeClassifier(min_samples_leaf=6, random_state=42)</pre></div></div></div></div></div>"
      ],
      "text/plain": [
       "DecisionTreeClassifier(min_samples_leaf=6, random_state=42)"
      ]
     },
     "execution_count": 222,
     "metadata": {},
     "output_type": "execute_result"
    }
   ],
   "source": [
    "## 모델 학습\n",
    "final_model.fit(x_train, y_train)"
   ]
  },
  {
   "cell_type": "code",
   "execution_count": 225,
   "id": "6aed2243",
   "metadata": {},
   "outputs": [
    {
     "name": "stdout",
     "output_type": "stream",
     "text": [
      "<class 'pandas.core.frame.DataFrame'>\n",
      "RangeIndex: 648 entries, 0 to 647\n",
      "Data columns (total 7 columns):\n",
      " #   Column          Non-Null Count  Dtype  \n",
      "---  ------          --------------  -----  \n",
      " 0   Hour            648 non-null    int64  \n",
      " 1   Temperature     648 non-null    float64\n",
      " 2   Humidity        648 non-null    int64  \n",
      " 3   Windspeed       648 non-null    float64\n",
      " 4   Visibility      648 non-null    int64  \n",
      " 5   DewpointTem     648 non-null    float64\n",
      " 6   SolarRadiation  648 non-null    float64\n",
      "dtypes: float64(4), int64(3)\n",
      "memory usage: 35.6 KB\n"
     ]
    }
   ],
   "source": [
    "x_test.info()"
   ]
  },
  {
   "cell_type": "code",
   "execution_count": 227,
   "id": "213069ec",
   "metadata": {},
   "outputs": [
    {
     "name": "stdout",
     "output_type": "stream",
     "text": [
      "<class 'pandas.core.frame.DataFrame'>\n",
      "RangeIndex: 648 entries, 0 to 647\n",
      "Data columns (total 7 columns):\n",
      " #   Column          Non-Null Count  Dtype  \n",
      "---  ------          --------------  -----  \n",
      " 0   Hour            648 non-null    int64  \n",
      " 1   Temperature     648 non-null    float64\n",
      " 2   Humidity        648 non-null    int64  \n",
      " 3   Windspeed       648 non-null    float64\n",
      " 4   Visibility      648 non-null    int64  \n",
      " 5   DewpointTem     648 non-null    float64\n",
      " 6   SolarRadiation  648 non-null    float64\n",
      "dtypes: float64(4), int64(3)\n",
      "memory usage: 35.6 KB\n"
     ]
    }
   ],
   "source": [
    "test_final.info()"
   ]
  },
  {
   "cell_type": "code",
   "execution_count": 228,
   "id": "e40291fc",
   "metadata": {},
   "outputs": [],
   "source": [
    "#### test 데이터로 예측\n",
    "test_final['BikeCount'] = 0\n",
    "test_final['BikeCount'] = final_model.predict(x_test)"
   ]
  },
  {
   "cell_type": "code",
   "execution_count": 230,
   "id": "85481a55",
   "metadata": {},
   "outputs": [
    {
     "data": {
      "text/html": [
       "<div>\n",
       "<style scoped>\n",
       "    .dataframe tbody tr th:only-of-type {\n",
       "        vertical-align: middle;\n",
       "    }\n",
       "\n",
       "    .dataframe tbody tr th {\n",
       "        vertical-align: top;\n",
       "    }\n",
       "\n",
       "    .dataframe thead th {\n",
       "        text-align: right;\n",
       "    }\n",
       "</style>\n",
       "<table border=\"1\" class=\"dataframe\">\n",
       "  <thead>\n",
       "    <tr style=\"text-align: right;\">\n",
       "      <th></th>\n",
       "      <th>Hour</th>\n",
       "      <th>Temperature</th>\n",
       "      <th>Humidity</th>\n",
       "      <th>Windspeed</th>\n",
       "      <th>Visibility</th>\n",
       "      <th>DewpointTem</th>\n",
       "      <th>SolarRadiation</th>\n",
       "      <th>BikeCount</th>\n",
       "    </tr>\n",
       "  </thead>\n",
       "  <tbody>\n",
       "    <tr>\n",
       "      <th>0</th>\n",
       "      <td>0</td>\n",
       "      <td>5.7</td>\n",
       "      <td>62</td>\n",
       "      <td>2.0</td>\n",
       "      <td>1909</td>\n",
       "      <td>-1.0</td>\n",
       "      <td>0.0</td>\n",
       "      <td>178</td>\n",
       "    </tr>\n",
       "    <tr>\n",
       "      <th>1</th>\n",
       "      <td>1</td>\n",
       "      <td>5.1</td>\n",
       "      <td>65</td>\n",
       "      <td>2.0</td>\n",
       "      <td>1932</td>\n",
       "      <td>-0.9</td>\n",
       "      <td>0.0</td>\n",
       "      <td>178</td>\n",
       "    </tr>\n",
       "    <tr>\n",
       "      <th>2</th>\n",
       "      <td>2</td>\n",
       "      <td>4.4</td>\n",
       "      <td>64</td>\n",
       "      <td>1.0</td>\n",
       "      <td>2000</td>\n",
       "      <td>-1.8</td>\n",
       "      <td>0.0</td>\n",
       "      <td>122</td>\n",
       "    </tr>\n",
       "    <tr>\n",
       "      <th>3</th>\n",
       "      <td>3</td>\n",
       "      <td>4.2</td>\n",
       "      <td>65</td>\n",
       "      <td>1.0</td>\n",
       "      <td>1962</td>\n",
       "      <td>-1.8</td>\n",
       "      <td>0.0</td>\n",
       "      <td>82</td>\n",
       "    </tr>\n",
       "    <tr>\n",
       "      <th>4</th>\n",
       "      <td>4</td>\n",
       "      <td>3.6</td>\n",
       "      <td>70</td>\n",
       "      <td>1.0</td>\n",
       "      <td>1934</td>\n",
       "      <td>-1.3</td>\n",
       "      <td>0.0</td>\n",
       "      <td>80</td>\n",
       "    </tr>\n",
       "    <tr>\n",
       "      <th>...</th>\n",
       "      <td>...</td>\n",
       "      <td>...</td>\n",
       "      <td>...</td>\n",
       "      <td>...</td>\n",
       "      <td>...</td>\n",
       "      <td>...</td>\n",
       "      <td>...</td>\n",
       "      <td>...</td>\n",
       "    </tr>\n",
       "    <tr>\n",
       "      <th>643</th>\n",
       "      <td>19</td>\n",
       "      <td>4.2</td>\n",
       "      <td>34</td>\n",
       "      <td>3.0</td>\n",
       "      <td>1894</td>\n",
       "      <td>-10.3</td>\n",
       "      <td>0.0</td>\n",
       "      <td>189</td>\n",
       "    </tr>\n",
       "    <tr>\n",
       "      <th>644</th>\n",
       "      <td>20</td>\n",
       "      <td>3.4</td>\n",
       "      <td>37</td>\n",
       "      <td>2.0</td>\n",
       "      <td>2000</td>\n",
       "      <td>-9.9</td>\n",
       "      <td>0.0</td>\n",
       "      <td>374</td>\n",
       "    </tr>\n",
       "    <tr>\n",
       "      <th>645</th>\n",
       "      <td>21</td>\n",
       "      <td>2.6</td>\n",
       "      <td>39</td>\n",
       "      <td>0.0</td>\n",
       "      <td>1968</td>\n",
       "      <td>-9.9</td>\n",
       "      <td>0.0</td>\n",
       "      <td>374</td>\n",
       "    </tr>\n",
       "    <tr>\n",
       "      <th>646</th>\n",
       "      <td>22</td>\n",
       "      <td>2.1</td>\n",
       "      <td>41</td>\n",
       "      <td>1.0</td>\n",
       "      <td>1859</td>\n",
       "      <td>-9.8</td>\n",
       "      <td>0.0</td>\n",
       "      <td>374</td>\n",
       "    </tr>\n",
       "    <tr>\n",
       "      <th>647</th>\n",
       "      <td>23</td>\n",
       "      <td>1.9</td>\n",
       "      <td>43</td>\n",
       "      <td>1.0</td>\n",
       "      <td>1909</td>\n",
       "      <td>-9.3</td>\n",
       "      <td>0.0</td>\n",
       "      <td>144</td>\n",
       "    </tr>\n",
       "  </tbody>\n",
       "</table>\n",
       "<p>648 rows × 8 columns</p>\n",
       "</div>"
      ],
      "text/plain": [
       "     Hour  Temperature  Humidity  Windspeed  Visibility  DewpointTem  \\\n",
       "0       0          5.7        62        2.0        1909         -1.0   \n",
       "1       1          5.1        65        2.0        1932         -0.9   \n",
       "2       2          4.4        64        1.0        2000         -1.8   \n",
       "3       3          4.2        65        1.0        1962         -1.8   \n",
       "4       4          3.6        70        1.0        1934         -1.3   \n",
       "..    ...          ...       ...        ...         ...          ...   \n",
       "643    19          4.2        34        3.0        1894        -10.3   \n",
       "644    20          3.4        37        2.0        2000         -9.9   \n",
       "645    21          2.6        39        0.0        1968         -9.9   \n",
       "646    22          2.1        41        1.0        1859         -9.8   \n",
       "647    23          1.9        43        1.0        1909         -9.3   \n",
       "\n",
       "     SolarRadiation  BikeCount  \n",
       "0               0.0        178  \n",
       "1               0.0        178  \n",
       "2               0.0        122  \n",
       "3               0.0         82  \n",
       "4               0.0         80  \n",
       "..              ...        ...  \n",
       "643             0.0        189  \n",
       "644             0.0        374  \n",
       "645             0.0        374  \n",
       "646             0.0        374  \n",
       "647             0.0        144  \n",
       "\n",
       "[648 rows x 8 columns]"
      ]
     },
     "execution_count": 230,
     "metadata": {},
     "output_type": "execute_result"
    }
   ],
   "source": [
    "test_final"
   ]
  },
  {
   "cell_type": "markdown",
   "id": "ffa520ac",
   "metadata": {},
   "source": [
    "# 7. k-fold 검증"
   ]
  },
  {
   "cell_type": "markdown",
   "id": "908451fd",
   "metadata": {},
   "source": [
    "## 7.1 일부만 선택"
   ]
  },
  {
   "cell_type": "code",
   "execution_count": 232,
   "id": "322c837a",
   "metadata": {},
   "outputs": [],
   "source": [
    "X_train = train_final.drop(['BikeCount'], axis =1)\n",
    "y_train = train_final['BikeCount']"
   ]
  },
  {
   "cell_type": "code",
   "execution_count": 233,
   "id": "573fba34",
   "metadata": {},
   "outputs": [],
   "source": [
    "from sklearn.model_selection import KFold\n",
    "\n",
    "kfold = KFold(n_splits=5, shuffle=True, random_state=10)"
   ]
  },
  {
   "cell_type": "code",
   "execution_count": 234,
   "id": "1fa7d634",
   "metadata": {},
   "outputs": [],
   "source": [
    "model_k = DecisionTreeClassifier(random_state=42, min_samples_split= 2, min_samples_leaf = 6)"
   ]
  },
  {
   "cell_type": "code",
   "execution_count": 235,
   "id": "cf060fae",
   "metadata": {},
   "outputs": [
    {
     "name": "stdout",
     "output_type": "stream",
     "text": [
      "예측 완료\n",
      "예측 완료\n",
      "예측 완료\n",
      "예측 완료\n",
      "예측 완료\n"
     ]
    }
   ],
   "source": [
    "r2 = []\n",
    "\n",
    "for trn_idx, val_idx in kfold.split(X_train):\n",
    "    \n",
    "    X_trn, y_trn = X_train.iloc[trn_idx, :], y_train.iloc[trn_idx]\n",
    "    X_val, y_val = X_train.iloc[val_idx, :], y_train.iloc[val_idx]\n",
    "    \n",
    "    model_k.fit(X_trn, y_trn)\n",
    "    \n",
    "    y_pred = model_k.predict(X_val)\n",
    "    \n",
    "    print('예측 완료')\n",
    "    \n",
    "    r2.append(r2_score(y_val, y_pred))"
   ]
  },
  {
   "cell_type": "code",
   "execution_count": 236,
   "id": "c6c11070",
   "metadata": {},
   "outputs": [
    {
     "data": {
      "text/plain": [
       "[0.4880615715355542,\n",
       " 0.4622817842400162,\n",
       " 0.43128230266015954,\n",
       " 0.4854457768370182,\n",
       " 0.48830785105462593]"
      ]
     },
     "execution_count": 236,
     "metadata": {},
     "output_type": "execute_result"
    }
   ],
   "source": [
    "r2"
   ]
  },
  {
   "cell_type": "markdown",
   "id": "8ea48d96",
   "metadata": {},
   "source": [
    "## 7.2 전체 선택"
   ]
  },
  {
   "cell_type": "code",
   "execution_count": 176,
   "id": "2d684d4e",
   "metadata": {},
   "outputs": [],
   "source": [
    "train = pd.read_csv(\"train_clean.csv\")\n",
    "test = pd.read_csv(\"test_clean.csv\")"
   ]
  },
  {
   "cell_type": "code",
   "execution_count": 182,
   "id": "730e0cf7",
   "metadata": {},
   "outputs": [],
   "source": [
    "# train\n",
    "train2 = train.drop(train.columns[16:25], axis=1)\n",
    "train2 = train2.drop(train.columns[6], axis=1)\n",
    "\n",
    "# test\n",
    "test2 =  test.drop(test.columns[16:25], axis=1)\n",
    "test2 = test2.drop(test.columns[6], axis=1)"
   ]
  },
  {
   "cell_type": "code",
   "execution_count": 184,
   "id": "b6b976af",
   "metadata": {},
   "outputs": [],
   "source": [
    "X_train = train2.drop(['BikeCount'], axis =1)\n",
    "y_train = train2['BikeCount']"
   ]
  },
  {
   "cell_type": "code",
   "execution_count": 185,
   "id": "7a1bdaa6",
   "metadata": {},
   "outputs": [],
   "source": [
    "model_k = RandomForestClassifier(random_state=42, max_depth= 20,\n",
    "                                 min_samples_split= 5, min_samples_leaf=5 ,n_estimators= 300)"
   ]
  },
  {
   "cell_type": "code",
   "execution_count": 186,
   "id": "1a3bfaae",
   "metadata": {},
   "outputs": [
    {
     "name": "stdout",
     "output_type": "stream",
     "text": [
      "예측 완료\n",
      "예측 완료\n",
      "예측 완료\n",
      "예측 완료\n",
      "예측 완료\n"
     ]
    }
   ],
   "source": [
    "r2 = []\n",
    "\n",
    "for trn_idx, val_idx in kfold.split(X_train):\n",
    "    \n",
    "    X_trn, y_trn = X_train.iloc[trn_idx, :], y_train.iloc[trn_idx]\n",
    "    X_val, y_val = X_train.iloc[val_idx, :], y_train.iloc[val_idx]\n",
    "    \n",
    "    model_k.fit(X_trn, y_trn)\n",
    "    \n",
    "    y_pred = model_k.predict(X_val)\n",
    "    \n",
    "    print('예측 완료')\n",
    "    \n",
    "    r2.append(r2_score(y_val, y_pred))"
   ]
  },
  {
   "cell_type": "code",
   "execution_count": 187,
   "id": "a0386919",
   "metadata": {},
   "outputs": [
    {
     "data": {
      "text/plain": [
       "[0.771647749833791,\n",
       " 0.7711207001043365,\n",
       " 0.7538372278511689,\n",
       " 0.7615449874149431,\n",
       " 0.7676490220043752]"
      ]
     },
     "execution_count": 187,
     "metadata": {},
     "output_type": "execute_result"
    }
   ],
   "source": [
    "r2"
   ]
  },
  {
   "cell_type": "markdown",
   "id": "b8485c15",
   "metadata": {},
   "source": [
    "# 결론\n",
    "단일 데이터셋과, k-fold 데이터셋에서의 성능 평가 결과가 다름.\n",
    "- 단일 데이터셋에서의 성능 평가: \n",
    "    - 단일 데이터셋에서의 성능 평가는 일반적으로 훈련 데이터셋과 검증 데이터셋 또는 테스트 데이터셋을 나누어서 수행.\n",
    "    - 이 경우 모델은 전체 데이터셋에서 훈련되고, 훈련 데이터셋에 대한 성능은 단일 지표(예: R^2)로 평가\n",
    "    - 그러나 이 방법은 특정 데이터셋에 과적합될 수 있으며, 데이터셋의 무작위성에 따라 결과가 달라질 수 있음.\n",
    "\n",
    "- K-폴드 교차 검증에서의 성능 평가: \n",
    "    - K-폴드 교차 검증은 데이터를 여러 번 나누어서 모델을 훈련하고 평가\n",
    "    - 이 경우 전체 데이터셋이 여러 부분으로 나뉘어지며, 각 부분에 대해 모델이 여러 번 훈련되고 평가\n",
    "    - 따라서 모델의 성능은 여러 번의 평가를 통해 계산된 평균값으로 나타남.\n",
    "    - 이 방법은 데이터의 무작위성에 덜 영향을 받으며, 모델의 일반화 성능을 더 잘 반영할 수 있음.\n",
    "\n",
    "두 방법으로 평가된 모델의 성능이 데이터의 분할 방법과 모델의 일반화에 대한 고려 사항에 따라 다를 수 있다고 함.  \n",
    "일반적으로는 K-폴드 교차 검증이 모델의 성능을 더 정확히 분석한다고 하므로, 전체 feature를 선택하겠음."
   ]
  },
  {
   "cell_type": "code",
   "execution_count": 243,
   "id": "487f18b2",
   "metadata": {},
   "outputs": [],
   "source": [
    "test2.to_csv('test_예측완료_현민영.csv', index = False)"
   ]
  }
 ],
 "metadata": {
  "kernelspec": {
   "display_name": "Python 3 (ipykernel)",
   "language": "python",
   "name": "python3"
  },
  "language_info": {
   "codemirror_mode": {
    "name": "ipython",
    "version": 3
   },
   "file_extension": ".py",
   "mimetype": "text/x-python",
   "name": "python",
   "nbconvert_exporter": "python",
   "pygments_lexer": "ipython3",
   "version": "3.10.9"
  }
 },
 "nbformat": 4,
 "nbformat_minor": 5
}
